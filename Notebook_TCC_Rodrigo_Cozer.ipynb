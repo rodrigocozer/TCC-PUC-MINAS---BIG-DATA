{
 "cells": [
  {
   "cell_type": "code",
   "execution_count": 1,
   "metadata": {},
   "outputs": [],
   "source": [
    "import numpy as np\n",
    "import pandas as pd\n",
    "import seaborn as sns\n",
    "import matplotlib.pyplot as plt\n",
    "%matplotlib inline"
   ]
  },
  {
   "cell_type": "markdown",
   "metadata": {},
   "source": [
    "# 3. Processamento/Tratamento de Dados"
   ]
  },
  {
   "cell_type": "code",
   "execution_count": 2,
   "metadata": {},
   "outputs": [],
   "source": [
    "#IMPORTAÇÃO DATASET SIVANA - PRIMÁRIO\n",
    "df_prim = pd.read_excel('DATASET_07_05_2021-17hs_a_19hs.xls')"
   ]
  },
  {
   "cell_type": "code",
   "execution_count": 3,
   "metadata": {},
   "outputs": [],
   "source": [
    "#EXTRAÇÃO DO PRIMEIRO E QUINTO DIGITO DAS PLACAS\n",
    "df_prim['Placa'] = df_prim['Placa'].astype(str)\n",
    "df_prim['1_Letra'] = df_prim['Placa'].str.get(0)\n",
    "df_prim['5_Dígito'] = df_prim['Placa'].str.get(4)"
   ]
  },
  {
   "cell_type": "code",
   "execution_count": 4,
   "metadata": {},
   "outputs": [],
   "source": [
    "#APLICANDO HASH NA COLUNA PLACAS\n",
    "df_prim['PlacaHash'] = pd.util.hash_pandas_object(df_prim['Placa'], index=False)"
   ]
  },
  {
   "cell_type": "code",
   "execution_count": 5,
   "metadata": {},
   "outputs": [
    {
     "data": {
      "text/plain": [
       "Index(['Nr', 'Placa', 'Leitura', 'Placa Correta', 'Data Hora', 'Operadora',\n",
       "       'Praça', 'Sentido', 'Dia da Semana', 'Categoria', 'Conf', '1_Letra',\n",
       "       '5_Dígito', 'PlacaHash'],\n",
       "      dtype='object')"
      ]
     },
     "execution_count": 5,
     "metadata": {},
     "output_type": "execute_result"
    }
   ],
   "source": [
    "df_prim.columns"
   ]
  },
  {
   "cell_type": "code",
   "execution_count": 6,
   "metadata": {},
   "outputs": [],
   "source": [
    "#REORDENANDO COLUNAS\n",
    "df_prim = df_prim.reindex(columns=['Nr', 'Placa','PlacaHash','1_Letra','5_Dígito','Leitura', 'Placa Correta', 'Data Hora', 'Operadora',\n",
    "       'Praça', 'Sentido', 'Dia da Semana', 'Categoria', 'Conf'])"
   ]
  },
  {
   "cell_type": "code",
   "execution_count": 7,
   "metadata": {},
   "outputs": [],
   "source": [
    "#RETIRANDO COLUNAS 'Placa' e 'Placa Correta'\n",
    "df_prim.drop(['Placa','Placa Correta'], axis=1, inplace=True)"
   ]
  },
  {
   "cell_type": "code",
   "execution_count": 8,
   "metadata": {},
   "outputs": [],
   "source": [
    "#EXPORTANDO DATASET PARA TCC\n",
    "df_prim.to_excel('df_prim.xlsx', encoding='utf-8', index=False)"
   ]
  },
  {
   "cell_type": "code",
   "execution_count": 9,
   "metadata": {},
   "outputs": [
    {
     "data": {
      "text/html": [
       "<div>\n",
       "<style scoped>\n",
       "    .dataframe tbody tr th:only-of-type {\n",
       "        vertical-align: middle;\n",
       "    }\n",
       "\n",
       "    .dataframe tbody tr th {\n",
       "        vertical-align: top;\n",
       "    }\n",
       "\n",
       "    .dataframe thead th {\n",
       "        text-align: right;\n",
       "    }\n",
       "</style>\n",
       "<table border=\"1\" class=\"dataframe\">\n",
       "  <thead>\n",
       "    <tr style=\"text-align: right;\">\n",
       "      <th></th>\n",
       "      <th>Nr</th>\n",
       "      <th>PlacaHash</th>\n",
       "      <th>1_Letra</th>\n",
       "      <th>5_Dígito</th>\n",
       "      <th>Leitura</th>\n",
       "      <th>Data Hora</th>\n",
       "      <th>Operadora</th>\n",
       "      <th>Praça</th>\n",
       "      <th>Sentido</th>\n",
       "      <th>Dia da Semana</th>\n",
       "      <th>Categoria</th>\n",
       "      <th>Conf</th>\n",
       "    </tr>\n",
       "  </thead>\n",
       "  <tbody>\n",
       "    <tr>\n",
       "      <th>0</th>\n",
       "      <td>1</td>\n",
       "      <td>16818951966726593698</td>\n",
       "      <td>A</td>\n",
       "      <td>3</td>\n",
       "      <td>0</td>\n",
       "      <td>07/05/2021 17:00</td>\n",
       "      <td>RFB</td>\n",
       "      <td>Guaíra RFB</td>\n",
       "      <td>Mundo Novo &gt; Guaíra</td>\n",
       "      <td>Sexta</td>\n",
       "      <td>nac:BRA_face:T_conf:</td>\n",
       "      <td>87</td>\n",
       "    </tr>\n",
       "    <tr>\n",
       "      <th>1</th>\n",
       "      <td>2</td>\n",
       "      <td>4578175391450274026</td>\n",
       "      <td>D</td>\n",
       "      <td>G</td>\n",
       "      <td>0</td>\n",
       "      <td>07/05/2021 17:00</td>\n",
       "      <td>RFB</td>\n",
       "      <td>Guaíra RFB</td>\n",
       "      <td>Mundo Novo &gt; Guaíra</td>\n",
       "      <td>Sexta</td>\n",
       "      <td>nac:BRA_face:T_conf:</td>\n",
       "      <td>78</td>\n",
       "    </tr>\n",
       "    <tr>\n",
       "      <th>2</th>\n",
       "      <td>3</td>\n",
       "      <td>7385877233923986733</td>\n",
       "      <td>D</td>\n",
       "      <td>G</td>\n",
       "      <td>1</td>\n",
       "      <td>07/05/2021 17:00</td>\n",
       "      <td>RFB</td>\n",
       "      <td>Guaíra RFB</td>\n",
       "      <td>Mundo Novo &gt; Guaíra</td>\n",
       "      <td>Sexta</td>\n",
       "      <td>nac:BRA_face:T_conf:</td>\n",
       "      <td>82</td>\n",
       "    </tr>\n",
       "  </tbody>\n",
       "</table>\n",
       "</div>"
      ],
      "text/plain": [
       "   Nr             PlacaHash 1_Letra 5_Dígito  Leitura         Data Hora  \\\n",
       "0   1  16818951966726593698       A        3        0  07/05/2021 17:00   \n",
       "1   2   4578175391450274026       D        G        0  07/05/2021 17:00   \n",
       "2   3   7385877233923986733       D        G        1  07/05/2021 17:00   \n",
       "\n",
       "  Operadora       Praça              Sentido Dia da Semana  \\\n",
       "0       RFB  Guaíra RFB  Mundo Novo > Guaíra         Sexta   \n",
       "1       RFB  Guaíra RFB  Mundo Novo > Guaíra         Sexta   \n",
       "2       RFB  Guaíra RFB  Mundo Novo > Guaíra         Sexta   \n",
       "\n",
       "              Categoria  Conf  \n",
       "0  nac:BRA_face:T_conf:    87  \n",
       "1  nac:BRA_face:T_conf:    78  \n",
       "2  nac:BRA_face:T_conf:    82  "
      ]
     },
     "execution_count": 9,
     "metadata": {},
     "output_type": "execute_result"
    }
   ],
   "source": [
    "df_prim.head(3)"
   ]
  },
  {
   "cell_type": "code",
   "execution_count": 10,
   "metadata": {},
   "outputs": [],
   "source": [
    "#IMPORTAÇÃO DATASET RENAVAM - SECUNDÁRIO\n",
    "df_sec = pd.read_excel('DATASET_07_05_2021-17hs_a_19hs_RENAVAM.xls')"
   ]
  },
  {
   "cell_type": "code",
   "execution_count": 11,
   "metadata": {},
   "outputs": [],
   "source": [
    "#APLICANDO HASH NA COLUNA PLACAS\n",
    "df_sec['PlacaHash'] = pd.util.hash_pandas_object(df_sec['PLACA'], index=False)"
   ]
  },
  {
   "cell_type": "code",
   "execution_count": 12,
   "metadata": {},
   "outputs": [
    {
     "data": {
      "text/plain": [
       "Index(['UF', 'PLACA', 'MUNICIPIO', 'MARCA/MODELO', 'TIPO NI', 'CNPJ/CPF',\n",
       "       'TIPO-VEICULO', 'COR', 'ANO-MODELO', 'ANO-FABRICACAO',\n",
       "       'ULT-ATUALIZACAO', 'SITUACAO', 'RESTRICOES', 'PlacaHash'],\n",
       "      dtype='object')"
      ]
     },
     "execution_count": 12,
     "metadata": {},
     "output_type": "execute_result"
    }
   ],
   "source": [
    "df_sec.columns"
   ]
  },
  {
   "cell_type": "code",
   "execution_count": 13,
   "metadata": {},
   "outputs": [],
   "source": [
    "#REORDENANDO COLUNAS\n",
    "df_sec = df_sec.reindex(columns=['PLACA', 'PlacaHash', 'MUNICIPIO','UF', 'MARCA/MODELO', 'TIPO NI', 'CNPJ/CPF',\n",
    "       'TIPO-VEICULO', 'COR', 'ANO-MODELO', 'ANO-FABRICACAO',\n",
    "       'ULT-ATUALIZACAO', 'SITUACAO', 'RESTRICOES'])"
   ]
  },
  {
   "cell_type": "code",
   "execution_count": 14,
   "metadata": {},
   "outputs": [],
   "source": [
    "#RETIRANDO COLUNAS 'PLACA','TIPO NI','CNPJ/CPF'\n",
    "df_sec.drop(['PLACA','TIPO NI','CNPJ/CPF'], axis=1, inplace=True)"
   ]
  },
  {
   "cell_type": "code",
   "execution_count": 15,
   "metadata": {},
   "outputs": [],
   "source": [
    "#EXPORTANDO DATASET PARA TCC\n",
    "df_sec.to_excel('df_sec.xlsx', encoding='utf-8', index=False)"
   ]
  },
  {
   "cell_type": "code",
   "execution_count": 16,
   "metadata": {},
   "outputs": [
    {
     "data": {
      "text/html": [
       "<div>\n",
       "<style scoped>\n",
       "    .dataframe tbody tr th:only-of-type {\n",
       "        vertical-align: middle;\n",
       "    }\n",
       "\n",
       "    .dataframe tbody tr th {\n",
       "        vertical-align: top;\n",
       "    }\n",
       "\n",
       "    .dataframe thead th {\n",
       "        text-align: right;\n",
       "    }\n",
       "</style>\n",
       "<table border=\"1\" class=\"dataframe\">\n",
       "  <thead>\n",
       "    <tr style=\"text-align: right;\">\n",
       "      <th></th>\n",
       "      <th>PlacaHash</th>\n",
       "      <th>MUNICIPIO</th>\n",
       "      <th>UF</th>\n",
       "      <th>MARCA/MODELO</th>\n",
       "      <th>TIPO-VEICULO</th>\n",
       "      <th>COR</th>\n",
       "      <th>ANO-MODELO</th>\n",
       "      <th>ANO-FABRICACAO</th>\n",
       "      <th>ULT-ATUALIZACAO</th>\n",
       "      <th>SITUACAO</th>\n",
       "      <th>RESTRICOES</th>\n",
       "    </tr>\n",
       "  </thead>\n",
       "  <tbody>\n",
       "    <tr>\n",
       "      <th>0</th>\n",
       "      <td>16818951966726593698</td>\n",
       "      <td>NOVA SANTA HELENA</td>\n",
       "      <td>MT</td>\n",
       "      <td>SR/GUERRA AG GR</td>\n",
       "      <td>S.REBOQUE</td>\n",
       "      <td>BRANCA</td>\n",
       "      <td>2010.0</td>\n",
       "      <td>2010.0</td>\n",
       "      <td>25/01/2019</td>\n",
       "      <td>CIRCULACAO</td>\n",
       "      <td>NAO HA</td>\n",
       "    </tr>\n",
       "    <tr>\n",
       "      <th>1</th>\n",
       "      <td>4578175391450274026</td>\n",
       "      <td>JAPORA</td>\n",
       "      <td>MS</td>\n",
       "      <td>TOYOTA/COROLLA XEI18VVT</td>\n",
       "      <td>AUTOMOVEL</td>\n",
       "      <td>PRETA</td>\n",
       "      <td>2005.0</td>\n",
       "      <td>2005.0</td>\n",
       "      <td>23/02/2021</td>\n",
       "      <td>CIRCULACAO</td>\n",
       "      <td>NAO HA|                                    ...</td>\n",
       "    </tr>\n",
       "    <tr>\n",
       "      <th>2</th>\n",
       "      <td>7385877233923986733</td>\n",
       "      <td>SAO JOSE DO RIO PRETO</td>\n",
       "      <td>SP</td>\n",
       "      <td>VW/PARATI 1.6 TRACKFIELD</td>\n",
       "      <td>AUTOMOVEL</td>\n",
       "      <td>PRETA</td>\n",
       "      <td>2008.0</td>\n",
       "      <td>2007.0</td>\n",
       "      <td>09/12/2020</td>\n",
       "      <td>CIRCULACAO</td>\n",
       "      <td>NAO HA</td>\n",
       "    </tr>\n",
       "  </tbody>\n",
       "</table>\n",
       "</div>"
      ],
      "text/plain": [
       "              PlacaHash              MUNICIPIO  UF              MARCA/MODELO  \\\n",
       "0  16818951966726593698      NOVA SANTA HELENA  MT           SR/GUERRA AG GR   \n",
       "1   4578175391450274026                 JAPORA  MS   TOYOTA/COROLLA XEI18VVT   \n",
       "2   7385877233923986733  SAO JOSE DO RIO PRETO  SP  VW/PARATI 1.6 TRACKFIELD   \n",
       "\n",
       "  TIPO-VEICULO     COR  ANO-MODELO  ANO-FABRICACAO ULT-ATUALIZACAO  \\\n",
       "0    S.REBOQUE  BRANCA      2010.0          2010.0      25/01/2019   \n",
       "1    AUTOMOVEL   PRETA      2005.0          2005.0      23/02/2021   \n",
       "2    AUTOMOVEL   PRETA      2008.0          2007.0      09/12/2020   \n",
       "\n",
       "     SITUACAO                                         RESTRICOES  \n",
       "0  CIRCULACAO                                             NAO HA  \n",
       "1  CIRCULACAO     NAO HA|                                    ...  \n",
       "2  CIRCULACAO                                             NAO HA  "
      ]
     },
     "execution_count": 16,
     "metadata": {},
     "output_type": "execute_result"
    }
   ],
   "source": [
    "df_sec.head(3)"
   ]
  },
  {
   "cell_type": "code",
   "execution_count": 17,
   "metadata": {},
   "outputs": [],
   "source": [
    "#MERGE\n",
    "df = pd.merge(df_prim,df_sec,how='inner', on='PlacaHash')"
   ]
  },
  {
   "cell_type": "code",
   "execution_count": 18,
   "metadata": {},
   "outputs": [],
   "source": [
    "#EXPORTANDO DATASET PARA TCC\n",
    "df.to_excel('df.xlsx', encoding='utf-8', index=False)"
   ]
  },
  {
   "cell_type": "code",
   "execution_count": 19,
   "metadata": {},
   "outputs": [],
   "source": [
    "#SEPARANDO COLUNA DATA E HORA\n",
    "df[['Data', 'Hora']] = df['Data Hora'].str.split(\" \", expand=True)"
   ]
  },
  {
   "cell_type": "code",
   "execution_count": 20,
   "metadata": {},
   "outputs": [
    {
     "data": {
      "text/plain": [
       "Index(['Nr', 'PlacaHash', '1_Letra', '5_Dígito', 'Leitura', 'Data Hora',\n",
       "       'Operadora', 'Praça', 'Sentido', 'Dia da Semana', 'Categoria', 'Conf',\n",
       "       'MUNICIPIO', 'UF', 'MARCA/MODELO', 'TIPO-VEICULO', 'COR', 'ANO-MODELO',\n",
       "       'ANO-FABRICACAO', 'ULT-ATUALIZACAO', 'SITUACAO', 'RESTRICOES', 'Data',\n",
       "       'Hora'],\n",
       "      dtype='object')"
      ]
     },
     "execution_count": 20,
     "metadata": {},
     "output_type": "execute_result"
    }
   ],
   "source": [
    "df.columns"
   ]
  },
  {
   "cell_type": "code",
   "execution_count": 21,
   "metadata": {},
   "outputs": [],
   "source": [
    "#ELIMINANDO COLUNAS CUJO VALOR É O MESMO PARA TODAS AS LINHAS - SEM VALOR PREDITIVO\n",
    "df.drop(['Nr', 'Data Hora', 'Operadora','Praça', 'Sentido',\n",
    "         'Dia da Semana','Categoria', 'Data'], axis=1, inplace=True)"
   ]
  },
  {
   "cell_type": "code",
   "execution_count": 22,
   "metadata": {},
   "outputs": [
    {
     "data": {
      "text/html": [
       "<div>\n",
       "<style scoped>\n",
       "    .dataframe tbody tr th:only-of-type {\n",
       "        vertical-align: middle;\n",
       "    }\n",
       "\n",
       "    .dataframe tbody tr th {\n",
       "        vertical-align: top;\n",
       "    }\n",
       "\n",
       "    .dataframe thead th {\n",
       "        text-align: right;\n",
       "    }\n",
       "</style>\n",
       "<table border=\"1\" class=\"dataframe\">\n",
       "  <thead>\n",
       "    <tr style=\"text-align: right;\">\n",
       "      <th></th>\n",
       "      <th>PlacaHash</th>\n",
       "      <th>1_Letra</th>\n",
       "      <th>5_Dígito</th>\n",
       "      <th>Leitura</th>\n",
       "      <th>Conf</th>\n",
       "      <th>MUNICIPIO</th>\n",
       "      <th>UF</th>\n",
       "      <th>MARCA/MODELO</th>\n",
       "      <th>TIPO-VEICULO</th>\n",
       "      <th>COR</th>\n",
       "      <th>ANO-MODELO</th>\n",
       "      <th>ANO-FABRICACAO</th>\n",
       "      <th>ULT-ATUALIZACAO</th>\n",
       "      <th>SITUACAO</th>\n",
       "      <th>RESTRICOES</th>\n",
       "      <th>Hora</th>\n",
       "    </tr>\n",
       "  </thead>\n",
       "  <tbody>\n",
       "    <tr>\n",
       "      <th>count</th>\n",
       "      <td>35</td>\n",
       "      <td>35</td>\n",
       "      <td>35</td>\n",
       "      <td>35</td>\n",
       "      <td>35</td>\n",
       "      <td>35</td>\n",
       "      <td>35</td>\n",
       "      <td>35</td>\n",
       "      <td>35</td>\n",
       "      <td>35</td>\n",
       "      <td>35</td>\n",
       "      <td>35</td>\n",
       "      <td>35</td>\n",
       "      <td>35</td>\n",
       "      <td>35</td>\n",
       "      <td>35</td>\n",
       "    </tr>\n",
       "  </tbody>\n",
       "</table>\n",
       "</div>"
      ],
      "text/plain": [
       "       PlacaHash  1_Letra  5_Dígito  Leitura  Conf  MUNICIPIO  UF  \\\n",
       "count         35       35        35       35    35         35  35   \n",
       "\n",
       "       MARCA/MODELO  TIPO-VEICULO  COR  ANO-MODELO  ANO-FABRICACAO  \\\n",
       "count            35            35   35          35              35   \n",
       "\n",
       "       ULT-ATUALIZACAO  SITUACAO  RESTRICOES  Hora  \n",
       "count               35        35          35    35  "
      ]
     },
     "execution_count": 22,
     "metadata": {},
     "output_type": "execute_result"
    }
   ],
   "source": [
    "#ANÁLISE PARA ESCOLHER ENTRE COLUNA ANO MODELO E ANO FABRICAÇÃO\n",
    "#ANO MODELO possui 35 registros = 0, enquanto ANO FABRICAÇÃO não possui nenhum\n",
    "#Registros ANO FABRICAÇÃO são mais consistentes\n",
    "df[df['ANO-MODELO']==0].agg(['count'])"
   ]
  },
  {
   "cell_type": "code",
   "execution_count": 23,
   "metadata": {},
   "outputs": [
    {
     "data": {
      "text/html": [
       "<div>\n",
       "<style scoped>\n",
       "    .dataframe tbody tr th:only-of-type {\n",
       "        vertical-align: middle;\n",
       "    }\n",
       "\n",
       "    .dataframe tbody tr th {\n",
       "        vertical-align: top;\n",
       "    }\n",
       "\n",
       "    .dataframe thead th {\n",
       "        text-align: right;\n",
       "    }\n",
       "</style>\n",
       "<table border=\"1\" class=\"dataframe\">\n",
       "  <thead>\n",
       "    <tr style=\"text-align: right;\">\n",
       "      <th></th>\n",
       "      <th>PlacaHash</th>\n",
       "      <th>1_Letra</th>\n",
       "      <th>5_Dígito</th>\n",
       "      <th>Leitura</th>\n",
       "      <th>Conf</th>\n",
       "      <th>MUNICIPIO</th>\n",
       "      <th>UF</th>\n",
       "      <th>MARCA/MODELO</th>\n",
       "      <th>TIPO-VEICULO</th>\n",
       "      <th>COR</th>\n",
       "      <th>ANO-MODELO</th>\n",
       "      <th>ANO-FABRICACAO</th>\n",
       "      <th>ULT-ATUALIZACAO</th>\n",
       "      <th>SITUACAO</th>\n",
       "      <th>RESTRICOES</th>\n",
       "      <th>Hora</th>\n",
       "    </tr>\n",
       "  </thead>\n",
       "  <tbody>\n",
       "    <tr>\n",
       "      <th>count</th>\n",
       "      <td>0</td>\n",
       "      <td>0</td>\n",
       "      <td>0</td>\n",
       "      <td>0</td>\n",
       "      <td>0</td>\n",
       "      <td>0</td>\n",
       "      <td>0</td>\n",
       "      <td>0</td>\n",
       "      <td>0</td>\n",
       "      <td>0</td>\n",
       "      <td>0</td>\n",
       "      <td>0</td>\n",
       "      <td>0</td>\n",
       "      <td>0</td>\n",
       "      <td>0</td>\n",
       "      <td>0</td>\n",
       "    </tr>\n",
       "  </tbody>\n",
       "</table>\n",
       "</div>"
      ],
      "text/plain": [
       "       PlacaHash  1_Letra  5_Dígito  Leitura  Conf  MUNICIPIO  UF  \\\n",
       "count          0        0         0        0     0          0   0   \n",
       "\n",
       "       MARCA/MODELO  TIPO-VEICULO  COR  ANO-MODELO  ANO-FABRICACAO  \\\n",
       "count             0             0    0           0               0   \n",
       "\n",
       "       ULT-ATUALIZACAO  SITUACAO  RESTRICOES  Hora  \n",
       "count                0         0           0     0  "
      ]
     },
     "execution_count": 23,
     "metadata": {},
     "output_type": "execute_result"
    }
   ],
   "source": [
    "df[df['ANO-FABRICACAO']==0].agg(['count'])"
   ]
  },
  {
   "cell_type": "code",
   "execution_count": 24,
   "metadata": {},
   "outputs": [],
   "source": [
    "df.drop(['ANO-MODELO'], axis=1, inplace=True)"
   ]
  },
  {
   "cell_type": "markdown",
   "metadata": {},
   "source": [
    "## 3.1 Análise dos missing values "
   ]
  },
  {
   "cell_type": "code",
   "execution_count": 25,
   "metadata": {},
   "outputs": [
    {
     "data": {
      "text/html": [
       "<div>\n",
       "<style scoped>\n",
       "    .dataframe tbody tr th:only-of-type {\n",
       "        vertical-align: middle;\n",
       "    }\n",
       "\n",
       "    .dataframe tbody tr th {\n",
       "        vertical-align: top;\n",
       "    }\n",
       "\n",
       "    .dataframe thead th {\n",
       "        text-align: right;\n",
       "    }\n",
       "</style>\n",
       "<table border=\"1\" class=\"dataframe\">\n",
       "  <thead>\n",
       "    <tr style=\"text-align: right;\">\n",
       "      <th></th>\n",
       "      <th>PlacaHash</th>\n",
       "      <th>1_Letra</th>\n",
       "      <th>5_Dígito</th>\n",
       "      <th>Leitura</th>\n",
       "      <th>Conf</th>\n",
       "      <th>MUNICIPIO</th>\n",
       "      <th>UF</th>\n",
       "      <th>MARCA/MODELO</th>\n",
       "      <th>TIPO-VEICULO</th>\n",
       "      <th>COR</th>\n",
       "      <th>ANO-FABRICACAO</th>\n",
       "      <th>ULT-ATUALIZACAO</th>\n",
       "      <th>SITUACAO</th>\n",
       "      <th>RESTRICOES</th>\n",
       "      <th>Hora</th>\n",
       "    </tr>\n",
       "  </thead>\n",
       "  <tbody>\n",
       "    <tr>\n",
       "      <th>count</th>\n",
       "      <td>29</td>\n",
       "      <td>29</td>\n",
       "      <td>29</td>\n",
       "      <td>29</td>\n",
       "      <td>29</td>\n",
       "      <td>29</td>\n",
       "      <td>29</td>\n",
       "      <td>0</td>\n",
       "      <td>0</td>\n",
       "      <td>0</td>\n",
       "      <td>0</td>\n",
       "      <td>0</td>\n",
       "      <td>0</td>\n",
       "      <td>0</td>\n",
       "      <td>29</td>\n",
       "    </tr>\n",
       "  </tbody>\n",
       "</table>\n",
       "</div>"
      ],
      "text/plain": [
       "       PlacaHash  1_Letra  5_Dígito  Leitura  Conf  MUNICIPIO  UF  \\\n",
       "count         29       29        29       29    29         29  29   \n",
       "\n",
       "       MARCA/MODELO  TIPO-VEICULO  COR  ANO-FABRICACAO  ULT-ATUALIZACAO  \\\n",
       "count             0             0    0               0                0   \n",
       "\n",
       "       SITUACAO  RESTRICOES  Hora  \n",
       "count         0           0    29  "
      ]
     },
     "execution_count": 25,
     "metadata": {},
     "output_type": "execute_result"
    }
   ],
   "source": [
    "#Coluna MUNICIPIO\n",
    "#29 registros são leituras incorretas que não correspondem a nenhum veículo existente na base Renavam\n",
    "df[df['MUNICIPIO']=='SEM REGISTRO RENAVAM'].agg(['count'])"
   ]
  },
  {
   "cell_type": "code",
   "execution_count": 26,
   "metadata": {},
   "outputs": [
    {
     "data": {
      "text/html": [
       "<div>\n",
       "<style scoped>\n",
       "    .dataframe tbody tr th:only-of-type {\n",
       "        vertical-align: middle;\n",
       "    }\n",
       "\n",
       "    .dataframe tbody tr th {\n",
       "        vertical-align: top;\n",
       "    }\n",
       "\n",
       "    .dataframe thead th {\n",
       "        text-align: right;\n",
       "    }\n",
       "</style>\n",
       "<table border=\"1\" class=\"dataframe\">\n",
       "  <thead>\n",
       "    <tr style=\"text-align: right;\">\n",
       "      <th></th>\n",
       "      <th>PlacaHash</th>\n",
       "      <th>1_Letra</th>\n",
       "      <th>5_Dígito</th>\n",
       "      <th>Leitura</th>\n",
       "      <th>Conf</th>\n",
       "      <th>MUNICIPIO</th>\n",
       "      <th>UF</th>\n",
       "      <th>MARCA/MODELO</th>\n",
       "      <th>TIPO-VEICULO</th>\n",
       "      <th>COR</th>\n",
       "      <th>ANO-FABRICACAO</th>\n",
       "      <th>ULT-ATUALIZACAO</th>\n",
       "      <th>SITUACAO</th>\n",
       "      <th>RESTRICOES</th>\n",
       "      <th>Hora</th>\n",
       "    </tr>\n",
       "  </thead>\n",
       "  <tbody>\n",
       "    <tr>\n",
       "      <th>count</th>\n",
       "      <td>0</td>\n",
       "      <td>0</td>\n",
       "      <td>0</td>\n",
       "      <td>0</td>\n",
       "      <td>0</td>\n",
       "      <td>0</td>\n",
       "      <td>0</td>\n",
       "      <td>0</td>\n",
       "      <td>0</td>\n",
       "      <td>0</td>\n",
       "      <td>0</td>\n",
       "      <td>0</td>\n",
       "      <td>0</td>\n",
       "      <td>0</td>\n",
       "      <td>0</td>\n",
       "    </tr>\n",
       "  </tbody>\n",
       "</table>\n",
       "</div>"
      ],
      "text/plain": [
       "       PlacaHash  1_Letra  5_Dígito  Leitura  Conf  MUNICIPIO  UF  \\\n",
       "count          0        0         0        0     0          0   0   \n",
       "\n",
       "       MARCA/MODELO  TIPO-VEICULO  COR  ANO-FABRICACAO  ULT-ATUALIZACAO  \\\n",
       "count             0             0    0               0                0   \n",
       "\n",
       "       SITUACAO  RESTRICOES  Hora  \n",
       "count         0           0     0  "
      ]
     },
     "execution_count": 26,
     "metadata": {},
     "output_type": "execute_result"
    }
   ],
   "source": [
    "#Além dos 29 registros == 'SEM REGISTRO RENAVAM', não há mais nenhum missing value\n",
    "#Portanto, todos os missing values são oriundos da leitura incorreta\n",
    "df[(df['MUNICIPIO']!='SEM REGISTRO RENAVAM') & (df.isnull())].agg(['count'])"
   ]
  },
  {
   "cell_type": "code",
   "execution_count": 27,
   "metadata": {},
   "outputs": [],
   "source": [
    "#Substituindo registros em branco da coluna 'UF' por 'SR'\n",
    "df['UF'] = df['UF'].replace([' '], 'SR')"
   ]
  },
  {
   "cell_type": "code",
   "execution_count": 28,
   "metadata": {},
   "outputs": [],
   "source": [
    "#Substituindo registros 'NaN' da coluna 'TIPO-VEICULO' por 'miss'\n",
    "df['TIPO-VEICULO'] = df['TIPO-VEICULO'].fillna('miss')"
   ]
  },
  {
   "cell_type": "code",
   "execution_count": 29,
   "metadata": {},
   "outputs": [],
   "source": [
    "#Substituindo registros 'NaN' da coluna 'COR' por 'miss'\n",
    "df['COR'] = df['COR'].fillna('miss')"
   ]
  },
  {
   "cell_type": "code",
   "execution_count": 30,
   "metadata": {},
   "outputs": [],
   "source": [
    "#Substituindo registros 'NaN' da coluna 'ANO-FABRICACAO' por 1900\n",
    "df['ANO-FABRICACAO'] = df['ANO-FABRICACAO'].fillna(1900)"
   ]
  },
  {
   "cell_type": "code",
   "execution_count": 31,
   "metadata": {},
   "outputs": [
    {
     "data": {
      "text/html": [
       "<div>\n",
       "<style scoped>\n",
       "    .dataframe tbody tr th:only-of-type {\n",
       "        vertical-align: middle;\n",
       "    }\n",
       "\n",
       "    .dataframe tbody tr th {\n",
       "        vertical-align: top;\n",
       "    }\n",
       "\n",
       "    .dataframe thead th {\n",
       "        text-align: right;\n",
       "    }\n",
       "</style>\n",
       "<table border=\"1\" class=\"dataframe\">\n",
       "  <thead>\n",
       "    <tr style=\"text-align: right;\">\n",
       "      <th></th>\n",
       "      <th>PlacaHash</th>\n",
       "      <th>1_Letra</th>\n",
       "      <th>5_Dígito</th>\n",
       "      <th>Leitura</th>\n",
       "      <th>Conf</th>\n",
       "      <th>MUNICIPIO</th>\n",
       "      <th>UF</th>\n",
       "      <th>MARCA/MODELO</th>\n",
       "      <th>TIPO-VEICULO</th>\n",
       "      <th>COR</th>\n",
       "      <th>ANO-FABRICACAO</th>\n",
       "      <th>ULT-ATUALIZACAO</th>\n",
       "      <th>SITUACAO</th>\n",
       "      <th>RESTRICOES</th>\n",
       "      <th>Hora</th>\n",
       "    </tr>\n",
       "  </thead>\n",
       "  <tbody>\n",
       "    <tr>\n",
       "      <th>103</th>\n",
       "      <td>13332146363560755659</td>\n",
       "      <td>E</td>\n",
       "      <td>I</td>\n",
       "      <td>0</td>\n",
       "      <td>91</td>\n",
       "      <td>BIRIGUI</td>\n",
       "      <td>SP</td>\n",
       "      <td>GM/ZAFIRA EXPRESSION</td>\n",
       "      <td>AUTOMOVEL</td>\n",
       "      <td>PRATA</td>\n",
       "      <td>2010.0</td>\n",
       "      <td>25/08/2020</td>\n",
       "      <td>CIRCULACAO</td>\n",
       "      <td>ALIENACAO FIDUCIARIA</td>\n",
       "      <td>17:12</td>\n",
       "    </tr>\n",
       "    <tr>\n",
       "      <th>104</th>\n",
       "      <td>13332146363560755659</td>\n",
       "      <td>E</td>\n",
       "      <td>I</td>\n",
       "      <td>0</td>\n",
       "      <td>96</td>\n",
       "      <td>BIRIGUI</td>\n",
       "      <td>SP</td>\n",
       "      <td>GM/ZAFIRA EXPRESSION</td>\n",
       "      <td>AUTOMOVEL</td>\n",
       "      <td>PRATA</td>\n",
       "      <td>2010.0</td>\n",
       "      <td>25/08/2020</td>\n",
       "      <td>CIRCULACAO</td>\n",
       "      <td>ALIENACAO FIDUCIARIA</td>\n",
       "      <td>18:21</td>\n",
       "    </tr>\n",
       "    <tr>\n",
       "      <th>136</th>\n",
       "      <td>8145674836525234550</td>\n",
       "      <td>H</td>\n",
       "      <td>1</td>\n",
       "      <td>0</td>\n",
       "      <td>92</td>\n",
       "      <td>GUAIRA</td>\n",
       "      <td>PR</td>\n",
       "      <td>HONDA/CIVIC EXS FLEX</td>\n",
       "      <td>AUTOMOVEL</td>\n",
       "      <td>PRATA</td>\n",
       "      <td>2007.0</td>\n",
       "      <td>02/05/2017</td>\n",
       "      <td>CIRCULACAO</td>\n",
       "      <td>NAO HA</td>\n",
       "      <td>17:17</td>\n",
       "    </tr>\n",
       "    <tr>\n",
       "      <th>137</th>\n",
       "      <td>8145674836525234550</td>\n",
       "      <td>H</td>\n",
       "      <td>1</td>\n",
       "      <td>0</td>\n",
       "      <td>85</td>\n",
       "      <td>GUAIRA</td>\n",
       "      <td>PR</td>\n",
       "      <td>HONDA/CIVIC EXS FLEX</td>\n",
       "      <td>AUTOMOVEL</td>\n",
       "      <td>PRATA</td>\n",
       "      <td>2007.0</td>\n",
       "      <td>02/05/2017</td>\n",
       "      <td>CIRCULACAO</td>\n",
       "      <td>NAO HA</td>\n",
       "      <td>18:23</td>\n",
       "    </tr>\n",
       "  </tbody>\n",
       "</table>\n",
       "</div>"
      ],
      "text/plain": [
       "                PlacaHash 1_Letra 5_Dígito  Leitura  Conf MUNICIPIO  UF  \\\n",
       "103  13332146363560755659       E        I        0    91   BIRIGUI  SP   \n",
       "104  13332146363560755659       E        I        0    96   BIRIGUI  SP   \n",
       "136   8145674836525234550       H        1        0    92    GUAIRA  PR   \n",
       "137   8145674836525234550       H        1        0    85    GUAIRA  PR   \n",
       "\n",
       "             MARCA/MODELO TIPO-VEICULO    COR  ANO-FABRICACAO ULT-ATUALIZACAO  \\\n",
       "103  GM/ZAFIRA EXPRESSION    AUTOMOVEL  PRATA          2010.0      25/08/2020   \n",
       "104  GM/ZAFIRA EXPRESSION    AUTOMOVEL  PRATA          2010.0      25/08/2020   \n",
       "136  HONDA/CIVIC EXS FLEX    AUTOMOVEL  PRATA          2007.0      02/05/2017   \n",
       "137  HONDA/CIVIC EXS FLEX    AUTOMOVEL  PRATA          2007.0      02/05/2017   \n",
       "\n",
       "       SITUACAO               RESTRICOES   Hora  \n",
       "103  CIRCULACAO     ALIENACAO FIDUCIARIA  17:12  \n",
       "104  CIRCULACAO     ALIENACAO FIDUCIARIA  18:21  \n",
       "136  CIRCULACAO                   NAO HA  17:17  \n",
       "137  CIRCULACAO                   NAO HA  18:23  "
      ]
     },
     "execution_count": 31,
     "metadata": {},
     "output_type": "execute_result"
    }
   ],
   "source": [
    "#Eliminando linhas duplicadas\n",
    "df[df.duplicated('PlacaHash', keep=False)]"
   ]
  },
  {
   "cell_type": "code",
   "execution_count": 32,
   "metadata": {},
   "outputs": [],
   "source": [
    "df.drop_duplicates(subset=['PlacaHash'], inplace=True)"
   ]
  },
  {
   "cell_type": "code",
   "execution_count": 33,
   "metadata": {},
   "outputs": [
    {
     "data": {
      "text/html": [
       "<div>\n",
       "<style scoped>\n",
       "    .dataframe tbody tr th:only-of-type {\n",
       "        vertical-align: middle;\n",
       "    }\n",
       "\n",
       "    .dataframe tbody tr th {\n",
       "        vertical-align: top;\n",
       "    }\n",
       "\n",
       "    .dataframe thead th {\n",
       "        text-align: right;\n",
       "    }\n",
       "</style>\n",
       "<table border=\"1\" class=\"dataframe\">\n",
       "  <thead>\n",
       "    <tr style=\"text-align: right;\">\n",
       "      <th></th>\n",
       "      <th>PlacaHash</th>\n",
       "      <th>1_Letra</th>\n",
       "      <th>5_Dígito</th>\n",
       "      <th>Leitura</th>\n",
       "      <th>Conf</th>\n",
       "      <th>MUNICIPIO</th>\n",
       "      <th>UF</th>\n",
       "      <th>MARCA/MODELO</th>\n",
       "      <th>TIPO-VEICULO</th>\n",
       "      <th>COR</th>\n",
       "      <th>ANO-FABRICACAO</th>\n",
       "      <th>ULT-ATUALIZACAO</th>\n",
       "      <th>SITUACAO</th>\n",
       "      <th>RESTRICOES</th>\n",
       "      <th>Hora</th>\n",
       "    </tr>\n",
       "  </thead>\n",
       "  <tbody>\n",
       "    <tr>\n",
       "      <th>0</th>\n",
       "      <td>16818951966726593698</td>\n",
       "      <td>A</td>\n",
       "      <td>3</td>\n",
       "      <td>0</td>\n",
       "      <td>87</td>\n",
       "      <td>NOVA SANTA HELENA</td>\n",
       "      <td>MT</td>\n",
       "      <td>SR/GUERRA AG GR</td>\n",
       "      <td>S.REBOQUE</td>\n",
       "      <td>BRANCA</td>\n",
       "      <td>2010.0</td>\n",
       "      <td>25/01/2019</td>\n",
       "      <td>CIRCULACAO</td>\n",
       "      <td>NAO HA</td>\n",
       "      <td>17:00</td>\n",
       "    </tr>\n",
       "    <tr>\n",
       "      <th>1</th>\n",
       "      <td>4578175391450274026</td>\n",
       "      <td>D</td>\n",
       "      <td>G</td>\n",
       "      <td>0</td>\n",
       "      <td>78</td>\n",
       "      <td>JAPORA</td>\n",
       "      <td>MS</td>\n",
       "      <td>TOYOTA/COROLLA XEI18VVT</td>\n",
       "      <td>AUTOMOVEL</td>\n",
       "      <td>PRETA</td>\n",
       "      <td>2005.0</td>\n",
       "      <td>23/02/2021</td>\n",
       "      <td>CIRCULACAO</td>\n",
       "      <td>NAO HA|                                    ...</td>\n",
       "      <td>17:00</td>\n",
       "    </tr>\n",
       "    <tr>\n",
       "      <th>2</th>\n",
       "      <td>7385877233923986733</td>\n",
       "      <td>D</td>\n",
       "      <td>G</td>\n",
       "      <td>1</td>\n",
       "      <td>82</td>\n",
       "      <td>SAO JOSE DO RIO PRETO</td>\n",
       "      <td>SP</td>\n",
       "      <td>VW/PARATI 1.6 TRACKFIELD</td>\n",
       "      <td>AUTOMOVEL</td>\n",
       "      <td>PRETA</td>\n",
       "      <td>2007.0</td>\n",
       "      <td>09/12/2020</td>\n",
       "      <td>CIRCULACAO</td>\n",
       "      <td>NAO HA</td>\n",
       "      <td>17:00</td>\n",
       "    </tr>\n",
       "    <tr>\n",
       "      <th>3</th>\n",
       "      <td>3566830866020661058</td>\n",
       "      <td>K</td>\n",
       "      <td>3</td>\n",
       "      <td>1</td>\n",
       "      <td>75</td>\n",
       "      <td>RIO DE JANEIRO</td>\n",
       "      <td>RJ</td>\n",
       "      <td>HONDA/CG 125 FAN KS</td>\n",
       "      <td>MOTOCICLO</td>\n",
       "      <td>PRETA</td>\n",
       "      <td>2009.0</td>\n",
       "      <td>20/09/2018</td>\n",
       "      <td>CIRCULACAO</td>\n",
       "      <td>NAO HA</td>\n",
       "      <td>17:00</td>\n",
       "    </tr>\n",
       "    <tr>\n",
       "      <th>4</th>\n",
       "      <td>10185387699721257702</td>\n",
       "      <td>B</td>\n",
       "      <td>F</td>\n",
       "      <td>0</td>\n",
       "      <td>98</td>\n",
       "      <td>ASSIS CHATEAUBRIAND</td>\n",
       "      <td>PR</td>\n",
       "      <td>I/TOYOTA HILUX SWDMDA4JD</td>\n",
       "      <td>UTILITáRI</td>\n",
       "      <td>BRANCA</td>\n",
       "      <td>2020.0</td>\n",
       "      <td>28/09/2020</td>\n",
       "      <td>CIRCULACAO</td>\n",
       "      <td>NAO HA</td>\n",
       "      <td>17:00</td>\n",
       "    </tr>\n",
       "    <tr>\n",
       "      <th>...</th>\n",
       "      <td>...</td>\n",
       "      <td>...</td>\n",
       "      <td>...</td>\n",
       "      <td>...</td>\n",
       "      <td>...</td>\n",
       "      <td>...</td>\n",
       "      <td>...</td>\n",
       "      <td>...</td>\n",
       "      <td>...</td>\n",
       "      <td>...</td>\n",
       "      <td>...</td>\n",
       "      <td>...</td>\n",
       "      <td>...</td>\n",
       "      <td>...</td>\n",
       "      <td>...</td>\n",
       "    </tr>\n",
       "    <tr>\n",
       "      <th>1195</th>\n",
       "      <td>17587299226595135787</td>\n",
       "      <td>A</td>\n",
       "      <td>G</td>\n",
       "      <td>0</td>\n",
       "      <td>88</td>\n",
       "      <td>NAVIRAI</td>\n",
       "      <td>MS</td>\n",
       "      <td>I/VW AMAROK V6 HIGH AC4</td>\n",
       "      <td>CNETE</td>\n",
       "      <td>BRANCA</td>\n",
       "      <td>2018.0</td>\n",
       "      <td>26/10/2020</td>\n",
       "      <td>CIRCULACAO</td>\n",
       "      <td>ALIENACAO FIDUCIARIA</td>\n",
       "      <td>19:58</td>\n",
       "    </tr>\n",
       "    <tr>\n",
       "      <th>1196</th>\n",
       "      <td>5257374306946238258</td>\n",
       "      <td>I</td>\n",
       "      <td>D</td>\n",
       "      <td>1</td>\n",
       "      <td>82</td>\n",
       "      <td>MONTE CARLO</td>\n",
       "      <td>SC</td>\n",
       "      <td>SR/RANDON SR CA</td>\n",
       "      <td>S.REBOQUE</td>\n",
       "      <td>VERMELHA</td>\n",
       "      <td>2010.0</td>\n",
       "      <td>24/08/2017</td>\n",
       "      <td>CIRCULACAO</td>\n",
       "      <td>NAO HA</td>\n",
       "      <td>19:58</td>\n",
       "    </tr>\n",
       "    <tr>\n",
       "      <th>1197</th>\n",
       "      <td>4908375302694645005</td>\n",
       "      <td>I</td>\n",
       "      <td>D</td>\n",
       "      <td>0</td>\n",
       "      <td>75</td>\n",
       "      <td>GUARAPUAVA</td>\n",
       "      <td>PR</td>\n",
       "      <td>FIAT/UNO MILLE WAY ECON</td>\n",
       "      <td>AUTOMOVEL</td>\n",
       "      <td>VERMELHA</td>\n",
       "      <td>2010.0</td>\n",
       "      <td>17/09/2020</td>\n",
       "      <td>CIRCULACAO</td>\n",
       "      <td>NAO HA</td>\n",
       "      <td>19:59</td>\n",
       "    </tr>\n",
       "    <tr>\n",
       "      <th>1198</th>\n",
       "      <td>9907502954820475496</td>\n",
       "      <td>A</td>\n",
       "      <td>9</td>\n",
       "      <td>1</td>\n",
       "      <td>80</td>\n",
       "      <td>SAO JOAO</td>\n",
       "      <td>PR</td>\n",
       "      <td>HONDA/CG 125 TITAN</td>\n",
       "      <td>MOTOCICLO</td>\n",
       "      <td>AZUL</td>\n",
       "      <td>1998.0</td>\n",
       "      <td>22/04/2013</td>\n",
       "      <td>CIRCULACAO</td>\n",
       "      <td>NAO HA</td>\n",
       "      <td>19:59</td>\n",
       "    </tr>\n",
       "    <tr>\n",
       "      <th>1199</th>\n",
       "      <td>14079922020280480857</td>\n",
       "      <td>B</td>\n",
       "      <td>I</td>\n",
       "      <td>0</td>\n",
       "      <td>87</td>\n",
       "      <td>PEROLA</td>\n",
       "      <td>PR</td>\n",
       "      <td>FIAT/ARGO TREKKING 1.8AT</td>\n",
       "      <td>AUTOMOVEL</td>\n",
       "      <td>PRETA</td>\n",
       "      <td>2020.0</td>\n",
       "      <td>17/07/2020</td>\n",
       "      <td>CIRCULACAO</td>\n",
       "      <td>ALIENACAO FIDUCIARIA</td>\n",
       "      <td>19:59</td>\n",
       "    </tr>\n",
       "  </tbody>\n",
       "</table>\n",
       "<p>1198 rows × 15 columns</p>\n",
       "</div>"
      ],
      "text/plain": [
       "                 PlacaHash 1_Letra 5_Dígito  Leitura  Conf  \\\n",
       "0     16818951966726593698       A        3        0    87   \n",
       "1      4578175391450274026       D        G        0    78   \n",
       "2      7385877233923986733       D        G        1    82   \n",
       "3      3566830866020661058       K        3        1    75   \n",
       "4     10185387699721257702       B        F        0    98   \n",
       "...                    ...     ...      ...      ...   ...   \n",
       "1195  17587299226595135787       A        G        0    88   \n",
       "1196   5257374306946238258       I        D        1    82   \n",
       "1197   4908375302694645005       I        D        0    75   \n",
       "1198   9907502954820475496       A        9        1    80   \n",
       "1199  14079922020280480857       B        I        0    87   \n",
       "\n",
       "                  MUNICIPIO  UF              MARCA/MODELO TIPO-VEICULO  \\\n",
       "0         NOVA SANTA HELENA  MT           SR/GUERRA AG GR    S.REBOQUE   \n",
       "1                    JAPORA  MS   TOYOTA/COROLLA XEI18VVT    AUTOMOVEL   \n",
       "2     SAO JOSE DO RIO PRETO  SP  VW/PARATI 1.6 TRACKFIELD    AUTOMOVEL   \n",
       "3            RIO DE JANEIRO  RJ       HONDA/CG 125 FAN KS    MOTOCICLO   \n",
       "4       ASSIS CHATEAUBRIAND  PR  I/TOYOTA HILUX SWDMDA4JD    UTILITáRI   \n",
       "...                     ...  ..                       ...          ...   \n",
       "1195                NAVIRAI  MS   I/VW AMAROK V6 HIGH AC4        CNETE   \n",
       "1196            MONTE CARLO  SC           SR/RANDON SR CA    S.REBOQUE   \n",
       "1197             GUARAPUAVA  PR   FIAT/UNO MILLE WAY ECON    AUTOMOVEL   \n",
       "1198               SAO JOAO  PR        HONDA/CG 125 TITAN    MOTOCICLO   \n",
       "1199                 PEROLA  PR  FIAT/ARGO TREKKING 1.8AT    AUTOMOVEL   \n",
       "\n",
       "           COR  ANO-FABRICACAO ULT-ATUALIZACAO    SITUACAO  \\\n",
       "0       BRANCA          2010.0      25/01/2019  CIRCULACAO   \n",
       "1        PRETA          2005.0      23/02/2021  CIRCULACAO   \n",
       "2        PRETA          2007.0      09/12/2020  CIRCULACAO   \n",
       "3        PRETA          2009.0      20/09/2018  CIRCULACAO   \n",
       "4       BRANCA          2020.0      28/09/2020  CIRCULACAO   \n",
       "...        ...             ...             ...         ...   \n",
       "1195    BRANCA          2018.0      26/10/2020  CIRCULACAO   \n",
       "1196  VERMELHA          2010.0      24/08/2017  CIRCULACAO   \n",
       "1197  VERMELHA          2010.0      17/09/2020  CIRCULACAO   \n",
       "1198      AZUL          1998.0      22/04/2013  CIRCULACAO   \n",
       "1199     PRETA          2020.0      17/07/2020  CIRCULACAO   \n",
       "\n",
       "                                             RESTRICOES   Hora  \n",
       "0                                                NAO HA  17:00  \n",
       "1        NAO HA|                                    ...  17:00  \n",
       "2                                                NAO HA  17:00  \n",
       "3                                                NAO HA  17:00  \n",
       "4                                                NAO HA  17:00  \n",
       "...                                                 ...    ...  \n",
       "1195                               ALIENACAO FIDUCIARIA  19:58  \n",
       "1196                                             NAO HA  19:58  \n",
       "1197                                             NAO HA  19:59  \n",
       "1198                                             NAO HA  19:59  \n",
       "1199                               ALIENACAO FIDUCIARIA  19:59  \n",
       "\n",
       "[1198 rows x 15 columns]"
      ]
     },
     "execution_count": 33,
     "metadata": {},
     "output_type": "execute_result"
    }
   ],
   "source": [
    "df"
   ]
  },
  {
   "cell_type": "markdown",
   "metadata": {},
   "source": [
    "## 4. Análise e Exploração dos Dados"
   ]
  },
  {
   "cell_type": "code",
   "execution_count": 34,
   "metadata": {},
   "outputs": [
    {
     "data": {
      "text/plain": [
       "0    978\n",
       "1    220\n",
       "Name: Leitura, dtype: int64"
      ]
     },
     "execution_count": 34,
     "metadata": {},
     "output_type": "execute_result"
    }
   ],
   "source": [
    "#CONTAGEM DE FALSOS POSITIVOS\n",
    "df['Leitura'].value_counts()"
   ]
  },
  {
   "cell_type": "code",
   "execution_count": 35,
   "metadata": {},
   "outputs": [
    {
     "data": {
      "text/plain": [
       "0    0.816361\n",
       "1    0.183639\n",
       "Name: Leitura, dtype: float64"
      ]
     },
     "execution_count": 35,
     "metadata": {},
     "output_type": "execute_result"
    }
   ],
   "source": [
    "#FREQUÊNCIA DE FALSOS POSITIVOS\n",
    "df['Leitura'].value_counts(normalize=True)"
   ]
  },
  {
   "cell_type": "code",
   "execution_count": 36,
   "metadata": {},
   "outputs": [
    {
     "data": {
      "image/png": "[encoded data removed]",
      "text/plain": [
       "<Figure size 468x187.2 with 1 Axes>"
      ]
     },
     "metadata": {
      "needs_background": "light"
     },
     "output_type": "display_data"
    }
   ],
   "source": [
    "ax = sns.catplot(y=\"Leitura\", kind=\"count\", data=df, height=2.6, aspect=2.5, orient='h')"
   ]
  },
  {
   "cell_type": "markdown",
   "metadata": {},
   "source": [
    "## 4.1 Variável ‘1_Letra’ "
   ]
  },
  {
   "cell_type": "code",
   "execution_count": 37,
   "metadata": {},
   "outputs": [
    {
     "data": {
      "text/html": [
       "<div>\n",
       "<style scoped>\n",
       "    .dataframe tbody tr th:only-of-type {\n",
       "        vertical-align: middle;\n",
       "    }\n",
       "\n",
       "    .dataframe tbody tr th {\n",
       "        vertical-align: top;\n",
       "    }\n",
       "\n",
       "    .dataframe thead th {\n",
       "        text-align: right;\n",
       "    }\n",
       "</style>\n",
       "<table border=\"1\" class=\"dataframe\">\n",
       "  <thead>\n",
       "    <tr style=\"text-align: right;\">\n",
       "      <th></th>\n",
       "      <th>1_Letra</th>\n",
       "    </tr>\n",
       "  </thead>\n",
       "  <tbody>\n",
       "    <tr>\n",
       "      <th>A</th>\n",
       "      <td>418</td>\n",
       "    </tr>\n",
       "    <tr>\n",
       "      <th>B</th>\n",
       "      <td>193</td>\n",
       "    </tr>\n",
       "    <tr>\n",
       "      <th>C</th>\n",
       "      <td>26</td>\n",
       "    </tr>\n",
       "    <tr>\n",
       "      <th>D</th>\n",
       "      <td>30</td>\n",
       "    </tr>\n",
       "    <tr>\n",
       "      <th>E</th>\n",
       "      <td>38</td>\n",
       "    </tr>\n",
       "    <tr>\n",
       "      <th>F</th>\n",
       "      <td>36</td>\n",
       "    </tr>\n",
       "    <tr>\n",
       "      <th>G</th>\n",
       "      <td>19</td>\n",
       "    </tr>\n",
       "    <tr>\n",
       "      <th>H</th>\n",
       "      <td>33</td>\n",
       "    </tr>\n",
       "    <tr>\n",
       "      <th>I</th>\n",
       "      <td>50</td>\n",
       "    </tr>\n",
       "    <tr>\n",
       "      <th>J</th>\n",
       "      <td>23</td>\n",
       "    </tr>\n",
       "    <tr>\n",
       "      <th>K</th>\n",
       "      <td>15</td>\n",
       "    </tr>\n",
       "    <tr>\n",
       "      <th>L</th>\n",
       "      <td>11</td>\n",
       "    </tr>\n",
       "    <tr>\n",
       "      <th>M</th>\n",
       "      <td>62</td>\n",
       "    </tr>\n",
       "    <tr>\n",
       "      <th>N</th>\n",
       "      <td>41</td>\n",
       "    </tr>\n",
       "    <tr>\n",
       "      <th>O</th>\n",
       "      <td>43</td>\n",
       "    </tr>\n",
       "    <tr>\n",
       "      <th>P</th>\n",
       "      <td>21</td>\n",
       "    </tr>\n",
       "    <tr>\n",
       "      <th>Q</th>\n",
       "      <td>93</td>\n",
       "    </tr>\n",
       "    <tr>\n",
       "      <th>R</th>\n",
       "      <td>36</td>\n",
       "    </tr>\n",
       "    <tr>\n",
       "      <th>U</th>\n",
       "      <td>6</td>\n",
       "    </tr>\n",
       "    <tr>\n",
       "      <th>W</th>\n",
       "      <td>3</td>\n",
       "    </tr>\n",
       "    <tr>\n",
       "      <th>X</th>\n",
       "      <td>1</td>\n",
       "    </tr>\n",
       "  </tbody>\n",
       "</table>\n",
       "</div>"
      ],
      "text/plain": [
       "   1_Letra\n",
       "A      418\n",
       "B      193\n",
       "C       26\n",
       "D       30\n",
       "E       38\n",
       "F       36\n",
       "G       19\n",
       "H       33\n",
       "I       50\n",
       "J       23\n",
       "K       15\n",
       "L       11\n",
       "M       62\n",
       "N       41\n",
       "O       43\n",
       "P       21\n",
       "Q       93\n",
       "R       36\n",
       "U        6\n",
       "W        3\n",
       "X        1"
      ]
     },
     "execution_count": 37,
     "metadata": {},
     "output_type": "execute_result"
    }
   ],
   "source": [
    "#ANÁLISE DE VARIÁVEL '1_LETRA'\n",
    "#CONTAGEM '1_LETRA'\n",
    "df['1_Letra'].value_counts().sort_index(ascending=True).to_frame()"
   ]
  },
  {
   "cell_type": "code",
   "execution_count": 38,
   "metadata": {},
   "outputs": [
    {
     "data": {
      "text/plain": [
       "A    0.348915\n",
       "B    0.161102\n",
       "Q    0.077629\n",
       "Name: 1_Letra, dtype: float64"
      ]
     },
     "execution_count": 38,
     "metadata": {},
     "output_type": "execute_result"
    }
   ],
   "source": [
    "#IDENTIFICANDO 3 MAIORES FREQUÊNCIAS DE '1_LETRA'\n",
    "df['1_Letra'].value_counts(normalize=True).sort_index(ascending=True).nlargest(3)"
   ]
  },
  {
   "cell_type": "code",
   "execution_count": 39,
   "metadata": {},
   "outputs": [
    {
     "data": {
      "text/plain": [
       "58.764607679465776"
      ]
     },
     "execution_count": 39,
     "metadata": {},
     "output_type": "execute_result"
    }
   ],
   "source": [
    "#SOMANDO AS TRÊS MAIORES FREQUÊNCIAS\n",
    "df['1_Letra'].value_counts(normalize=True).nlargest(3).sum()*100"
   ]
  },
  {
   "cell_type": "code",
   "execution_count": 40,
   "metadata": {},
   "outputs": [
    {
     "data": {
      "text/html": [
       "<div>\n",
       "<style scoped>\n",
       "    .dataframe tbody tr th:only-of-type {\n",
       "        vertical-align: middle;\n",
       "    }\n",
       "\n",
       "    .dataframe tbody tr th {\n",
       "        vertical-align: top;\n",
       "    }\n",
       "\n",
       "    .dataframe thead th {\n",
       "        text-align: right;\n",
       "    }\n",
       "</style>\n",
       "<table border=\"1\" class=\"dataframe\">\n",
       "  <thead>\n",
       "    <tr style=\"text-align: right;\">\n",
       "      <th></th>\n",
       "      <th></th>\n",
       "      <th>0</th>\n",
       "    </tr>\n",
       "    <tr>\n",
       "      <th>1_Letra</th>\n",
       "      <th>Leitura</th>\n",
       "      <th></th>\n",
       "    </tr>\n",
       "  </thead>\n",
       "  <tbody>\n",
       "    <tr>\n",
       "      <th rowspan=\"2\" valign=\"top\">A</th>\n",
       "      <th>0</th>\n",
       "      <td>349</td>\n",
       "    </tr>\n",
       "    <tr>\n",
       "      <th>1</th>\n",
       "      <td>69</td>\n",
       "    </tr>\n",
       "    <tr>\n",
       "      <th rowspan=\"2\" valign=\"top\">B</th>\n",
       "      <th>0</th>\n",
       "      <td>169</td>\n",
       "    </tr>\n",
       "    <tr>\n",
       "      <th>1</th>\n",
       "      <td>24</td>\n",
       "    </tr>\n",
       "    <tr>\n",
       "      <th rowspan=\"2\" valign=\"top\">C</th>\n",
       "      <th>0</th>\n",
       "      <td>18</td>\n",
       "    </tr>\n",
       "    <tr>\n",
       "      <th>1</th>\n",
       "      <td>8</td>\n",
       "    </tr>\n",
       "    <tr>\n",
       "      <th rowspan=\"2\" valign=\"top\">D</th>\n",
       "      <th>0</th>\n",
       "      <td>18</td>\n",
       "    </tr>\n",
       "    <tr>\n",
       "      <th>1</th>\n",
       "      <td>12</td>\n",
       "    </tr>\n",
       "    <tr>\n",
       "      <th rowspan=\"2\" valign=\"top\">E</th>\n",
       "      <th>0</th>\n",
       "      <td>33</td>\n",
       "    </tr>\n",
       "    <tr>\n",
       "      <th>1</th>\n",
       "      <td>5</td>\n",
       "    </tr>\n",
       "    <tr>\n",
       "      <th rowspan=\"2\" valign=\"top\">F</th>\n",
       "      <th>0</th>\n",
       "      <td>28</td>\n",
       "    </tr>\n",
       "    <tr>\n",
       "      <th>1</th>\n",
       "      <td>8</td>\n",
       "    </tr>\n",
       "    <tr>\n",
       "      <th rowspan=\"2\" valign=\"top\">G</th>\n",
       "      <th>0</th>\n",
       "      <td>15</td>\n",
       "    </tr>\n",
       "    <tr>\n",
       "      <th>1</th>\n",
       "      <td>4</td>\n",
       "    </tr>\n",
       "    <tr>\n",
       "      <th rowspan=\"2\" valign=\"top\">H</th>\n",
       "      <th>0</th>\n",
       "      <td>29</td>\n",
       "    </tr>\n",
       "    <tr>\n",
       "      <th>1</th>\n",
       "      <td>4</td>\n",
       "    </tr>\n",
       "    <tr>\n",
       "      <th rowspan=\"2\" valign=\"top\">I</th>\n",
       "      <th>0</th>\n",
       "      <td>35</td>\n",
       "    </tr>\n",
       "    <tr>\n",
       "      <th>1</th>\n",
       "      <td>15</td>\n",
       "    </tr>\n",
       "    <tr>\n",
       "      <th rowspan=\"2\" valign=\"top\">J</th>\n",
       "      <th>0</th>\n",
       "      <td>21</td>\n",
       "    </tr>\n",
       "    <tr>\n",
       "      <th>1</th>\n",
       "      <td>2</td>\n",
       "    </tr>\n",
       "    <tr>\n",
       "      <th rowspan=\"2\" valign=\"top\">K</th>\n",
       "      <th>0</th>\n",
       "      <td>13</td>\n",
       "    </tr>\n",
       "    <tr>\n",
       "      <th>1</th>\n",
       "      <td>2</td>\n",
       "    </tr>\n",
       "    <tr>\n",
       "      <th rowspan=\"2\" valign=\"top\">L</th>\n",
       "      <th>0</th>\n",
       "      <td>7</td>\n",
       "    </tr>\n",
       "    <tr>\n",
       "      <th>1</th>\n",
       "      <td>4</td>\n",
       "    </tr>\n",
       "    <tr>\n",
       "      <th rowspan=\"2\" valign=\"top\">M</th>\n",
       "      <th>0</th>\n",
       "      <td>57</td>\n",
       "    </tr>\n",
       "    <tr>\n",
       "      <th>1</th>\n",
       "      <td>5</td>\n",
       "    </tr>\n",
       "    <tr>\n",
       "      <th rowspan=\"2\" valign=\"top\">N</th>\n",
       "      <th>0</th>\n",
       "      <td>33</td>\n",
       "    </tr>\n",
       "    <tr>\n",
       "      <th>1</th>\n",
       "      <td>8</td>\n",
       "    </tr>\n",
       "    <tr>\n",
       "      <th rowspan=\"2\" valign=\"top\">O</th>\n",
       "      <th>0</th>\n",
       "      <td>29</td>\n",
       "    </tr>\n",
       "    <tr>\n",
       "      <th>1</th>\n",
       "      <td>14</td>\n",
       "    </tr>\n",
       "    <tr>\n",
       "      <th rowspan=\"2\" valign=\"top\">P</th>\n",
       "      <th>0</th>\n",
       "      <td>19</td>\n",
       "    </tr>\n",
       "    <tr>\n",
       "      <th>1</th>\n",
       "      <td>2</td>\n",
       "    </tr>\n",
       "    <tr>\n",
       "      <th rowspan=\"2\" valign=\"top\">Q</th>\n",
       "      <th>0</th>\n",
       "      <td>76</td>\n",
       "    </tr>\n",
       "    <tr>\n",
       "      <th>1</th>\n",
       "      <td>17</td>\n",
       "    </tr>\n",
       "    <tr>\n",
       "      <th rowspan=\"2\" valign=\"top\">R</th>\n",
       "      <th>0</th>\n",
       "      <td>29</td>\n",
       "    </tr>\n",
       "    <tr>\n",
       "      <th>1</th>\n",
       "      <td>7</td>\n",
       "    </tr>\n",
       "    <tr>\n",
       "      <th>U</th>\n",
       "      <th>1</th>\n",
       "      <td>6</td>\n",
       "    </tr>\n",
       "    <tr>\n",
       "      <th>W</th>\n",
       "      <th>1</th>\n",
       "      <td>3</td>\n",
       "    </tr>\n",
       "    <tr>\n",
       "      <th>X</th>\n",
       "      <th>1</th>\n",
       "      <td>1</td>\n",
       "    </tr>\n",
       "  </tbody>\n",
       "</table>\n",
       "</div>"
      ],
      "text/plain": [
       "                   0\n",
       "1_Letra Leitura     \n",
       "A       0        349\n",
       "        1         69\n",
       "B       0        169\n",
       "        1         24\n",
       "C       0         18\n",
       "        1          8\n",
       "D       0         18\n",
       "        1         12\n",
       "E       0         33\n",
       "        1          5\n",
       "F       0         28\n",
       "        1          8\n",
       "G       0         15\n",
       "        1          4\n",
       "H       0         29\n",
       "        1          4\n",
       "I       0         35\n",
       "        1         15\n",
       "J       0         21\n",
       "        1          2\n",
       "K       0         13\n",
       "        1          2\n",
       "L       0          7\n",
       "        1          4\n",
       "M       0         57\n",
       "        1          5\n",
       "N       0         33\n",
       "        1          8\n",
       "O       0         29\n",
       "        1         14\n",
       "P       0         19\n",
       "        1          2\n",
       "Q       0         76\n",
       "        1         17\n",
       "R       0         29\n",
       "        1          7\n",
       "U       1          6\n",
       "W       1          3\n",
       "X       1          1"
      ]
     },
     "execution_count": 40,
     "metadata": {},
     "output_type": "execute_result"
    }
   ],
   "source": [
    "#CONTAGEM DE FALSOS POSITIVOS, SEPARADOS POR '1_LETRA'\n",
    "df.groupby(['1_Letra','Leitura']).size().to_frame()"
   ]
  },
  {
   "cell_type": "code",
   "execution_count": 41,
   "metadata": {},
   "outputs": [
    {
     "data": {
      "text/html": [
       "<div>\n",
       "<style scoped>\n",
       "    .dataframe tbody tr th:only-of-type {\n",
       "        vertical-align: middle;\n",
       "    }\n",
       "\n",
       "    .dataframe tbody tr th {\n",
       "        vertical-align: top;\n",
       "    }\n",
       "\n",
       "    .dataframe thead th {\n",
       "        text-align: right;\n",
       "    }\n",
       "</style>\n",
       "<table border=\"1\" class=\"dataframe\">\n",
       "  <thead>\n",
       "    <tr style=\"text-align: right;\">\n",
       "      <th></th>\n",
       "      <th></th>\n",
       "      <th>Quantidade</th>\n",
       "      <th>%</th>\n",
       "    </tr>\n",
       "    <tr>\n",
       "      <th>1_Letra</th>\n",
       "      <th>Leitura</th>\n",
       "      <th></th>\n",
       "      <th></th>\n",
       "    </tr>\n",
       "  </thead>\n",
       "  <tbody>\n",
       "    <tr>\n",
       "      <th rowspan=\"2\" valign=\"top\">A</th>\n",
       "      <th>0</th>\n",
       "      <td>349</td>\n",
       "      <td>83.49</td>\n",
       "    </tr>\n",
       "    <tr>\n",
       "      <th>1</th>\n",
       "      <td>69</td>\n",
       "      <td>16.51</td>\n",
       "    </tr>\n",
       "    <tr>\n",
       "      <th rowspan=\"2\" valign=\"top\">B</th>\n",
       "      <th>0</th>\n",
       "      <td>169</td>\n",
       "      <td>87.56</td>\n",
       "    </tr>\n",
       "    <tr>\n",
       "      <th>1</th>\n",
       "      <td>24</td>\n",
       "      <td>12.44</td>\n",
       "    </tr>\n",
       "    <tr>\n",
       "      <th rowspan=\"2\" valign=\"top\">C</th>\n",
       "      <th>0</th>\n",
       "      <td>18</td>\n",
       "      <td>69.23</td>\n",
       "    </tr>\n",
       "    <tr>\n",
       "      <th>1</th>\n",
       "      <td>8</td>\n",
       "      <td>30.77</td>\n",
       "    </tr>\n",
       "    <tr>\n",
       "      <th rowspan=\"2\" valign=\"top\">D</th>\n",
       "      <th>0</th>\n",
       "      <td>18</td>\n",
       "      <td>60.00</td>\n",
       "    </tr>\n",
       "    <tr>\n",
       "      <th>1</th>\n",
       "      <td>12</td>\n",
       "      <td>40.00</td>\n",
       "    </tr>\n",
       "    <tr>\n",
       "      <th rowspan=\"2\" valign=\"top\">E</th>\n",
       "      <th>0</th>\n",
       "      <td>33</td>\n",
       "      <td>86.84</td>\n",
       "    </tr>\n",
       "    <tr>\n",
       "      <th>1</th>\n",
       "      <td>5</td>\n",
       "      <td>13.16</td>\n",
       "    </tr>\n",
       "    <tr>\n",
       "      <th rowspan=\"2\" valign=\"top\">F</th>\n",
       "      <th>0</th>\n",
       "      <td>28</td>\n",
       "      <td>77.78</td>\n",
       "    </tr>\n",
       "    <tr>\n",
       "      <th>1</th>\n",
       "      <td>8</td>\n",
       "      <td>22.22</td>\n",
       "    </tr>\n",
       "    <tr>\n",
       "      <th rowspan=\"2\" valign=\"top\">G</th>\n",
       "      <th>0</th>\n",
       "      <td>15</td>\n",
       "      <td>78.95</td>\n",
       "    </tr>\n",
       "    <tr>\n",
       "      <th>1</th>\n",
       "      <td>4</td>\n",
       "      <td>21.05</td>\n",
       "    </tr>\n",
       "    <tr>\n",
       "      <th rowspan=\"2\" valign=\"top\">H</th>\n",
       "      <th>0</th>\n",
       "      <td>29</td>\n",
       "      <td>87.88</td>\n",
       "    </tr>\n",
       "    <tr>\n",
       "      <th>1</th>\n",
       "      <td>4</td>\n",
       "      <td>12.12</td>\n",
       "    </tr>\n",
       "    <tr>\n",
       "      <th rowspan=\"2\" valign=\"top\">I</th>\n",
       "      <th>0</th>\n",
       "      <td>35</td>\n",
       "      <td>70.00</td>\n",
       "    </tr>\n",
       "    <tr>\n",
       "      <th>1</th>\n",
       "      <td>15</td>\n",
       "      <td>30.00</td>\n",
       "    </tr>\n",
       "    <tr>\n",
       "      <th rowspan=\"2\" valign=\"top\">J</th>\n",
       "      <th>0</th>\n",
       "      <td>21</td>\n",
       "      <td>91.30</td>\n",
       "    </tr>\n",
       "    <tr>\n",
       "      <th>1</th>\n",
       "      <td>2</td>\n",
       "      <td>8.70</td>\n",
       "    </tr>\n",
       "    <tr>\n",
       "      <th rowspan=\"2\" valign=\"top\">K</th>\n",
       "      <th>0</th>\n",
       "      <td>13</td>\n",
       "      <td>86.67</td>\n",
       "    </tr>\n",
       "    <tr>\n",
       "      <th>1</th>\n",
       "      <td>2</td>\n",
       "      <td>13.33</td>\n",
       "    </tr>\n",
       "    <tr>\n",
       "      <th rowspan=\"2\" valign=\"top\">L</th>\n",
       "      <th>0</th>\n",
       "      <td>7</td>\n",
       "      <td>63.64</td>\n",
       "    </tr>\n",
       "    <tr>\n",
       "      <th>1</th>\n",
       "      <td>4</td>\n",
       "      <td>36.36</td>\n",
       "    </tr>\n",
       "    <tr>\n",
       "      <th rowspan=\"2\" valign=\"top\">M</th>\n",
       "      <th>0</th>\n",
       "      <td>57</td>\n",
       "      <td>91.94</td>\n",
       "    </tr>\n",
       "    <tr>\n",
       "      <th>1</th>\n",
       "      <td>5</td>\n",
       "      <td>8.06</td>\n",
       "    </tr>\n",
       "    <tr>\n",
       "      <th rowspan=\"2\" valign=\"top\">N</th>\n",
       "      <th>0</th>\n",
       "      <td>33</td>\n",
       "      <td>80.49</td>\n",
       "    </tr>\n",
       "    <tr>\n",
       "      <th>1</th>\n",
       "      <td>8</td>\n",
       "      <td>19.51</td>\n",
       "    </tr>\n",
       "    <tr>\n",
       "      <th rowspan=\"2\" valign=\"top\">O</th>\n",
       "      <th>0</th>\n",
       "      <td>29</td>\n",
       "      <td>67.44</td>\n",
       "    </tr>\n",
       "    <tr>\n",
       "      <th>1</th>\n",
       "      <td>14</td>\n",
       "      <td>32.56</td>\n",
       "    </tr>\n",
       "    <tr>\n",
       "      <th rowspan=\"2\" valign=\"top\">P</th>\n",
       "      <th>0</th>\n",
       "      <td>19</td>\n",
       "      <td>90.48</td>\n",
       "    </tr>\n",
       "    <tr>\n",
       "      <th>1</th>\n",
       "      <td>2</td>\n",
       "      <td>9.52</td>\n",
       "    </tr>\n",
       "    <tr>\n",
       "      <th rowspan=\"2\" valign=\"top\">Q</th>\n",
       "      <th>0</th>\n",
       "      <td>76</td>\n",
       "      <td>81.72</td>\n",
       "    </tr>\n",
       "    <tr>\n",
       "      <th>1</th>\n",
       "      <td>17</td>\n",
       "      <td>18.28</td>\n",
       "    </tr>\n",
       "    <tr>\n",
       "      <th rowspan=\"2\" valign=\"top\">R</th>\n",
       "      <th>0</th>\n",
       "      <td>29</td>\n",
       "      <td>80.56</td>\n",
       "    </tr>\n",
       "    <tr>\n",
       "      <th>1</th>\n",
       "      <td>7</td>\n",
       "      <td>19.44</td>\n",
       "    </tr>\n",
       "    <tr>\n",
       "      <th>U</th>\n",
       "      <th>1</th>\n",
       "      <td>6</td>\n",
       "      <td>100.00</td>\n",
       "    </tr>\n",
       "    <tr>\n",
       "      <th>W</th>\n",
       "      <th>1</th>\n",
       "      <td>3</td>\n",
       "      <td>100.00</td>\n",
       "    </tr>\n",
       "    <tr>\n",
       "      <th>X</th>\n",
       "      <th>1</th>\n",
       "      <td>1</td>\n",
       "      <td>100.00</td>\n",
       "    </tr>\n",
       "  </tbody>\n",
       "</table>\n",
       "</div>"
      ],
      "text/plain": [
       "                 Quantidade       %\n",
       "1_Letra Leitura                    \n",
       "A       0               349   83.49\n",
       "        1                69   16.51\n",
       "B       0               169   87.56\n",
       "        1                24   12.44\n",
       "C       0                18   69.23\n",
       "        1                 8   30.77\n",
       "D       0                18   60.00\n",
       "        1                12   40.00\n",
       "E       0                33   86.84\n",
       "        1                 5   13.16\n",
       "F       0                28   77.78\n",
       "        1                 8   22.22\n",
       "G       0                15   78.95\n",
       "        1                 4   21.05\n",
       "H       0                29   87.88\n",
       "        1                 4   12.12\n",
       "I       0                35   70.00\n",
       "        1                15   30.00\n",
       "J       0                21   91.30\n",
       "        1                 2    8.70\n",
       "K       0                13   86.67\n",
       "        1                 2   13.33\n",
       "L       0                 7   63.64\n",
       "        1                 4   36.36\n",
       "M       0                57   91.94\n",
       "        1                 5    8.06\n",
       "N       0                33   80.49\n",
       "        1                 8   19.51\n",
       "O       0                29   67.44\n",
       "        1                14   32.56\n",
       "P       0                19   90.48\n",
       "        1                 2    9.52\n",
       "Q       0                76   81.72\n",
       "        1                17   18.28\n",
       "R       0                29   80.56\n",
       "        1                 7   19.44\n",
       "U       1                 6  100.00\n",
       "W       1                 3  100.00\n",
       "X       1                 1  100.00"
      ]
     },
     "execution_count": 41,
     "metadata": {},
     "output_type": "execute_result"
    }
   ],
   "source": [
    "#PERCENTUAL DE FALSOS POSITIVOS, SEPARADOS POR '1_LETRA'\n",
    "df_percentual = df.groupby(['1_Letra','Leitura']).agg({'MUNICIPIO':'count'})[['MUNICIPIO']]\n",
    "df_percentual['%'] = df_percentual.groupby(level=0).apply(lambda x: 100*x/x.sum())\n",
    "df_percentual = df_percentual.rename(columns={'MUNICIPIO':'Quantidade'}).round(2)\n",
    "df_percentual"
   ]
  },
  {
   "cell_type": "code",
   "execution_count": 42,
   "metadata": {},
   "outputs": [
    {
     "data": {
      "text/plain": [
       "<AxesSubplot:xlabel='1_Letra', ylabel='Leitura'>"
      ]
     },
     "execution_count": 42,
     "metadata": {},
     "output_type": "execute_result"
    },
    {
     "data": {
      "image/png": "[encoded data removed]",
      "text/plain": [
       "<Figure size 432x288 with 1 Axes>"
      ]
     },
     "metadata": {
      "needs_background": "light"
     },
     "output_type": "display_data"
    }
   ],
   "source": [
    "sns.barplot(x='1_Letra',y='Leitura', data=df, ci=False)"
   ]
  },
  {
   "cell_type": "code",
   "execution_count": 43,
   "metadata": {},
   "outputs": [
    {
     "data": {
      "text/plain": [
       "<AxesSubplot:xlabel='1_Letra', ylabel='count'>"
      ]
     },
     "execution_count": 43,
     "metadata": {},
     "output_type": "execute_result"
    },
    {
     "data": {
      "image/png": "[encoded data removed]",
      "text/plain": [
       "<Figure size 432x288 with 1 Axes>"
      ]
     },
     "metadata": {
      "needs_background": "light"
     },
     "output_type": "display_data"
    }
   ],
   "source": [
    "sns.countplot(x='1_Letra',data=df, hue = 'Leitura')"
   ]
  },
  {
   "cell_type": "code",
   "execution_count": 44,
   "metadata": {},
   "outputs": [],
   "source": [
    "df_percentual = df_percentual.reset_index()"
   ]
  },
  {
   "cell_type": "code",
   "execution_count": 45,
   "metadata": {},
   "outputs": [
    {
     "data": {
      "text/html": [
       "<div>\n",
       "<style scoped>\n",
       "    .dataframe tbody tr th:only-of-type {\n",
       "        vertical-align: middle;\n",
       "    }\n",
       "\n",
       "    .dataframe tbody tr th {\n",
       "        vertical-align: top;\n",
       "    }\n",
       "\n",
       "    .dataframe thead th {\n",
       "        text-align: right;\n",
       "    }\n",
       "</style>\n",
       "<table border=\"1\" class=\"dataframe\">\n",
       "  <thead>\n",
       "    <tr style=\"text-align: right;\">\n",
       "      <th></th>\n",
       "      <th>1_Letra</th>\n",
       "      <th>Leitura</th>\n",
       "      <th>Quantidade</th>\n",
       "      <th>%</th>\n",
       "    </tr>\n",
       "  </thead>\n",
       "  <tbody>\n",
       "    <tr>\n",
       "      <th>1</th>\n",
       "      <td>A</td>\n",
       "      <td>1</td>\n",
       "      <td>69</td>\n",
       "      <td>16.51</td>\n",
       "    </tr>\n",
       "    <tr>\n",
       "      <th>3</th>\n",
       "      <td>B</td>\n",
       "      <td>1</td>\n",
       "      <td>24</td>\n",
       "      <td>12.44</td>\n",
       "    </tr>\n",
       "    <tr>\n",
       "      <th>33</th>\n",
       "      <td>Q</td>\n",
       "      <td>1</td>\n",
       "      <td>17</td>\n",
       "      <td>18.28</td>\n",
       "    </tr>\n",
       "    <tr>\n",
       "      <th>17</th>\n",
       "      <td>I</td>\n",
       "      <td>1</td>\n",
       "      <td>15</td>\n",
       "      <td>30.00</td>\n",
       "    </tr>\n",
       "    <tr>\n",
       "      <th>29</th>\n",
       "      <td>O</td>\n",
       "      <td>1</td>\n",
       "      <td>14</td>\n",
       "      <td>32.56</td>\n",
       "    </tr>\n",
       "    <tr>\n",
       "      <th>7</th>\n",
       "      <td>D</td>\n",
       "      <td>1</td>\n",
       "      <td>12</td>\n",
       "      <td>40.00</td>\n",
       "    </tr>\n",
       "    <tr>\n",
       "      <th>11</th>\n",
       "      <td>F</td>\n",
       "      <td>1</td>\n",
       "      <td>8</td>\n",
       "      <td>22.22</td>\n",
       "    </tr>\n",
       "    <tr>\n",
       "      <th>5</th>\n",
       "      <td>C</td>\n",
       "      <td>1</td>\n",
       "      <td>8</td>\n",
       "      <td>30.77</td>\n",
       "    </tr>\n",
       "    <tr>\n",
       "      <th>27</th>\n",
       "      <td>N</td>\n",
       "      <td>1</td>\n",
       "      <td>8</td>\n",
       "      <td>19.51</td>\n",
       "    </tr>\n",
       "    <tr>\n",
       "      <th>35</th>\n",
       "      <td>R</td>\n",
       "      <td>1</td>\n",
       "      <td>7</td>\n",
       "      <td>19.44</td>\n",
       "    </tr>\n",
       "  </tbody>\n",
       "</table>\n",
       "</div>"
      ],
      "text/plain": [
       "   1_Letra  Leitura  Quantidade      %\n",
       "1        A        1          69  16.51\n",
       "3        B        1          24  12.44\n",
       "33       Q        1          17  18.28\n",
       "17       I        1          15  30.00\n",
       "29       O        1          14  32.56\n",
       "7        D        1          12  40.00\n",
       "11       F        1           8  22.22\n",
       "5        C        1           8  30.77\n",
       "27       N        1           8  19.51\n",
       "35       R        1           7  19.44"
      ]
     },
     "execution_count": 45,
     "metadata": {},
     "output_type": "execute_result"
    }
   ],
   "source": [
    "# Quadro comparativo de falsos positivos, classificado em ordem decrescente de quantidade\n",
    "df_falso_positivo = df_percentual[df_percentual['Leitura']==1].sort_values(by = 'Quantidade', ascending = False)\n",
    "df_falso_positivo.head(10)"
   ]
  },
  {
   "cell_type": "code",
   "execution_count": 46,
   "metadata": {},
   "outputs": [
    {
     "data": {
      "text/html": [
       "<div>\n",
       "<style scoped>\n",
       "    .dataframe tbody tr th:only-of-type {\n",
       "        vertical-align: middle;\n",
       "    }\n",
       "\n",
       "    .dataframe tbody tr th {\n",
       "        vertical-align: top;\n",
       "    }\n",
       "\n",
       "    .dataframe thead th {\n",
       "        text-align: right;\n",
       "    }\n",
       "</style>\n",
       "<table border=\"1\" class=\"dataframe\">\n",
       "  <thead>\n",
       "    <tr style=\"text-align: right;\">\n",
       "      <th></th>\n",
       "      <th>1_Letra</th>\n",
       "      <th>Leitura</th>\n",
       "      <th>Quantidade</th>\n",
       "      <th>%</th>\n",
       "    </tr>\n",
       "  </thead>\n",
       "  <tbody>\n",
       "    <tr>\n",
       "      <th>36</th>\n",
       "      <td>U</td>\n",
       "      <td>1</td>\n",
       "      <td>6</td>\n",
       "      <td>100.00</td>\n",
       "    </tr>\n",
       "    <tr>\n",
       "      <th>37</th>\n",
       "      <td>W</td>\n",
       "      <td>1</td>\n",
       "      <td>3</td>\n",
       "      <td>100.00</td>\n",
       "    </tr>\n",
       "    <tr>\n",
       "      <th>38</th>\n",
       "      <td>X</td>\n",
       "      <td>1</td>\n",
       "      <td>1</td>\n",
       "      <td>100.00</td>\n",
       "    </tr>\n",
       "    <tr>\n",
       "      <th>7</th>\n",
       "      <td>D</td>\n",
       "      <td>1</td>\n",
       "      <td>12</td>\n",
       "      <td>40.00</td>\n",
       "    </tr>\n",
       "    <tr>\n",
       "      <th>23</th>\n",
       "      <td>L</td>\n",
       "      <td>1</td>\n",
       "      <td>4</td>\n",
       "      <td>36.36</td>\n",
       "    </tr>\n",
       "    <tr>\n",
       "      <th>29</th>\n",
       "      <td>O</td>\n",
       "      <td>1</td>\n",
       "      <td>14</td>\n",
       "      <td>32.56</td>\n",
       "    </tr>\n",
       "    <tr>\n",
       "      <th>5</th>\n",
       "      <td>C</td>\n",
       "      <td>1</td>\n",
       "      <td>8</td>\n",
       "      <td>30.77</td>\n",
       "    </tr>\n",
       "    <tr>\n",
       "      <th>17</th>\n",
       "      <td>I</td>\n",
       "      <td>1</td>\n",
       "      <td>15</td>\n",
       "      <td>30.00</td>\n",
       "    </tr>\n",
       "    <tr>\n",
       "      <th>11</th>\n",
       "      <td>F</td>\n",
       "      <td>1</td>\n",
       "      <td>8</td>\n",
       "      <td>22.22</td>\n",
       "    </tr>\n",
       "    <tr>\n",
       "      <th>13</th>\n",
       "      <td>G</td>\n",
       "      <td>1</td>\n",
       "      <td>4</td>\n",
       "      <td>21.05</td>\n",
       "    </tr>\n",
       "    <tr>\n",
       "      <th>27</th>\n",
       "      <td>N</td>\n",
       "      <td>1</td>\n",
       "      <td>8</td>\n",
       "      <td>19.51</td>\n",
       "    </tr>\n",
       "    <tr>\n",
       "      <th>35</th>\n",
       "      <td>R</td>\n",
       "      <td>1</td>\n",
       "      <td>7</td>\n",
       "      <td>19.44</td>\n",
       "    </tr>\n",
       "    <tr>\n",
       "      <th>33</th>\n",
       "      <td>Q</td>\n",
       "      <td>1</td>\n",
       "      <td>17</td>\n",
       "      <td>18.28</td>\n",
       "    </tr>\n",
       "    <tr>\n",
       "      <th>1</th>\n",
       "      <td>A</td>\n",
       "      <td>1</td>\n",
       "      <td>69</td>\n",
       "      <td>16.51</td>\n",
       "    </tr>\n",
       "    <tr>\n",
       "      <th>21</th>\n",
       "      <td>K</td>\n",
       "      <td>1</td>\n",
       "      <td>2</td>\n",
       "      <td>13.33</td>\n",
       "    </tr>\n",
       "    <tr>\n",
       "      <th>9</th>\n",
       "      <td>E</td>\n",
       "      <td>1</td>\n",
       "      <td>5</td>\n",
       "      <td>13.16</td>\n",
       "    </tr>\n",
       "    <tr>\n",
       "      <th>3</th>\n",
       "      <td>B</td>\n",
       "      <td>1</td>\n",
       "      <td>24</td>\n",
       "      <td>12.44</td>\n",
       "    </tr>\n",
       "    <tr>\n",
       "      <th>15</th>\n",
       "      <td>H</td>\n",
       "      <td>1</td>\n",
       "      <td>4</td>\n",
       "      <td>12.12</td>\n",
       "    </tr>\n",
       "    <tr>\n",
       "      <th>31</th>\n",
       "      <td>P</td>\n",
       "      <td>1</td>\n",
       "      <td>2</td>\n",
       "      <td>9.52</td>\n",
       "    </tr>\n",
       "    <tr>\n",
       "      <th>19</th>\n",
       "      <td>J</td>\n",
       "      <td>1</td>\n",
       "      <td>2</td>\n",
       "      <td>8.70</td>\n",
       "    </tr>\n",
       "    <tr>\n",
       "      <th>25</th>\n",
       "      <td>M</td>\n",
       "      <td>1</td>\n",
       "      <td>5</td>\n",
       "      <td>8.06</td>\n",
       "    </tr>\n",
       "  </tbody>\n",
       "</table>\n",
       "</div>"
      ],
      "text/plain": [
       "   1_Letra  Leitura  Quantidade       %\n",
       "36       U        1           6  100.00\n",
       "37       W        1           3  100.00\n",
       "38       X        1           1  100.00\n",
       "7        D        1          12   40.00\n",
       "23       L        1           4   36.36\n",
       "29       O        1          14   32.56\n",
       "5        C        1           8   30.77\n",
       "17       I        1          15   30.00\n",
       "11       F        1           8   22.22\n",
       "13       G        1           4   21.05\n",
       "27       N        1           8   19.51\n",
       "35       R        1           7   19.44\n",
       "33       Q        1          17   18.28\n",
       "1        A        1          69   16.51\n",
       "21       K        1           2   13.33\n",
       "9        E        1           5   13.16\n",
       "3        B        1          24   12.44\n",
       "15       H        1           4   12.12\n",
       "31       P        1           2    9.52\n",
       "19       J        1           2    8.70\n",
       "25       M        1           5    8.06"
      ]
     },
     "execution_count": 46,
     "metadata": {},
     "output_type": "execute_result"
    }
   ],
   "source": [
    "# Quadro comparativo de falsos positivos, classificado em ordem decrescente de percentual\n",
    "df_falso_positivo.sort_values(by = '%', ascending = False)"
   ]
  },
  {
   "cell_type": "code",
   "execution_count": 47,
   "metadata": {},
   "outputs": [],
   "source": [
    "#Agrupando as letras U, W e X em 'U-W-X'\n",
    "df.loc[df['1_Letra'] == 'U', '1_Letra'] = 'U-W-X'\n",
    "df.loc[df['1_Letra'] == 'W', '1_Letra'] = 'U-W-X'\n",
    "df.loc[df['1_Letra'] == 'X', '1_Letra'] = 'U-W-X'"
   ]
  },
  {
   "cell_type": "code",
   "execution_count": 48,
   "metadata": {},
   "outputs": [],
   "source": [
    "#Agrupando as letras D, L, O, C e I em 'D-L-O-C-I'\n",
    "df.loc[df['1_Letra'] == 'D', '1_Letra'] = 'D-L-O-C-I'\n",
    "df.loc[df['1_Letra'] == 'L', '1_Letra'] = 'D-L-O-C-I'\n",
    "df.loc[df['1_Letra'] == 'O', '1_Letra'] = 'D-L-O-C-I'\n",
    "df.loc[df['1_Letra'] == 'C', '1_Letra'] = 'D-L-O-C-I'\n",
    "df.loc[df['1_Letra'] == 'I', '1_Letra'] = 'D-L-O-C-I'"
   ]
  },
  {
   "cell_type": "code",
   "execution_count": 49,
   "metadata": {},
   "outputs": [],
   "source": [
    "#Agrupando as letras F, G, N, R, Q e A em 'F-G-N-R-Q-A'\n",
    "df.loc[df['1_Letra'] == 'F', '1_Letra'] = 'F-G-N-R-Q-A'\n",
    "df.loc[df['1_Letra'] == 'G', '1_Letra'] = 'F-G-N-R-Q-A'\n",
    "df.loc[df['1_Letra'] == 'N', '1_Letra'] = 'F-G-N-R-Q-A'\n",
    "df.loc[df['1_Letra'] == 'R', '1_Letra'] = 'F-G-N-R-Q-A'\n",
    "df.loc[df['1_Letra'] == 'Q', '1_Letra'] = 'F-G-N-R-Q-A'\n",
    "df.loc[df['1_Letra'] == 'A', '1_Letra'] = 'F-G-N-R-Q-A'"
   ]
  },
  {
   "cell_type": "code",
   "execution_count": 50,
   "metadata": {},
   "outputs": [],
   "source": [
    "#Agrupando as letras K, E e B em 'K-E-B'\n",
    "df.loc[df['1_Letra'] == 'K', '1_Letra'] = 'K-E-B'\n",
    "df.loc[df['1_Letra'] == 'E', '1_Letra'] = 'K-E-B'\n",
    "df.loc[df['1_Letra'] == 'B', '1_Letra'] = 'K-E-B'"
   ]
  },
  {
   "cell_type": "code",
   "execution_count": 51,
   "metadata": {},
   "outputs": [],
   "source": [
    "#Agrupando as letras H, P, J e M em 'H-P-J-M'\n",
    "df.loc[df['1_Letra'] == 'H', '1_Letra'] = 'H-P-J-M'\n",
    "df.loc[df['1_Letra'] == 'P', '1_Letra'] = 'H-P-J-M'\n",
    "df.loc[df['1_Letra'] == 'J', '1_Letra'] = 'H-P-J-M'\n",
    "df.loc[df['1_Letra'] == 'M', '1_Letra'] = 'H-P-J-M'"
   ]
  },
  {
   "cell_type": "code",
   "execution_count": 52,
   "metadata": {},
   "outputs": [
    {
     "data": {
      "text/plain": [
       "<AxesSubplot:xlabel='1_Letra', ylabel='Leitura'>"
      ]
     },
     "execution_count": 52,
     "metadata": {},
     "output_type": "execute_result"
    },
    {
     "data": {
      "image/png": "[encoded data removed]",
      "text/plain": [
       "<Figure size 432x288 with 1 Axes>"
      ]
     },
     "metadata": {
      "needs_background": "light"
     },
     "output_type": "display_data"
    }
   ],
   "source": [
    "sns.barplot(x='1_Letra',y='Leitura', data=df, ci=False)"
   ]
  },
  {
   "cell_type": "markdown",
   "metadata": {},
   "source": [
    "## 4.2 Variável ‘5_Dígito’"
   ]
  },
  {
   "cell_type": "code",
   "execution_count": 53,
   "metadata": {},
   "outputs": [
    {
     "data": {
      "text/html": [
       "<div>\n",
       "<style scoped>\n",
       "    .dataframe tbody tr th:only-of-type {\n",
       "        vertical-align: middle;\n",
       "    }\n",
       "\n",
       "    .dataframe tbody tr th {\n",
       "        vertical-align: top;\n",
       "    }\n",
       "\n",
       "    .dataframe thead th {\n",
       "        text-align: right;\n",
       "    }\n",
       "</style>\n",
       "<table border=\"1\" class=\"dataframe\">\n",
       "  <thead>\n",
       "    <tr style=\"text-align: right;\">\n",
       "      <th></th>\n",
       "      <th>5_Dígito</th>\n",
       "    </tr>\n",
       "  </thead>\n",
       "  <tbody>\n",
       "    <tr>\n",
       "      <th>0</th>\n",
       "      <td>51</td>\n",
       "    </tr>\n",
       "    <tr>\n",
       "      <th>1</th>\n",
       "      <td>75</td>\n",
       "    </tr>\n",
       "    <tr>\n",
       "      <th>2</th>\n",
       "      <td>66</td>\n",
       "    </tr>\n",
       "    <tr>\n",
       "      <th>3</th>\n",
       "      <td>79</td>\n",
       "    </tr>\n",
       "    <tr>\n",
       "      <th>4</th>\n",
       "      <td>65</td>\n",
       "    </tr>\n",
       "    <tr>\n",
       "      <th>5</th>\n",
       "      <td>54</td>\n",
       "    </tr>\n",
       "    <tr>\n",
       "      <th>6</th>\n",
       "      <td>60</td>\n",
       "    </tr>\n",
       "    <tr>\n",
       "      <th>7</th>\n",
       "      <td>79</td>\n",
       "    </tr>\n",
       "    <tr>\n",
       "      <th>8</th>\n",
       "      <td>68</td>\n",
       "    </tr>\n",
       "    <tr>\n",
       "      <th>9</th>\n",
       "      <td>62</td>\n",
       "    </tr>\n",
       "    <tr>\n",
       "      <th>A</th>\n",
       "      <td>59</td>\n",
       "    </tr>\n",
       "    <tr>\n",
       "      <th>B</th>\n",
       "      <td>43</td>\n",
       "    </tr>\n",
       "    <tr>\n",
       "      <th>C</th>\n",
       "      <td>49</td>\n",
       "    </tr>\n",
       "    <tr>\n",
       "      <th>D</th>\n",
       "      <td>65</td>\n",
       "    </tr>\n",
       "    <tr>\n",
       "      <th>E</th>\n",
       "      <td>47</td>\n",
       "    </tr>\n",
       "    <tr>\n",
       "      <th>F</th>\n",
       "      <td>41</td>\n",
       "    </tr>\n",
       "    <tr>\n",
       "      <th>G</th>\n",
       "      <td>60</td>\n",
       "    </tr>\n",
       "    <tr>\n",
       "      <th>H</th>\n",
       "      <td>48</td>\n",
       "    </tr>\n",
       "    <tr>\n",
       "      <th>I</th>\n",
       "      <td>56</td>\n",
       "    </tr>\n",
       "    <tr>\n",
       "      <th>J</th>\n",
       "      <td>61</td>\n",
       "    </tr>\n",
       "    <tr>\n",
       "      <th>M</th>\n",
       "      <td>5</td>\n",
       "    </tr>\n",
       "    <tr>\n",
       "      <th>P</th>\n",
       "      <td>1</td>\n",
       "    </tr>\n",
       "    <tr>\n",
       "      <th>Q</th>\n",
       "      <td>1</td>\n",
       "    </tr>\n",
       "    <tr>\n",
       "      <th>R</th>\n",
       "      <td>2</td>\n",
       "    </tr>\n",
       "    <tr>\n",
       "      <th>W</th>\n",
       "      <td>1</td>\n",
       "    </tr>\n",
       "  </tbody>\n",
       "</table>\n",
       "</div>"
      ],
      "text/plain": [
       "   5_Dígito\n",
       "0        51\n",
       "1        75\n",
       "2        66\n",
       "3        79\n",
       "4        65\n",
       "5        54\n",
       "6        60\n",
       "7        79\n",
       "8        68\n",
       "9        62\n",
       "A        59\n",
       "B        43\n",
       "C        49\n",
       "D        65\n",
       "E        47\n",
       "F        41\n",
       "G        60\n",
       "H        48\n",
       "I        56\n",
       "J        61\n",
       "M         5\n",
       "P         1\n",
       "Q         1\n",
       "R         2\n",
       "W         1"
      ]
     },
     "execution_count": 53,
     "metadata": {},
     "output_type": "execute_result"
    }
   ],
   "source": [
    "#CONTAGEM '5_Dígito'\n",
    "df['5_Dígito'].value_counts().sort_index(ascending=True).to_frame()"
   ]
  },
  {
   "cell_type": "code",
   "execution_count": 54,
   "metadata": {},
   "outputs": [
    {
     "data": {
      "text/plain": [
       "<AxesSubplot:xlabel='5_Dígito', ylabel='count'>"
      ]
     },
     "execution_count": 54,
     "metadata": {},
     "output_type": "execute_result"
    },
    {
     "data": {
      "image/png": "[encoded data removed]",
      "text/plain": [
       "<Figure size 432x288 with 1 Axes>"
      ]
     },
     "metadata": {
      "needs_background": "light"
     },
     "output_type": "display_data"
    }
   ],
   "source": [
    "sns.countplot(x='5_Dígito',data=df, hue = 'Leitura')"
   ]
  },
  {
   "cell_type": "code",
   "execution_count": 55,
   "metadata": {},
   "outputs": [],
   "source": [
    "#Separando a variável '5_Dígito' conforme o tipo de placas: padrão antigo e padrão Mercosul\n",
    "df_antigo = df[(df['5_Dígito'].str.isnumeric())]"
   ]
  },
  {
   "cell_type": "code",
   "execution_count": 56,
   "metadata": {},
   "outputs": [],
   "source": [
    "df_mercosul = df[(df['5_Dígito'].str.isalpha())]"
   ]
  },
  {
   "cell_type": "code",
   "execution_count": 57,
   "metadata": {},
   "outputs": [
    {
     "data": {
      "text/html": [
       "<div>\n",
       "<style scoped>\n",
       "    .dataframe tbody tr th:only-of-type {\n",
       "        vertical-align: middle;\n",
       "    }\n",
       "\n",
       "    .dataframe tbody tr th {\n",
       "        vertical-align: top;\n",
       "    }\n",
       "\n",
       "    .dataframe thead th {\n",
       "        text-align: right;\n",
       "    }\n",
       "</style>\n",
       "<table border=\"1\" class=\"dataframe\">\n",
       "  <thead>\n",
       "    <tr style=\"text-align: right;\">\n",
       "      <th></th>\n",
       "      <th>Leitura</th>\n",
       "    </tr>\n",
       "  </thead>\n",
       "  <tbody>\n",
       "    <tr>\n",
       "      <th>0</th>\n",
       "      <td>79.36</td>\n",
       "    </tr>\n",
       "    <tr>\n",
       "      <th>1</th>\n",
       "      <td>20.64</td>\n",
       "    </tr>\n",
       "  </tbody>\n",
       "</table>\n",
       "</div>"
      ],
      "text/plain": [
       "   Leitura\n",
       "0    79.36\n",
       "1    20.64"
      ]
     },
     "execution_count": 57,
     "metadata": {},
     "output_type": "execute_result"
    }
   ],
   "source": [
    "#Percentual de Falsos Positivos para o padrão antigo\n",
    "df_antigo['Leitura'].value_counts(normalize=True).round(4).to_frame()*100"
   ]
  },
  {
   "cell_type": "code",
   "execution_count": 58,
   "metadata": {},
   "outputs": [
    {
     "data": {
      "text/html": [
       "<div>\n",
       "<style scoped>\n",
       "    .dataframe tbody tr th:only-of-type {\n",
       "        vertical-align: middle;\n",
       "    }\n",
       "\n",
       "    .dataframe tbody tr th {\n",
       "        vertical-align: top;\n",
       "    }\n",
       "\n",
       "    .dataframe thead th {\n",
       "        text-align: right;\n",
       "    }\n",
       "</style>\n",
       "<table border=\"1\" class=\"dataframe\">\n",
       "  <thead>\n",
       "    <tr style=\"text-align: right;\">\n",
       "      <th></th>\n",
       "      <th>Leitura</th>\n",
       "    </tr>\n",
       "  </thead>\n",
       "  <tbody>\n",
       "    <tr>\n",
       "      <th>0</th>\n",
       "      <td>84.42</td>\n",
       "    </tr>\n",
       "    <tr>\n",
       "      <th>1</th>\n",
       "      <td>15.58</td>\n",
       "    </tr>\n",
       "  </tbody>\n",
       "</table>\n",
       "</div>"
      ],
      "text/plain": [
       "   Leitura\n",
       "0    84.42\n",
       "1    15.58"
      ]
     },
     "execution_count": 58,
     "metadata": {},
     "output_type": "execute_result"
    }
   ],
   "source": [
    "#Percentual de Falsos Positivos para o padrão Mercosul\n",
    "df_mercosul['Leitura'].value_counts(normalize=True).round(4).to_frame()*100"
   ]
  },
  {
   "cell_type": "code",
   "execution_count": 59,
   "metadata": {},
   "outputs": [],
   "source": [
    "#Adicionando a variável 'Mercosul' ao dataset - True para padrão Mercosul, False para padrão antigo\n",
    "df['Mercosul'] = (df['5_Dígito'].str.isalpha())"
   ]
  },
  {
   "cell_type": "code",
   "execution_count": 60,
   "metadata": {},
   "outputs": [
    {
     "data": {
      "text/html": [
       "<div>\n",
       "<style scoped>\n",
       "    .dataframe tbody tr th:only-of-type {\n",
       "        vertical-align: middle;\n",
       "    }\n",
       "\n",
       "    .dataframe tbody tr th {\n",
       "        vertical-align: top;\n",
       "    }\n",
       "\n",
       "    .dataframe thead th {\n",
       "        text-align: right;\n",
       "    }\n",
       "</style>\n",
       "<table border=\"1\" class=\"dataframe\">\n",
       "  <thead>\n",
       "    <tr style=\"text-align: right;\">\n",
       "      <th></th>\n",
       "      <th>Mercosul</th>\n",
       "      <th>5_Dígito</th>\n",
       "    </tr>\n",
       "  </thead>\n",
       "  <tbody>\n",
       "    <tr>\n",
       "      <th>0</th>\n",
       "      <td>False</td>\n",
       "      <td>3</td>\n",
       "    </tr>\n",
       "    <tr>\n",
       "      <th>1</th>\n",
       "      <td>True</td>\n",
       "      <td>G</td>\n",
       "    </tr>\n",
       "    <tr>\n",
       "      <th>2</th>\n",
       "      <td>True</td>\n",
       "      <td>G</td>\n",
       "    </tr>\n",
       "    <tr>\n",
       "      <th>3</th>\n",
       "      <td>False</td>\n",
       "      <td>3</td>\n",
       "    </tr>\n",
       "    <tr>\n",
       "      <th>4</th>\n",
       "      <td>True</td>\n",
       "      <td>F</td>\n",
       "    </tr>\n",
       "  </tbody>\n",
       "</table>\n",
       "</div>"
      ],
      "text/plain": [
       "   Mercosul 5_Dígito\n",
       "0     False        3\n",
       "1      True        G\n",
       "2      True        G\n",
       "3     False        3\n",
       "4      True        F"
      ]
     },
     "execution_count": 60,
     "metadata": {},
     "output_type": "execute_result"
    }
   ],
   "source": [
    "df[['Mercosul','5_Dígito']].head(5)"
   ]
  },
  {
   "cell_type": "markdown",
   "metadata": {},
   "source": [
    "### 4.2.1 Variável ‘5_Dígito’ – Padrão antigo de placas"
   ]
  },
  {
   "cell_type": "code",
   "execution_count": 61,
   "metadata": {},
   "outputs": [
    {
     "data": {
      "text/plain": [
       "nunique     10\n",
       "count      659\n",
       "size       659\n",
       "Name: 5_Dígito, dtype: int64"
      ]
     },
     "execution_count": 61,
     "metadata": {},
     "output_type": "execute_result"
    }
   ],
   "source": [
    "#Contagem de placas do padrão antigo\n",
    "df_antigo['5_Dígito'].agg(['nunique','count','size'])"
   ]
  },
  {
   "cell_type": "code",
   "execution_count": 62,
   "metadata": {},
   "outputs": [
    {
     "data": {
      "text/html": [
       "<div>\n",
       "<style scoped>\n",
       "    .dataframe tbody tr th:only-of-type {\n",
       "        vertical-align: middle;\n",
       "    }\n",
       "\n",
       "    .dataframe tbody tr th {\n",
       "        vertical-align: top;\n",
       "    }\n",
       "\n",
       "    .dataframe thead th {\n",
       "        text-align: right;\n",
       "    }\n",
       "</style>\n",
       "<table border=\"1\" class=\"dataframe\">\n",
       "  <thead>\n",
       "    <tr style=\"text-align: right;\">\n",
       "      <th></th>\n",
       "      <th>5_Dígito</th>\n",
       "    </tr>\n",
       "  </thead>\n",
       "  <tbody>\n",
       "    <tr>\n",
       "      <th>0</th>\n",
       "      <td>51</td>\n",
       "    </tr>\n",
       "    <tr>\n",
       "      <th>1</th>\n",
       "      <td>75</td>\n",
       "    </tr>\n",
       "    <tr>\n",
       "      <th>2</th>\n",
       "      <td>66</td>\n",
       "    </tr>\n",
       "    <tr>\n",
       "      <th>3</th>\n",
       "      <td>79</td>\n",
       "    </tr>\n",
       "    <tr>\n",
       "      <th>4</th>\n",
       "      <td>65</td>\n",
       "    </tr>\n",
       "    <tr>\n",
       "      <th>5</th>\n",
       "      <td>54</td>\n",
       "    </tr>\n",
       "    <tr>\n",
       "      <th>6</th>\n",
       "      <td>60</td>\n",
       "    </tr>\n",
       "    <tr>\n",
       "      <th>7</th>\n",
       "      <td>79</td>\n",
       "    </tr>\n",
       "    <tr>\n",
       "      <th>8</th>\n",
       "      <td>68</td>\n",
       "    </tr>\n",
       "    <tr>\n",
       "      <th>9</th>\n",
       "      <td>62</td>\n",
       "    </tr>\n",
       "  </tbody>\n",
       "</table>\n",
       "</div>"
      ],
      "text/plain": [
       "   5_Dígito\n",
       "0        51\n",
       "1        75\n",
       "2        66\n",
       "3        79\n",
       "4        65\n",
       "5        54\n",
       "6        60\n",
       "7        79\n",
       "8        68\n",
       "9        62"
      ]
     },
     "execution_count": 62,
     "metadata": {},
     "output_type": "execute_result"
    }
   ],
   "source": [
    "#Contagem por dígito\n",
    "df_antigo['5_Dígito'].value_counts().sort_index(ascending=True).to_frame()"
   ]
  },
  {
   "cell_type": "code",
   "execution_count": 63,
   "metadata": {},
   "outputs": [
    {
     "data": {
      "text/html": [
       "<div>\n",
       "<style scoped>\n",
       "    .dataframe tbody tr th:only-of-type {\n",
       "        vertical-align: middle;\n",
       "    }\n",
       "\n",
       "    .dataframe tbody tr th {\n",
       "        vertical-align: top;\n",
       "    }\n",
       "\n",
       "    .dataframe thead th {\n",
       "        text-align: right;\n",
       "    }\n",
       "</style>\n",
       "<table border=\"1\" class=\"dataframe\">\n",
       "  <thead>\n",
       "    <tr style=\"text-align: right;\">\n",
       "      <th></th>\n",
       "      <th>5_Dígito</th>\n",
       "    </tr>\n",
       "  </thead>\n",
       "  <tbody>\n",
       "    <tr>\n",
       "      <th>0</th>\n",
       "      <td>0.077390</td>\n",
       "    </tr>\n",
       "    <tr>\n",
       "      <th>1</th>\n",
       "      <td>0.113809</td>\n",
       "    </tr>\n",
       "    <tr>\n",
       "      <th>2</th>\n",
       "      <td>0.100152</td>\n",
       "    </tr>\n",
       "    <tr>\n",
       "      <th>3</th>\n",
       "      <td>0.119879</td>\n",
       "    </tr>\n",
       "    <tr>\n",
       "      <th>4</th>\n",
       "      <td>0.098634</td>\n",
       "    </tr>\n",
       "    <tr>\n",
       "      <th>5</th>\n",
       "      <td>0.081942</td>\n",
       "    </tr>\n",
       "    <tr>\n",
       "      <th>6</th>\n",
       "      <td>0.091047</td>\n",
       "    </tr>\n",
       "    <tr>\n",
       "      <th>7</th>\n",
       "      <td>0.119879</td>\n",
       "    </tr>\n",
       "    <tr>\n",
       "      <th>8</th>\n",
       "      <td>0.103187</td>\n",
       "    </tr>\n",
       "    <tr>\n",
       "      <th>9</th>\n",
       "      <td>0.094082</td>\n",
       "    </tr>\n",
       "  </tbody>\n",
       "</table>\n",
       "</div>"
      ],
      "text/plain": [
       "   5_Dígito\n",
       "0  0.077390\n",
       "1  0.113809\n",
       "2  0.100152\n",
       "3  0.119879\n",
       "4  0.098634\n",
       "5  0.081942\n",
       "6  0.091047\n",
       "7  0.119879\n",
       "8  0.103187\n",
       "9  0.094082"
      ]
     },
     "execution_count": 63,
     "metadata": {},
     "output_type": "execute_result"
    }
   ],
   "source": [
    "#Frequência por dígito\n",
    "df_antigo['5_Dígito'].value_counts(normalize=True).sort_index(ascending=True).to_frame()"
   ]
  },
  {
   "cell_type": "code",
   "execution_count": 64,
   "metadata": {},
   "outputs": [
    {
     "data": {
      "text/html": [
       "<div>\n",
       "<style scoped>\n",
       "    .dataframe tbody tr th:only-of-type {\n",
       "        vertical-align: middle;\n",
       "    }\n",
       "\n",
       "    .dataframe tbody tr th {\n",
       "        vertical-align: top;\n",
       "    }\n",
       "\n",
       "    .dataframe thead th {\n",
       "        text-align: right;\n",
       "    }\n",
       "</style>\n",
       "<table border=\"1\" class=\"dataframe\">\n",
       "  <thead>\n",
       "    <tr style=\"text-align: right;\">\n",
       "      <th></th>\n",
       "      <th></th>\n",
       "      <th>0</th>\n",
       "    </tr>\n",
       "    <tr>\n",
       "      <th>5_Dígito</th>\n",
       "      <th>Leitura</th>\n",
       "      <th></th>\n",
       "    </tr>\n",
       "  </thead>\n",
       "  <tbody>\n",
       "    <tr>\n",
       "      <th rowspan=\"2\" valign=\"top\">0</th>\n",
       "      <th>0</th>\n",
       "      <td>39</td>\n",
       "    </tr>\n",
       "    <tr>\n",
       "      <th>1</th>\n",
       "      <td>12</td>\n",
       "    </tr>\n",
       "    <tr>\n",
       "      <th rowspan=\"2\" valign=\"top\">1</th>\n",
       "      <th>0</th>\n",
       "      <td>51</td>\n",
       "    </tr>\n",
       "    <tr>\n",
       "      <th>1</th>\n",
       "      <td>24</td>\n",
       "    </tr>\n",
       "    <tr>\n",
       "      <th rowspan=\"2\" valign=\"top\">2</th>\n",
       "      <th>0</th>\n",
       "      <td>54</td>\n",
       "    </tr>\n",
       "    <tr>\n",
       "      <th>1</th>\n",
       "      <td>12</td>\n",
       "    </tr>\n",
       "    <tr>\n",
       "      <th rowspan=\"2\" valign=\"top\">3</th>\n",
       "      <th>0</th>\n",
       "      <td>61</td>\n",
       "    </tr>\n",
       "    <tr>\n",
       "      <th>1</th>\n",
       "      <td>18</td>\n",
       "    </tr>\n",
       "    <tr>\n",
       "      <th rowspan=\"2\" valign=\"top\">4</th>\n",
       "      <th>0</th>\n",
       "      <td>49</td>\n",
       "    </tr>\n",
       "    <tr>\n",
       "      <th>1</th>\n",
       "      <td>16</td>\n",
       "    </tr>\n",
       "    <tr>\n",
       "      <th rowspan=\"2\" valign=\"top\">5</th>\n",
       "      <th>0</th>\n",
       "      <td>48</td>\n",
       "    </tr>\n",
       "    <tr>\n",
       "      <th>1</th>\n",
       "      <td>6</td>\n",
       "    </tr>\n",
       "    <tr>\n",
       "      <th rowspan=\"2\" valign=\"top\">6</th>\n",
       "      <th>0</th>\n",
       "      <td>50</td>\n",
       "    </tr>\n",
       "    <tr>\n",
       "      <th>1</th>\n",
       "      <td>10</td>\n",
       "    </tr>\n",
       "    <tr>\n",
       "      <th rowspan=\"2\" valign=\"top\">7</th>\n",
       "      <th>0</th>\n",
       "      <td>64</td>\n",
       "    </tr>\n",
       "    <tr>\n",
       "      <th>1</th>\n",
       "      <td>15</td>\n",
       "    </tr>\n",
       "    <tr>\n",
       "      <th rowspan=\"2\" valign=\"top\">8</th>\n",
       "      <th>0</th>\n",
       "      <td>58</td>\n",
       "    </tr>\n",
       "    <tr>\n",
       "      <th>1</th>\n",
       "      <td>10</td>\n",
       "    </tr>\n",
       "    <tr>\n",
       "      <th rowspan=\"2\" valign=\"top\">9</th>\n",
       "      <th>0</th>\n",
       "      <td>49</td>\n",
       "    </tr>\n",
       "    <tr>\n",
       "      <th>1</th>\n",
       "      <td>13</td>\n",
       "    </tr>\n",
       "  </tbody>\n",
       "</table>\n",
       "</div>"
      ],
      "text/plain": [
       "                   0\n",
       "5_Dígito Leitura    \n",
       "0        0        39\n",
       "         1        12\n",
       "1        0        51\n",
       "         1        24\n",
       "2        0        54\n",
       "         1        12\n",
       "3        0        61\n",
       "         1        18\n",
       "4        0        49\n",
       "         1        16\n",
       "5        0        48\n",
       "         1         6\n",
       "6        0        50\n",
       "         1        10\n",
       "7        0        64\n",
       "         1        15\n",
       "8        0        58\n",
       "         1        10\n",
       "9        0        49\n",
       "         1        13"
      ]
     },
     "execution_count": 64,
     "metadata": {},
     "output_type": "execute_result"
    }
   ],
   "source": [
    "#CONTAGEM DE LEITURAS INCORRETAS, SEPARADOS POR '5_Dígito' - Padrão Antigo\n",
    "df_antigo.groupby(['5_Dígito','Leitura']).size().to_frame()"
   ]
  },
  {
   "cell_type": "code",
   "execution_count": 65,
   "metadata": {},
   "outputs": [
    {
     "data": {
      "text/html": [
       "<div>\n",
       "<style scoped>\n",
       "    .dataframe tbody tr th:only-of-type {\n",
       "        vertical-align: middle;\n",
       "    }\n",
       "\n",
       "    .dataframe tbody tr th {\n",
       "        vertical-align: top;\n",
       "    }\n",
       "\n",
       "    .dataframe thead th {\n",
       "        text-align: right;\n",
       "    }\n",
       "</style>\n",
       "<table border=\"1\" class=\"dataframe\">\n",
       "  <thead>\n",
       "    <tr style=\"text-align: right;\">\n",
       "      <th></th>\n",
       "      <th></th>\n",
       "      <th>Quantidade</th>\n",
       "      <th>%</th>\n",
       "    </tr>\n",
       "    <tr>\n",
       "      <th>5_Dígito</th>\n",
       "      <th>Leitura</th>\n",
       "      <th></th>\n",
       "      <th></th>\n",
       "    </tr>\n",
       "  </thead>\n",
       "  <tbody>\n",
       "    <tr>\n",
       "      <th rowspan=\"2\" valign=\"top\">0</th>\n",
       "      <th>0</th>\n",
       "      <td>39</td>\n",
       "      <td>76.47</td>\n",
       "    </tr>\n",
       "    <tr>\n",
       "      <th>1</th>\n",
       "      <td>12</td>\n",
       "      <td>23.53</td>\n",
       "    </tr>\n",
       "    <tr>\n",
       "      <th rowspan=\"2\" valign=\"top\">1</th>\n",
       "      <th>0</th>\n",
       "      <td>51</td>\n",
       "      <td>68.00</td>\n",
       "    </tr>\n",
       "    <tr>\n",
       "      <th>1</th>\n",
       "      <td>24</td>\n",
       "      <td>32.00</td>\n",
       "    </tr>\n",
       "    <tr>\n",
       "      <th rowspan=\"2\" valign=\"top\">2</th>\n",
       "      <th>0</th>\n",
       "      <td>54</td>\n",
       "      <td>81.82</td>\n",
       "    </tr>\n",
       "    <tr>\n",
       "      <th>1</th>\n",
       "      <td>12</td>\n",
       "      <td>18.18</td>\n",
       "    </tr>\n",
       "    <tr>\n",
       "      <th rowspan=\"2\" valign=\"top\">3</th>\n",
       "      <th>0</th>\n",
       "      <td>61</td>\n",
       "      <td>77.22</td>\n",
       "    </tr>\n",
       "    <tr>\n",
       "      <th>1</th>\n",
       "      <td>18</td>\n",
       "      <td>22.78</td>\n",
       "    </tr>\n",
       "    <tr>\n",
       "      <th rowspan=\"2\" valign=\"top\">4</th>\n",
       "      <th>0</th>\n",
       "      <td>49</td>\n",
       "      <td>75.38</td>\n",
       "    </tr>\n",
       "    <tr>\n",
       "      <th>1</th>\n",
       "      <td>16</td>\n",
       "      <td>24.62</td>\n",
       "    </tr>\n",
       "    <tr>\n",
       "      <th rowspan=\"2\" valign=\"top\">5</th>\n",
       "      <th>0</th>\n",
       "      <td>48</td>\n",
       "      <td>88.89</td>\n",
       "    </tr>\n",
       "    <tr>\n",
       "      <th>1</th>\n",
       "      <td>6</td>\n",
       "      <td>11.11</td>\n",
       "    </tr>\n",
       "    <tr>\n",
       "      <th rowspan=\"2\" valign=\"top\">6</th>\n",
       "      <th>0</th>\n",
       "      <td>50</td>\n",
       "      <td>83.33</td>\n",
       "    </tr>\n",
       "    <tr>\n",
       "      <th>1</th>\n",
       "      <td>10</td>\n",
       "      <td>16.67</td>\n",
       "    </tr>\n",
       "    <tr>\n",
       "      <th rowspan=\"2\" valign=\"top\">7</th>\n",
       "      <th>0</th>\n",
       "      <td>64</td>\n",
       "      <td>81.01</td>\n",
       "    </tr>\n",
       "    <tr>\n",
       "      <th>1</th>\n",
       "      <td>15</td>\n",
       "      <td>18.99</td>\n",
       "    </tr>\n",
       "    <tr>\n",
       "      <th rowspan=\"2\" valign=\"top\">8</th>\n",
       "      <th>0</th>\n",
       "      <td>58</td>\n",
       "      <td>85.29</td>\n",
       "    </tr>\n",
       "    <tr>\n",
       "      <th>1</th>\n",
       "      <td>10</td>\n",
       "      <td>14.71</td>\n",
       "    </tr>\n",
       "    <tr>\n",
       "      <th rowspan=\"2\" valign=\"top\">9</th>\n",
       "      <th>0</th>\n",
       "      <td>49</td>\n",
       "      <td>79.03</td>\n",
       "    </tr>\n",
       "    <tr>\n",
       "      <th>1</th>\n",
       "      <td>13</td>\n",
       "      <td>20.97</td>\n",
       "    </tr>\n",
       "  </tbody>\n",
       "</table>\n",
       "</div>"
      ],
      "text/plain": [
       "                  Quantidade      %\n",
       "5_Dígito Leitura                   \n",
       "0        0                39  76.47\n",
       "         1                12  23.53\n",
       "1        0                51  68.00\n",
       "         1                24  32.00\n",
       "2        0                54  81.82\n",
       "         1                12  18.18\n",
       "3        0                61  77.22\n",
       "         1                18  22.78\n",
       "4        0                49  75.38\n",
       "         1                16  24.62\n",
       "5        0                48  88.89\n",
       "         1                 6  11.11\n",
       "6        0                50  83.33\n",
       "         1                10  16.67\n",
       "7        0                64  81.01\n",
       "         1                15  18.99\n",
       "8        0                58  85.29\n",
       "         1                10  14.71\n",
       "9        0                49  79.03\n",
       "         1                13  20.97"
      ]
     },
     "execution_count": 65,
     "metadata": {},
     "output_type": "execute_result"
    }
   ],
   "source": [
    "#PERCENTUAL DE FALSOS POSITIVOS, SEPARADOS POR '5_Dígito'\n",
    "df_percentual_ant = df_antigo.groupby(['5_Dígito','Leitura']).agg({'MUNICIPIO':'count'})[['MUNICIPIO']]\n",
    "df_percentual_ant['%'] = df_percentual_ant.groupby(level=0).apply(lambda x: 100*x/x.sum())\n",
    "df_percentual_ant = df_percentual_ant.rename(columns={'MUNICIPIO':'Quantidade'}).round(2)\n",
    "df_percentual_ant"
   ]
  },
  {
   "cell_type": "code",
   "execution_count": 66,
   "metadata": {},
   "outputs": [],
   "source": [
    "df_percentual_ant = df_percentual_ant.reset_index()"
   ]
  },
  {
   "cell_type": "code",
   "execution_count": 67,
   "metadata": {},
   "outputs": [
    {
     "data": {
      "text/html": [
       "<div>\n",
       "<style scoped>\n",
       "    .dataframe tbody tr th:only-of-type {\n",
       "        vertical-align: middle;\n",
       "    }\n",
       "\n",
       "    .dataframe tbody tr th {\n",
       "        vertical-align: top;\n",
       "    }\n",
       "\n",
       "    .dataframe thead th {\n",
       "        text-align: right;\n",
       "    }\n",
       "</style>\n",
       "<table border=\"1\" class=\"dataframe\">\n",
       "  <thead>\n",
       "    <tr style=\"text-align: right;\">\n",
       "      <th></th>\n",
       "      <th>5_Dígito</th>\n",
       "      <th>Leitura</th>\n",
       "      <th>Quantidade</th>\n",
       "      <th>%</th>\n",
       "    </tr>\n",
       "  </thead>\n",
       "  <tbody>\n",
       "    <tr>\n",
       "      <th>3</th>\n",
       "      <td>1</td>\n",
       "      <td>1</td>\n",
       "      <td>24</td>\n",
       "      <td>32.00</td>\n",
       "    </tr>\n",
       "    <tr>\n",
       "      <th>7</th>\n",
       "      <td>3</td>\n",
       "      <td>1</td>\n",
       "      <td>18</td>\n",
       "      <td>22.78</td>\n",
       "    </tr>\n",
       "    <tr>\n",
       "      <th>9</th>\n",
       "      <td>4</td>\n",
       "      <td>1</td>\n",
       "      <td>16</td>\n",
       "      <td>24.62</td>\n",
       "    </tr>\n",
       "    <tr>\n",
       "      <th>15</th>\n",
       "      <td>7</td>\n",
       "      <td>1</td>\n",
       "      <td>15</td>\n",
       "      <td>18.99</td>\n",
       "    </tr>\n",
       "    <tr>\n",
       "      <th>19</th>\n",
       "      <td>9</td>\n",
       "      <td>1</td>\n",
       "      <td>13</td>\n",
       "      <td>20.97</td>\n",
       "    </tr>\n",
       "    <tr>\n",
       "      <th>1</th>\n",
       "      <td>0</td>\n",
       "      <td>1</td>\n",
       "      <td>12</td>\n",
       "      <td>23.53</td>\n",
       "    </tr>\n",
       "    <tr>\n",
       "      <th>5</th>\n",
       "      <td>2</td>\n",
       "      <td>1</td>\n",
       "      <td>12</td>\n",
       "      <td>18.18</td>\n",
       "    </tr>\n",
       "    <tr>\n",
       "      <th>13</th>\n",
       "      <td>6</td>\n",
       "      <td>1</td>\n",
       "      <td>10</td>\n",
       "      <td>16.67</td>\n",
       "    </tr>\n",
       "    <tr>\n",
       "      <th>17</th>\n",
       "      <td>8</td>\n",
       "      <td>1</td>\n",
       "      <td>10</td>\n",
       "      <td>14.71</td>\n",
       "    </tr>\n",
       "    <tr>\n",
       "      <th>11</th>\n",
       "      <td>5</td>\n",
       "      <td>1</td>\n",
       "      <td>6</td>\n",
       "      <td>11.11</td>\n",
       "    </tr>\n",
       "  </tbody>\n",
       "</table>\n",
       "</div>"
      ],
      "text/plain": [
       "   5_Dígito  Leitura  Quantidade      %\n",
       "3         1        1          24  32.00\n",
       "7         3        1          18  22.78\n",
       "9         4        1          16  24.62\n",
       "15        7        1          15  18.99\n",
       "19        9        1          13  20.97\n",
       "1         0        1          12  23.53\n",
       "5         2        1          12  18.18\n",
       "13        6        1          10  16.67\n",
       "17        8        1          10  14.71\n",
       "11        5        1           6  11.11"
      ]
     },
     "execution_count": 67,
     "metadata": {},
     "output_type": "execute_result"
    }
   ],
   "source": [
    "# Quadro comparativo de falsos positivos, classificado em ordem decrescente de quantidade\n",
    "df_falso_positivo_ant = df_percentual_ant[df_percentual_ant['Leitura']==1].sort_values(by = 'Quantidade', ascending = False)\n",
    "df_falso_positivo_ant.head(10)"
   ]
  },
  {
   "cell_type": "code",
   "execution_count": 68,
   "metadata": {},
   "outputs": [
    {
     "data": {
      "text/html": [
       "<div>\n",
       "<style scoped>\n",
       "    .dataframe tbody tr th:only-of-type {\n",
       "        vertical-align: middle;\n",
       "    }\n",
       "\n",
       "    .dataframe tbody tr th {\n",
       "        vertical-align: top;\n",
       "    }\n",
       "\n",
       "    .dataframe thead th {\n",
       "        text-align: right;\n",
       "    }\n",
       "</style>\n",
       "<table border=\"1\" class=\"dataframe\">\n",
       "  <thead>\n",
       "    <tr style=\"text-align: right;\">\n",
       "      <th></th>\n",
       "      <th>5_Dígito</th>\n",
       "      <th>Leitura</th>\n",
       "      <th>Quantidade</th>\n",
       "      <th>%</th>\n",
       "    </tr>\n",
       "  </thead>\n",
       "  <tbody>\n",
       "    <tr>\n",
       "      <th>3</th>\n",
       "      <td>1</td>\n",
       "      <td>1</td>\n",
       "      <td>24</td>\n",
       "      <td>32.00</td>\n",
       "    </tr>\n",
       "    <tr>\n",
       "      <th>9</th>\n",
       "      <td>4</td>\n",
       "      <td>1</td>\n",
       "      <td>16</td>\n",
       "      <td>24.62</td>\n",
       "    </tr>\n",
       "    <tr>\n",
       "      <th>1</th>\n",
       "      <td>0</td>\n",
       "      <td>1</td>\n",
       "      <td>12</td>\n",
       "      <td>23.53</td>\n",
       "    </tr>\n",
       "    <tr>\n",
       "      <th>7</th>\n",
       "      <td>3</td>\n",
       "      <td>1</td>\n",
       "      <td>18</td>\n",
       "      <td>22.78</td>\n",
       "    </tr>\n",
       "    <tr>\n",
       "      <th>19</th>\n",
       "      <td>9</td>\n",
       "      <td>1</td>\n",
       "      <td>13</td>\n",
       "      <td>20.97</td>\n",
       "    </tr>\n",
       "    <tr>\n",
       "      <th>15</th>\n",
       "      <td>7</td>\n",
       "      <td>1</td>\n",
       "      <td>15</td>\n",
       "      <td>18.99</td>\n",
       "    </tr>\n",
       "    <tr>\n",
       "      <th>5</th>\n",
       "      <td>2</td>\n",
       "      <td>1</td>\n",
       "      <td>12</td>\n",
       "      <td>18.18</td>\n",
       "    </tr>\n",
       "    <tr>\n",
       "      <th>13</th>\n",
       "      <td>6</td>\n",
       "      <td>1</td>\n",
       "      <td>10</td>\n",
       "      <td>16.67</td>\n",
       "    </tr>\n",
       "    <tr>\n",
       "      <th>17</th>\n",
       "      <td>8</td>\n",
       "      <td>1</td>\n",
       "      <td>10</td>\n",
       "      <td>14.71</td>\n",
       "    </tr>\n",
       "    <tr>\n",
       "      <th>11</th>\n",
       "      <td>5</td>\n",
       "      <td>1</td>\n",
       "      <td>6</td>\n",
       "      <td>11.11</td>\n",
       "    </tr>\n",
       "  </tbody>\n",
       "</table>\n",
       "</div>"
      ],
      "text/plain": [
       "   5_Dígito  Leitura  Quantidade      %\n",
       "3         1        1          24  32.00\n",
       "9         4        1          16  24.62\n",
       "1         0        1          12  23.53\n",
       "7         3        1          18  22.78\n",
       "19        9        1          13  20.97\n",
       "15        7        1          15  18.99\n",
       "5         2        1          12  18.18\n",
       "13        6        1          10  16.67\n",
       "17        8        1          10  14.71\n",
       "11        5        1           6  11.11"
      ]
     },
     "execution_count": 68,
     "metadata": {},
     "output_type": "execute_result"
    }
   ],
   "source": [
    "# Quadro comparativo de falsos positivos, classificado em ordem decrescente de percentual\n",
    "df_falso_positivo_ant.sort_values(by = '%', ascending = False)"
   ]
  },
  {
   "cell_type": "code",
   "execution_count": 69,
   "metadata": {},
   "outputs": [
    {
     "data": {
      "text/plain": [
       "<AxesSubplot:xlabel='5_Dígito', ylabel='Leitura'>"
      ]
     },
     "execution_count": 69,
     "metadata": {},
     "output_type": "execute_result"
    },
    {
     "data": {
      "image/png": "[encoded data removed]",
      "text/plain": [
       "<Figure size 432x288 with 1 Axes>"
      ]
     },
     "metadata": {
      "needs_background": "light"
     },
     "output_type": "display_data"
    }
   ],
   "source": [
    "sns.barplot(x='5_Dígito',y='Leitura', data=df_antigo, ci=False)"
   ]
  },
  {
   "cell_type": "code",
   "execution_count": 70,
   "metadata": {},
   "outputs": [
    {
     "data": {
      "text/plain": [
       "<AxesSubplot:xlabel='5_Dígito', ylabel='count'>"
      ]
     },
     "execution_count": 70,
     "metadata": {},
     "output_type": "execute_result"
    },
    {
     "data": {
      "image/png": "[encoded data removed]",
      "text/plain": [
       "<Figure size 432x288 with 1 Axes>"
      ]
     },
     "metadata": {
      "needs_background": "light"
     },
     "output_type": "display_data"
    }
   ],
   "source": [
    "sns.countplot(x='5_Dígito',data=df_antigo, hue = 'Leitura')"
   ]
  },
  {
   "cell_type": "markdown",
   "metadata": {},
   "source": [
    "### 4.2.2 Variável ‘5_Dígito’ – Padrão Mercosul"
   ]
  },
  {
   "cell_type": "code",
   "execution_count": 71,
   "metadata": {},
   "outputs": [
    {
     "data": {
      "text/plain": [
       "nunique     15\n",
       "count      539\n",
       "size       539\n",
       "Name: 5_Dígito, dtype: int64"
      ]
     },
     "execution_count": 71,
     "metadata": {},
     "output_type": "execute_result"
    }
   ],
   "source": [
    "#Contagem de placas do padrão Mercosul\n",
    "df_mercosul['5_Dígito'].agg(['nunique','count','size'])"
   ]
  },
  {
   "cell_type": "code",
   "execution_count": 72,
   "metadata": {},
   "outputs": [
    {
     "data": {
      "text/html": [
       "<div>\n",
       "<style scoped>\n",
       "    .dataframe tbody tr th:only-of-type {\n",
       "        vertical-align: middle;\n",
       "    }\n",
       "\n",
       "    .dataframe tbody tr th {\n",
       "        vertical-align: top;\n",
       "    }\n",
       "\n",
       "    .dataframe thead th {\n",
       "        text-align: right;\n",
       "    }\n",
       "</style>\n",
       "<table border=\"1\" class=\"dataframe\">\n",
       "  <thead>\n",
       "    <tr style=\"text-align: right;\">\n",
       "      <th></th>\n",
       "      <th>5_Dígito</th>\n",
       "    </tr>\n",
       "  </thead>\n",
       "  <tbody>\n",
       "    <tr>\n",
       "      <th>A</th>\n",
       "      <td>59</td>\n",
       "    </tr>\n",
       "    <tr>\n",
       "      <th>B</th>\n",
       "      <td>43</td>\n",
       "    </tr>\n",
       "    <tr>\n",
       "      <th>C</th>\n",
       "      <td>49</td>\n",
       "    </tr>\n",
       "    <tr>\n",
       "      <th>D</th>\n",
       "      <td>65</td>\n",
       "    </tr>\n",
       "    <tr>\n",
       "      <th>E</th>\n",
       "      <td>47</td>\n",
       "    </tr>\n",
       "    <tr>\n",
       "      <th>F</th>\n",
       "      <td>41</td>\n",
       "    </tr>\n",
       "    <tr>\n",
       "      <th>G</th>\n",
       "      <td>60</td>\n",
       "    </tr>\n",
       "    <tr>\n",
       "      <th>H</th>\n",
       "      <td>48</td>\n",
       "    </tr>\n",
       "    <tr>\n",
       "      <th>I</th>\n",
       "      <td>56</td>\n",
       "    </tr>\n",
       "    <tr>\n",
       "      <th>J</th>\n",
       "      <td>61</td>\n",
       "    </tr>\n",
       "    <tr>\n",
       "      <th>M</th>\n",
       "      <td>5</td>\n",
       "    </tr>\n",
       "    <tr>\n",
       "      <th>P</th>\n",
       "      <td>1</td>\n",
       "    </tr>\n",
       "    <tr>\n",
       "      <th>Q</th>\n",
       "      <td>1</td>\n",
       "    </tr>\n",
       "    <tr>\n",
       "      <th>R</th>\n",
       "      <td>2</td>\n",
       "    </tr>\n",
       "    <tr>\n",
       "      <th>W</th>\n",
       "      <td>1</td>\n",
       "    </tr>\n",
       "  </tbody>\n",
       "</table>\n",
       "</div>"
      ],
      "text/plain": [
       "   5_Dígito\n",
       "A        59\n",
       "B        43\n",
       "C        49\n",
       "D        65\n",
       "E        47\n",
       "F        41\n",
       "G        60\n",
       "H        48\n",
       "I        56\n",
       "J        61\n",
       "M         5\n",
       "P         1\n",
       "Q         1\n",
       "R         2\n",
       "W         1"
      ]
     },
     "execution_count": 72,
     "metadata": {},
     "output_type": "execute_result"
    }
   ],
   "source": [
    "#Contagem por dígito\n",
    "df_mercosul['5_Dígito'].value_counts().sort_index(ascending=True).to_frame()"
   ]
  },
  {
   "cell_type": "code",
   "execution_count": 73,
   "metadata": {},
   "outputs": [
    {
     "data": {
      "text/html": [
       "<div>\n",
       "<style scoped>\n",
       "    .dataframe tbody tr th:only-of-type {\n",
       "        vertical-align: middle;\n",
       "    }\n",
       "\n",
       "    .dataframe tbody tr th {\n",
       "        vertical-align: top;\n",
       "    }\n",
       "\n",
       "    .dataframe thead th {\n",
       "        text-align: right;\n",
       "    }\n",
       "</style>\n",
       "<table border=\"1\" class=\"dataframe\">\n",
       "  <thead>\n",
       "    <tr style=\"text-align: right;\">\n",
       "      <th></th>\n",
       "      <th>5_Dígito</th>\n",
       "    </tr>\n",
       "  </thead>\n",
       "  <tbody>\n",
       "    <tr>\n",
       "      <th>A</th>\n",
       "      <td>10.95</td>\n",
       "    </tr>\n",
       "    <tr>\n",
       "      <th>B</th>\n",
       "      <td>7.98</td>\n",
       "    </tr>\n",
       "    <tr>\n",
       "      <th>C</th>\n",
       "      <td>9.09</td>\n",
       "    </tr>\n",
       "    <tr>\n",
       "      <th>D</th>\n",
       "      <td>12.06</td>\n",
       "    </tr>\n",
       "    <tr>\n",
       "      <th>E</th>\n",
       "      <td>8.72</td>\n",
       "    </tr>\n",
       "    <tr>\n",
       "      <th>F</th>\n",
       "      <td>7.61</td>\n",
       "    </tr>\n",
       "    <tr>\n",
       "      <th>G</th>\n",
       "      <td>11.13</td>\n",
       "    </tr>\n",
       "    <tr>\n",
       "      <th>H</th>\n",
       "      <td>8.91</td>\n",
       "    </tr>\n",
       "    <tr>\n",
       "      <th>I</th>\n",
       "      <td>10.39</td>\n",
       "    </tr>\n",
       "    <tr>\n",
       "      <th>J</th>\n",
       "      <td>11.32</td>\n",
       "    </tr>\n",
       "    <tr>\n",
       "      <th>M</th>\n",
       "      <td>0.93</td>\n",
       "    </tr>\n",
       "    <tr>\n",
       "      <th>P</th>\n",
       "      <td>0.19</td>\n",
       "    </tr>\n",
       "    <tr>\n",
       "      <th>Q</th>\n",
       "      <td>0.19</td>\n",
       "    </tr>\n",
       "    <tr>\n",
       "      <th>R</th>\n",
       "      <td>0.37</td>\n",
       "    </tr>\n",
       "    <tr>\n",
       "      <th>W</th>\n",
       "      <td>0.19</td>\n",
       "    </tr>\n",
       "  </tbody>\n",
       "</table>\n",
       "</div>"
      ],
      "text/plain": [
       "   5_Dígito\n",
       "A     10.95\n",
       "B      7.98\n",
       "C      9.09\n",
       "D     12.06\n",
       "E      8.72\n",
       "F      7.61\n",
       "G     11.13\n",
       "H      8.91\n",
       "I     10.39\n",
       "J     11.32\n",
       "M      0.93\n",
       "P      0.19\n",
       "Q      0.19\n",
       "R      0.37\n",
       "W      0.19"
      ]
     },
     "execution_count": 73,
     "metadata": {},
     "output_type": "execute_result"
    }
   ],
   "source": [
    "#Frequência por dígito\n",
    "df_mercosul['5_Dígito'].value_counts(normalize=True).sort_index(ascending=True).round(4).to_frame()*100"
   ]
  },
  {
   "cell_type": "code",
   "execution_count": 74,
   "metadata": {},
   "outputs": [
    {
     "data": {
      "text/html": [
       "<div>\n",
       "<style scoped>\n",
       "    .dataframe tbody tr th:only-of-type {\n",
       "        vertical-align: middle;\n",
       "    }\n",
       "\n",
       "    .dataframe tbody tr th {\n",
       "        vertical-align: top;\n",
       "    }\n",
       "\n",
       "    .dataframe thead th {\n",
       "        text-align: right;\n",
       "    }\n",
       "</style>\n",
       "<table border=\"1\" class=\"dataframe\">\n",
       "  <thead>\n",
       "    <tr style=\"text-align: right;\">\n",
       "      <th></th>\n",
       "      <th></th>\n",
       "      <th>0</th>\n",
       "    </tr>\n",
       "    <tr>\n",
       "      <th>5_Dígito</th>\n",
       "      <th>Leitura</th>\n",
       "      <th></th>\n",
       "    </tr>\n",
       "  </thead>\n",
       "  <tbody>\n",
       "    <tr>\n",
       "      <th rowspan=\"2\" valign=\"top\">A</th>\n",
       "      <th>0</th>\n",
       "      <td>53</td>\n",
       "    </tr>\n",
       "    <tr>\n",
       "      <th>1</th>\n",
       "      <td>6</td>\n",
       "    </tr>\n",
       "    <tr>\n",
       "      <th rowspan=\"2\" valign=\"top\">B</th>\n",
       "      <th>0</th>\n",
       "      <td>39</td>\n",
       "    </tr>\n",
       "    <tr>\n",
       "      <th>1</th>\n",
       "      <td>4</td>\n",
       "    </tr>\n",
       "    <tr>\n",
       "      <th rowspan=\"2\" valign=\"top\">C</th>\n",
       "      <th>0</th>\n",
       "      <td>44</td>\n",
       "    </tr>\n",
       "    <tr>\n",
       "      <th>1</th>\n",
       "      <td>5</td>\n",
       "    </tr>\n",
       "    <tr>\n",
       "      <th rowspan=\"2\" valign=\"top\">D</th>\n",
       "      <th>0</th>\n",
       "      <td>54</td>\n",
       "    </tr>\n",
       "    <tr>\n",
       "      <th>1</th>\n",
       "      <td>11</td>\n",
       "    </tr>\n",
       "    <tr>\n",
       "      <th rowspan=\"2\" valign=\"top\">E</th>\n",
       "      <th>0</th>\n",
       "      <td>39</td>\n",
       "    </tr>\n",
       "    <tr>\n",
       "      <th>1</th>\n",
       "      <td>8</td>\n",
       "    </tr>\n",
       "    <tr>\n",
       "      <th rowspan=\"2\" valign=\"top\">F</th>\n",
       "      <th>0</th>\n",
       "      <td>34</td>\n",
       "    </tr>\n",
       "    <tr>\n",
       "      <th>1</th>\n",
       "      <td>7</td>\n",
       "    </tr>\n",
       "    <tr>\n",
       "      <th rowspan=\"2\" valign=\"top\">G</th>\n",
       "      <th>0</th>\n",
       "      <td>54</td>\n",
       "    </tr>\n",
       "    <tr>\n",
       "      <th>1</th>\n",
       "      <td>6</td>\n",
       "    </tr>\n",
       "    <tr>\n",
       "      <th rowspan=\"2\" valign=\"top\">H</th>\n",
       "      <th>0</th>\n",
       "      <td>39</td>\n",
       "    </tr>\n",
       "    <tr>\n",
       "      <th>1</th>\n",
       "      <td>9</td>\n",
       "    </tr>\n",
       "    <tr>\n",
       "      <th rowspan=\"2\" valign=\"top\">I</th>\n",
       "      <th>0</th>\n",
       "      <td>47</td>\n",
       "    </tr>\n",
       "    <tr>\n",
       "      <th>1</th>\n",
       "      <td>9</td>\n",
       "    </tr>\n",
       "    <tr>\n",
       "      <th rowspan=\"2\" valign=\"top\">J</th>\n",
       "      <th>0</th>\n",
       "      <td>52</td>\n",
       "    </tr>\n",
       "    <tr>\n",
       "      <th>1</th>\n",
       "      <td>9</td>\n",
       "    </tr>\n",
       "    <tr>\n",
       "      <th>M</th>\n",
       "      <th>1</th>\n",
       "      <td>5</td>\n",
       "    </tr>\n",
       "    <tr>\n",
       "      <th>P</th>\n",
       "      <th>1</th>\n",
       "      <td>1</td>\n",
       "    </tr>\n",
       "    <tr>\n",
       "      <th>Q</th>\n",
       "      <th>1</th>\n",
       "      <td>1</td>\n",
       "    </tr>\n",
       "    <tr>\n",
       "      <th>R</th>\n",
       "      <th>1</th>\n",
       "      <td>2</td>\n",
       "    </tr>\n",
       "    <tr>\n",
       "      <th>W</th>\n",
       "      <th>1</th>\n",
       "      <td>1</td>\n",
       "    </tr>\n",
       "  </tbody>\n",
       "</table>\n",
       "</div>"
      ],
      "text/plain": [
       "                   0\n",
       "5_Dígito Leitura    \n",
       "A        0        53\n",
       "         1         6\n",
       "B        0        39\n",
       "         1         4\n",
       "C        0        44\n",
       "         1         5\n",
       "D        0        54\n",
       "         1        11\n",
       "E        0        39\n",
       "         1         8\n",
       "F        0        34\n",
       "         1         7\n",
       "G        0        54\n",
       "         1         6\n",
       "H        0        39\n",
       "         1         9\n",
       "I        0        47\n",
       "         1         9\n",
       "J        0        52\n",
       "         1         9\n",
       "M        1         5\n",
       "P        1         1\n",
       "Q        1         1\n",
       "R        1         2\n",
       "W        1         1"
      ]
     },
     "execution_count": 74,
     "metadata": {},
     "output_type": "execute_result"
    }
   ],
   "source": [
    "#CONTAGEM DE FALSOS POSITIVOS, SEPARADOS POR '5_Dígito' - Padrão Mercosul\n",
    "df_mercosul.groupby(['5_Dígito','Leitura']).size().to_frame()"
   ]
  },
  {
   "cell_type": "code",
   "execution_count": 75,
   "metadata": {},
   "outputs": [
    {
     "data": {
      "text/html": [
       "<div>\n",
       "<style scoped>\n",
       "    .dataframe tbody tr th:only-of-type {\n",
       "        vertical-align: middle;\n",
       "    }\n",
       "\n",
       "    .dataframe tbody tr th {\n",
       "        vertical-align: top;\n",
       "    }\n",
       "\n",
       "    .dataframe thead th {\n",
       "        text-align: right;\n",
       "    }\n",
       "</style>\n",
       "<table border=\"1\" class=\"dataframe\">\n",
       "  <thead>\n",
       "    <tr style=\"text-align: right;\">\n",
       "      <th></th>\n",
       "      <th></th>\n",
       "      <th>Quantidade</th>\n",
       "      <th>%</th>\n",
       "    </tr>\n",
       "    <tr>\n",
       "      <th>5_Dígito</th>\n",
       "      <th>Leitura</th>\n",
       "      <th></th>\n",
       "      <th></th>\n",
       "    </tr>\n",
       "  </thead>\n",
       "  <tbody>\n",
       "    <tr>\n",
       "      <th rowspan=\"2\" valign=\"top\">A</th>\n",
       "      <th>0</th>\n",
       "      <td>53</td>\n",
       "      <td>89.83</td>\n",
       "    </tr>\n",
       "    <tr>\n",
       "      <th>1</th>\n",
       "      <td>6</td>\n",
       "      <td>10.17</td>\n",
       "    </tr>\n",
       "    <tr>\n",
       "      <th rowspan=\"2\" valign=\"top\">B</th>\n",
       "      <th>0</th>\n",
       "      <td>39</td>\n",
       "      <td>90.70</td>\n",
       "    </tr>\n",
       "    <tr>\n",
       "      <th>1</th>\n",
       "      <td>4</td>\n",
       "      <td>9.30</td>\n",
       "    </tr>\n",
       "    <tr>\n",
       "      <th rowspan=\"2\" valign=\"top\">C</th>\n",
       "      <th>0</th>\n",
       "      <td>44</td>\n",
       "      <td>89.80</td>\n",
       "    </tr>\n",
       "    <tr>\n",
       "      <th>1</th>\n",
       "      <td>5</td>\n",
       "      <td>10.20</td>\n",
       "    </tr>\n",
       "    <tr>\n",
       "      <th rowspan=\"2\" valign=\"top\">D</th>\n",
       "      <th>0</th>\n",
       "      <td>54</td>\n",
       "      <td>83.08</td>\n",
       "    </tr>\n",
       "    <tr>\n",
       "      <th>1</th>\n",
       "      <td>11</td>\n",
       "      <td>16.92</td>\n",
       "    </tr>\n",
       "    <tr>\n",
       "      <th rowspan=\"2\" valign=\"top\">E</th>\n",
       "      <th>0</th>\n",
       "      <td>39</td>\n",
       "      <td>82.98</td>\n",
       "    </tr>\n",
       "    <tr>\n",
       "      <th>1</th>\n",
       "      <td>8</td>\n",
       "      <td>17.02</td>\n",
       "    </tr>\n",
       "    <tr>\n",
       "      <th rowspan=\"2\" valign=\"top\">F</th>\n",
       "      <th>0</th>\n",
       "      <td>34</td>\n",
       "      <td>82.93</td>\n",
       "    </tr>\n",
       "    <tr>\n",
       "      <th>1</th>\n",
       "      <td>7</td>\n",
       "      <td>17.07</td>\n",
       "    </tr>\n",
       "    <tr>\n",
       "      <th rowspan=\"2\" valign=\"top\">G</th>\n",
       "      <th>0</th>\n",
       "      <td>54</td>\n",
       "      <td>90.00</td>\n",
       "    </tr>\n",
       "    <tr>\n",
       "      <th>1</th>\n",
       "      <td>6</td>\n",
       "      <td>10.00</td>\n",
       "    </tr>\n",
       "    <tr>\n",
       "      <th rowspan=\"2\" valign=\"top\">H</th>\n",
       "      <th>0</th>\n",
       "      <td>39</td>\n",
       "      <td>81.25</td>\n",
       "    </tr>\n",
       "    <tr>\n",
       "      <th>1</th>\n",
       "      <td>9</td>\n",
       "      <td>18.75</td>\n",
       "    </tr>\n",
       "    <tr>\n",
       "      <th rowspan=\"2\" valign=\"top\">I</th>\n",
       "      <th>0</th>\n",
       "      <td>47</td>\n",
       "      <td>83.93</td>\n",
       "    </tr>\n",
       "    <tr>\n",
       "      <th>1</th>\n",
       "      <td>9</td>\n",
       "      <td>16.07</td>\n",
       "    </tr>\n",
       "    <tr>\n",
       "      <th rowspan=\"2\" valign=\"top\">J</th>\n",
       "      <th>0</th>\n",
       "      <td>52</td>\n",
       "      <td>85.25</td>\n",
       "    </tr>\n",
       "    <tr>\n",
       "      <th>1</th>\n",
       "      <td>9</td>\n",
       "      <td>14.75</td>\n",
       "    </tr>\n",
       "    <tr>\n",
       "      <th>M</th>\n",
       "      <th>1</th>\n",
       "      <td>5</td>\n",
       "      <td>100.00</td>\n",
       "    </tr>\n",
       "    <tr>\n",
       "      <th>P</th>\n",
       "      <th>1</th>\n",
       "      <td>1</td>\n",
       "      <td>100.00</td>\n",
       "    </tr>\n",
       "    <tr>\n",
       "      <th>Q</th>\n",
       "      <th>1</th>\n",
       "      <td>1</td>\n",
       "      <td>100.00</td>\n",
       "    </tr>\n",
       "    <tr>\n",
       "      <th>R</th>\n",
       "      <th>1</th>\n",
       "      <td>2</td>\n",
       "      <td>100.00</td>\n",
       "    </tr>\n",
       "    <tr>\n",
       "      <th>W</th>\n",
       "      <th>1</th>\n",
       "      <td>1</td>\n",
       "      <td>100.00</td>\n",
       "    </tr>\n",
       "  </tbody>\n",
       "</table>\n",
       "</div>"
      ],
      "text/plain": [
       "                  Quantidade       %\n",
       "5_Dígito Leitura                    \n",
       "A        0                53   89.83\n",
       "         1                 6   10.17\n",
       "B        0                39   90.70\n",
       "         1                 4    9.30\n",
       "C        0                44   89.80\n",
       "         1                 5   10.20\n",
       "D        0                54   83.08\n",
       "         1                11   16.92\n",
       "E        0                39   82.98\n",
       "         1                 8   17.02\n",
       "F        0                34   82.93\n",
       "         1                 7   17.07\n",
       "G        0                54   90.00\n",
       "         1                 6   10.00\n",
       "H        0                39   81.25\n",
       "         1                 9   18.75\n",
       "I        0                47   83.93\n",
       "         1                 9   16.07\n",
       "J        0                52   85.25\n",
       "         1                 9   14.75\n",
       "M        1                 5  100.00\n",
       "P        1                 1  100.00\n",
       "Q        1                 1  100.00\n",
       "R        1                 2  100.00\n",
       "W        1                 1  100.00"
      ]
     },
     "execution_count": 75,
     "metadata": {},
     "output_type": "execute_result"
    }
   ],
   "source": [
    "#PERCENTUAL DE FALSOS POSITIVOS, SEPARADOS POR '5_Dígito'\n",
    "df_percentual_merc = df_mercosul.groupby(['5_Dígito','Leitura']).agg({'MUNICIPIO':'count'})[['MUNICIPIO']]\n",
    "df_percentual_merc['%'] = df_percentual_merc.groupby(level=0).apply(lambda x: 100*x/x.sum())\n",
    "df_percentual_merc = df_percentual_merc.rename(columns={'MUNICIPIO':'Quantidade'}).round(2)\n",
    "df_percentual_merc"
   ]
  },
  {
   "cell_type": "code",
   "execution_count": 76,
   "metadata": {},
   "outputs": [],
   "source": [
    "df_percentual_merc = df_percentual_merc.reset_index()"
   ]
  },
  {
   "cell_type": "code",
   "execution_count": 77,
   "metadata": {},
   "outputs": [
    {
     "data": {
      "text/html": [
       "<div>\n",
       "<style scoped>\n",
       "    .dataframe tbody tr th:only-of-type {\n",
       "        vertical-align: middle;\n",
       "    }\n",
       "\n",
       "    .dataframe tbody tr th {\n",
       "        vertical-align: top;\n",
       "    }\n",
       "\n",
       "    .dataframe thead th {\n",
       "        text-align: right;\n",
       "    }\n",
       "</style>\n",
       "<table border=\"1\" class=\"dataframe\">\n",
       "  <thead>\n",
       "    <tr style=\"text-align: right;\">\n",
       "      <th></th>\n",
       "      <th>5_Dígito</th>\n",
       "      <th>Leitura</th>\n",
       "      <th>Quantidade</th>\n",
       "      <th>%</th>\n",
       "    </tr>\n",
       "  </thead>\n",
       "  <tbody>\n",
       "    <tr>\n",
       "      <th>7</th>\n",
       "      <td>D</td>\n",
       "      <td>1</td>\n",
       "      <td>11</td>\n",
       "      <td>16.92</td>\n",
       "    </tr>\n",
       "    <tr>\n",
       "      <th>15</th>\n",
       "      <td>H</td>\n",
       "      <td>1</td>\n",
       "      <td>9</td>\n",
       "      <td>18.75</td>\n",
       "    </tr>\n",
       "    <tr>\n",
       "      <th>17</th>\n",
       "      <td>I</td>\n",
       "      <td>1</td>\n",
       "      <td>9</td>\n",
       "      <td>16.07</td>\n",
       "    </tr>\n",
       "    <tr>\n",
       "      <th>19</th>\n",
       "      <td>J</td>\n",
       "      <td>1</td>\n",
       "      <td>9</td>\n",
       "      <td>14.75</td>\n",
       "    </tr>\n",
       "    <tr>\n",
       "      <th>9</th>\n",
       "      <td>E</td>\n",
       "      <td>1</td>\n",
       "      <td>8</td>\n",
       "      <td>17.02</td>\n",
       "    </tr>\n",
       "    <tr>\n",
       "      <th>11</th>\n",
       "      <td>F</td>\n",
       "      <td>1</td>\n",
       "      <td>7</td>\n",
       "      <td>17.07</td>\n",
       "    </tr>\n",
       "    <tr>\n",
       "      <th>1</th>\n",
       "      <td>A</td>\n",
       "      <td>1</td>\n",
       "      <td>6</td>\n",
       "      <td>10.17</td>\n",
       "    </tr>\n",
       "    <tr>\n",
       "      <th>13</th>\n",
       "      <td>G</td>\n",
       "      <td>1</td>\n",
       "      <td>6</td>\n",
       "      <td>10.00</td>\n",
       "    </tr>\n",
       "    <tr>\n",
       "      <th>5</th>\n",
       "      <td>C</td>\n",
       "      <td>1</td>\n",
       "      <td>5</td>\n",
       "      <td>10.20</td>\n",
       "    </tr>\n",
       "    <tr>\n",
       "      <th>20</th>\n",
       "      <td>M</td>\n",
       "      <td>1</td>\n",
       "      <td>5</td>\n",
       "      <td>100.00</td>\n",
       "    </tr>\n",
       "    <tr>\n",
       "      <th>3</th>\n",
       "      <td>B</td>\n",
       "      <td>1</td>\n",
       "      <td>4</td>\n",
       "      <td>9.30</td>\n",
       "    </tr>\n",
       "    <tr>\n",
       "      <th>23</th>\n",
       "      <td>R</td>\n",
       "      <td>1</td>\n",
       "      <td>2</td>\n",
       "      <td>100.00</td>\n",
       "    </tr>\n",
       "    <tr>\n",
       "      <th>21</th>\n",
       "      <td>P</td>\n",
       "      <td>1</td>\n",
       "      <td>1</td>\n",
       "      <td>100.00</td>\n",
       "    </tr>\n",
       "    <tr>\n",
       "      <th>22</th>\n",
       "      <td>Q</td>\n",
       "      <td>1</td>\n",
       "      <td>1</td>\n",
       "      <td>100.00</td>\n",
       "    </tr>\n",
       "    <tr>\n",
       "      <th>24</th>\n",
       "      <td>W</td>\n",
       "      <td>1</td>\n",
       "      <td>1</td>\n",
       "      <td>100.00</td>\n",
       "    </tr>\n",
       "  </tbody>\n",
       "</table>\n",
       "</div>"
      ],
      "text/plain": [
       "   5_Dígito  Leitura  Quantidade       %\n",
       "7         D        1          11   16.92\n",
       "15        H        1           9   18.75\n",
       "17        I        1           9   16.07\n",
       "19        J        1           9   14.75\n",
       "9         E        1           8   17.02\n",
       "11        F        1           7   17.07\n",
       "1         A        1           6   10.17\n",
       "13        G        1           6   10.00\n",
       "5         C        1           5   10.20\n",
       "20        M        1           5  100.00\n",
       "3         B        1           4    9.30\n",
       "23        R        1           2  100.00\n",
       "21        P        1           1  100.00\n",
       "22        Q        1           1  100.00\n",
       "24        W        1           1  100.00"
      ]
     },
     "execution_count": 77,
     "metadata": {},
     "output_type": "execute_result"
    }
   ],
   "source": [
    "# Quadro comparativo de falsos positivos, classificado em ordem decrescente de quantidade\n",
    "df_falso_positivo_merc = df_percentual_merc[df_percentual_merc['Leitura']==1].sort_values(by = 'Quantidade', ascending = False)\n",
    "df_falso_positivo_merc.head(30)"
   ]
  },
  {
   "cell_type": "code",
   "execution_count": 78,
   "metadata": {},
   "outputs": [
    {
     "data": {
      "text/html": [
       "<div>\n",
       "<style scoped>\n",
       "    .dataframe tbody tr th:only-of-type {\n",
       "        vertical-align: middle;\n",
       "    }\n",
       "\n",
       "    .dataframe tbody tr th {\n",
       "        vertical-align: top;\n",
       "    }\n",
       "\n",
       "    .dataframe thead th {\n",
       "        text-align: right;\n",
       "    }\n",
       "</style>\n",
       "<table border=\"1\" class=\"dataframe\">\n",
       "  <thead>\n",
       "    <tr style=\"text-align: right;\">\n",
       "      <th></th>\n",
       "      <th>5_Dígito</th>\n",
       "      <th>Leitura</th>\n",
       "      <th>Quantidade</th>\n",
       "      <th>%</th>\n",
       "    </tr>\n",
       "  </thead>\n",
       "  <tbody>\n",
       "    <tr>\n",
       "      <th>20</th>\n",
       "      <td>M</td>\n",
       "      <td>1</td>\n",
       "      <td>5</td>\n",
       "      <td>100.00</td>\n",
       "    </tr>\n",
       "    <tr>\n",
       "      <th>23</th>\n",
       "      <td>R</td>\n",
       "      <td>1</td>\n",
       "      <td>2</td>\n",
       "      <td>100.00</td>\n",
       "    </tr>\n",
       "    <tr>\n",
       "      <th>21</th>\n",
       "      <td>P</td>\n",
       "      <td>1</td>\n",
       "      <td>1</td>\n",
       "      <td>100.00</td>\n",
       "    </tr>\n",
       "    <tr>\n",
       "      <th>22</th>\n",
       "      <td>Q</td>\n",
       "      <td>1</td>\n",
       "      <td>1</td>\n",
       "      <td>100.00</td>\n",
       "    </tr>\n",
       "    <tr>\n",
       "      <th>24</th>\n",
       "      <td>W</td>\n",
       "      <td>1</td>\n",
       "      <td>1</td>\n",
       "      <td>100.00</td>\n",
       "    </tr>\n",
       "    <tr>\n",
       "      <th>15</th>\n",
       "      <td>H</td>\n",
       "      <td>1</td>\n",
       "      <td>9</td>\n",
       "      <td>18.75</td>\n",
       "    </tr>\n",
       "    <tr>\n",
       "      <th>11</th>\n",
       "      <td>F</td>\n",
       "      <td>1</td>\n",
       "      <td>7</td>\n",
       "      <td>17.07</td>\n",
       "    </tr>\n",
       "    <tr>\n",
       "      <th>9</th>\n",
       "      <td>E</td>\n",
       "      <td>1</td>\n",
       "      <td>8</td>\n",
       "      <td>17.02</td>\n",
       "    </tr>\n",
       "    <tr>\n",
       "      <th>7</th>\n",
       "      <td>D</td>\n",
       "      <td>1</td>\n",
       "      <td>11</td>\n",
       "      <td>16.92</td>\n",
       "    </tr>\n",
       "    <tr>\n",
       "      <th>17</th>\n",
       "      <td>I</td>\n",
       "      <td>1</td>\n",
       "      <td>9</td>\n",
       "      <td>16.07</td>\n",
       "    </tr>\n",
       "    <tr>\n",
       "      <th>19</th>\n",
       "      <td>J</td>\n",
       "      <td>1</td>\n",
       "      <td>9</td>\n",
       "      <td>14.75</td>\n",
       "    </tr>\n",
       "    <tr>\n",
       "      <th>5</th>\n",
       "      <td>C</td>\n",
       "      <td>1</td>\n",
       "      <td>5</td>\n",
       "      <td>10.20</td>\n",
       "    </tr>\n",
       "    <tr>\n",
       "      <th>1</th>\n",
       "      <td>A</td>\n",
       "      <td>1</td>\n",
       "      <td>6</td>\n",
       "      <td>10.17</td>\n",
       "    </tr>\n",
       "    <tr>\n",
       "      <th>13</th>\n",
       "      <td>G</td>\n",
       "      <td>1</td>\n",
       "      <td>6</td>\n",
       "      <td>10.00</td>\n",
       "    </tr>\n",
       "    <tr>\n",
       "      <th>3</th>\n",
       "      <td>B</td>\n",
       "      <td>1</td>\n",
       "      <td>4</td>\n",
       "      <td>9.30</td>\n",
       "    </tr>\n",
       "  </tbody>\n",
       "</table>\n",
       "</div>"
      ],
      "text/plain": [
       "   5_Dígito  Leitura  Quantidade       %\n",
       "20        M        1           5  100.00\n",
       "23        R        1           2  100.00\n",
       "21        P        1           1  100.00\n",
       "22        Q        1           1  100.00\n",
       "24        W        1           1  100.00\n",
       "15        H        1           9   18.75\n",
       "11        F        1           7   17.07\n",
       "9         E        1           8   17.02\n",
       "7         D        1          11   16.92\n",
       "17        I        1           9   16.07\n",
       "19        J        1           9   14.75\n",
       "5         C        1           5   10.20\n",
       "1         A        1           6   10.17\n",
       "13        G        1           6   10.00\n",
       "3         B        1           4    9.30"
      ]
     },
     "execution_count": 78,
     "metadata": {},
     "output_type": "execute_result"
    }
   ],
   "source": [
    "# Quadro comparativo de falsos positivos, classificado em ordem decrescente de percentual\n",
    "df_falso_positivo_merc.sort_values(by = '%', ascending = False)"
   ]
  },
  {
   "cell_type": "code",
   "execution_count": 79,
   "metadata": {},
   "outputs": [],
   "source": [
    "#Agrupando as letras M, R, P, Q e W em 'M-R-P-Q-W'\n",
    "df.loc[df['5_Dígito'] == 'M', '5_Dígito'] = 'M-R-P-Q-W'\n",
    "df.loc[df['5_Dígito'] == 'R', '5_Dígito'] = 'M-R-P-Q-W'\n",
    "df.loc[df['5_Dígito'] == 'P', '5_Dígito'] = 'M-R-P-Q-W'\n",
    "df.loc[df['5_Dígito'] == 'Q', '5_Dígito'] = 'M-R-P-Q-W'\n",
    "df.loc[df['5_Dígito'] == 'W', '5_Dígito'] = 'M-R-P-Q-W'"
   ]
  },
  {
   "cell_type": "code",
   "execution_count": 80,
   "metadata": {},
   "outputs": [],
   "source": [
    "#Agrupando as letras H, F, E, D, I  J em ' H-F-E-D-I-J'\n",
    "df.loc[df['5_Dígito'] == 'H', '5_Dígito'] = 'H-F-E-D-I-J'\n",
    "df.loc[df['5_Dígito'] == 'F', '5_Dígito'] = 'H-F-E-D-I-J'\n",
    "df.loc[df['5_Dígito'] == 'E', '5_Dígito'] = 'H-F-E-D-I-J'\n",
    "df.loc[df['5_Dígito'] == 'D', '5_Dígito'] = 'H-F-E-D-I-J'\n",
    "df.loc[df['5_Dígito'] == 'I', '5_Dígito'] = 'H-F-E-D-I-J'\n",
    "df.loc[df['5_Dígito'] == 'J', '5_Dígito'] = 'H-F-E-D-I-J'"
   ]
  },
  {
   "cell_type": "code",
   "execution_count": 81,
   "metadata": {},
   "outputs": [],
   "source": [
    "#Agrupando as letras C, A, G e B em 'C-A-G-B'\n",
    "df.loc[df['5_Dígito'] == 'C', '5_Dígito'] = 'C-A-G-B'\n",
    "df.loc[df['5_Dígito'] == 'A', '5_Dígito'] = 'C-A-G-B'\n",
    "df.loc[df['5_Dígito'] == 'G', '5_Dígito'] = 'C-A-G-B'\n",
    "df.loc[df['5_Dígito'] == 'B', '5_Dígito'] = 'C-A-G-B'"
   ]
  },
  {
   "cell_type": "code",
   "execution_count": 82,
   "metadata": {},
   "outputs": [],
   "source": [
    "#Agrupando os números 4, 0, 3 e 9 em '4-0-3-9'\n",
    "df.loc[df['5_Dígito'] == '4', '5_Dígito'] = '4-0-3-9'\n",
    "df.loc[df['5_Dígito'] == '0', '5_Dígito'] = '4-0-3-9'\n",
    "df.loc[df['5_Dígito'] == '3', '5_Dígito'] = '4-0-3-9'\n",
    "df.loc[df['5_Dígito'] == '9', '5_Dígito'] = '4-0-3-9'"
   ]
  },
  {
   "cell_type": "code",
   "execution_count": 83,
   "metadata": {},
   "outputs": [],
   "source": [
    "#Agrupando os números 7, 2, 6 e 8 em '7-2-6-8'\n",
    "df.loc[df['5_Dígito'] == '7', '5_Dígito'] = '7-2-6-8'\n",
    "df.loc[df['5_Dígito'] == '2', '5_Dígito'] = '7-2-6-8'\n",
    "df.loc[df['5_Dígito'] == '6', '5_Dígito'] = '7-2-6-8'\n",
    "df.loc[df['5_Dígito'] == '8', '5_Dígito'] = '7-2-6-8'"
   ]
  },
  {
   "cell_type": "code",
   "execution_count": 84,
   "metadata": {},
   "outputs": [
    {
     "data": {
      "text/plain": [
       "<AxesSubplot:xlabel='5_Dígito', ylabel='count'>"
      ]
     },
     "execution_count": 84,
     "metadata": {},
     "output_type": "execute_result"
    },
    {
     "data": {
      "image/png": "[encoded data removed]",
      "text/plain": [
       "<Figure size 432x288 with 1 Axes>"
      ]
     },
     "metadata": {
      "needs_background": "light"
     },
     "output_type": "display_data"
    }
   ],
   "source": [
    "#Contagem de valores de '5_Dígito' - Após agrupamento\n",
    "sns.countplot(x='5_Dígito',data=df, hue = 'Leitura')"
   ]
  },
  {
   "cell_type": "markdown",
   "metadata": {},
   "source": [
    "## 4.3 Variável ‘Conf’"
   ]
  },
  {
   "cell_type": "code",
   "execution_count": 85,
   "metadata": {},
   "outputs": [
    {
     "data": {
      "text/html": [
       "<div>\n",
       "<style scoped>\n",
       "    .dataframe tbody tr th:only-of-type {\n",
       "        vertical-align: middle;\n",
       "    }\n",
       "\n",
       "    .dataframe tbody tr th {\n",
       "        vertical-align: top;\n",
       "    }\n",
       "\n",
       "    .dataframe thead th {\n",
       "        text-align: right;\n",
       "    }\n",
       "</style>\n",
       "<table border=\"1\" class=\"dataframe\">\n",
       "  <thead>\n",
       "    <tr style=\"text-align: right;\">\n",
       "      <th></th>\n",
       "      <th>Conf</th>\n",
       "    </tr>\n",
       "  </thead>\n",
       "  <tbody>\n",
       "    <tr>\n",
       "      <th>count</th>\n",
       "      <td>1198.000000</td>\n",
       "    </tr>\n",
       "    <tr>\n",
       "      <th>mean</th>\n",
       "      <td>87.225376</td>\n",
       "    </tr>\n",
       "    <tr>\n",
       "      <th>std</th>\n",
       "      <td>8.529136</td>\n",
       "    </tr>\n",
       "    <tr>\n",
       "      <th>min</th>\n",
       "      <td>65.000000</td>\n",
       "    </tr>\n",
       "    <tr>\n",
       "      <th>25%</th>\n",
       "      <td>82.000000</td>\n",
       "    </tr>\n",
       "    <tr>\n",
       "      <th>50%</th>\n",
       "      <td>89.000000</td>\n",
       "    </tr>\n",
       "    <tr>\n",
       "      <th>75%</th>\n",
       "      <td>94.000000</td>\n",
       "    </tr>\n",
       "    <tr>\n",
       "      <th>max</th>\n",
       "      <td>99.000000</td>\n",
       "    </tr>\n",
       "  </tbody>\n",
       "</table>\n",
       "</div>"
      ],
      "text/plain": [
       "              Conf\n",
       "count  1198.000000\n",
       "mean     87.225376\n",
       "std       8.529136\n",
       "min      65.000000\n",
       "25%      82.000000\n",
       "50%      89.000000\n",
       "75%      94.000000\n",
       "max      99.000000"
      ]
     },
     "execution_count": 85,
     "metadata": {},
     "output_type": "execute_result"
    }
   ],
   "source": [
    "#Análise inicial\n",
    "df['Conf'].describe().to_frame()"
   ]
  },
  {
   "cell_type": "code",
   "execution_count": 86,
   "metadata": {},
   "outputs": [
    {
     "data": {
      "text/plain": [
       "<AxesSubplot:xlabel='Conf', ylabel='Count'>"
      ]
     },
     "execution_count": 86,
     "metadata": {},
     "output_type": "execute_result"
    },
    {
     "data": {
      "image/png": "[encoded data removed]",
      "text/plain": [
       "<Figure size 432x288 with 1 Axes>"
      ]
     },
     "metadata": {
      "needs_background": "light"
     },
     "output_type": "display_data"
    }
   ],
   "source": [
    "#Histograma da variável 'Conf'\n",
    "sns.histplot(data=df['Conf'],bins=range(60,110,5))"
   ]
  },
  {
   "cell_type": "code",
   "execution_count": 87,
   "metadata": {},
   "outputs": [
    {
     "data": {
      "image/png": "[encoded data removed]",
      "text/plain": [
       "<Figure size 648x288 with 1 Axes>"
      ]
     },
     "metadata": {
      "needs_background": "light"
     },
     "output_type": "display_data"
    }
   ],
   "source": [
    "#Frequência relativa de Leituras Incorretas por 'Conf'\n",
    "plt.figure(figsize=(9,4))\n",
    "conf_FP = sns.barplot(x = 'Conf', y = 'Leitura', data = df, ci=False)\n",
    "conf_FP.set_xticklabels(conf_FP.get_xticklabels(), rotation=45,horizontalalignment='right')\n",
    "plt.tight_layout()\n",
    "plt.show(conf_FP)"
   ]
  },
  {
   "cell_type": "code",
   "execution_count": 88,
   "metadata": {},
   "outputs": [
    {
     "data": {
      "image/png": "[encoded data removed]",
      "text/plain": [
       "<Figure size 648x288 with 1 Axes>"
      ]
     },
     "metadata": {
      "needs_background": "light"
     },
     "output_type": "display_data"
    }
   ],
   "source": [
    "#Adaptado de https://www.kaggle.com/jsaguiar/exploratory-analysis-with-seaborn\n",
    "def kdeplot(feature):\n",
    "    plt.figure(figsize=(9, 4))\n",
    "    plt.title(\"KDE for {}\".format(feature))\n",
    "    ax0 = sns.kdeplot(df[df['Leitura'] == False][feature], color= 'navy')\n",
    "    ax1 = sns.kdeplot(df[df['Leitura'] == True][feature], color= 'orange')\n",
    "    plt.gca().legend(('Leitura Correta','Leitura Incorreta'))\n",
    "kdeplot('Conf')"
   ]
  },
  {
   "cell_type": "code",
   "execution_count": 89,
   "metadata": {},
   "outputs": [],
   "source": [
    "#Normalizando variável 'Conf' - Método Min-Max\n",
    "df['Conf'] = (df['Conf'] - df['Conf'].min()) / (df['Conf'].max() - df['Conf'].min())"
   ]
  },
  {
   "cell_type": "code",
   "execution_count": 90,
   "metadata": {},
   "outputs": [
    {
     "data": {
      "text/plain": [
       "count    1198.000000\n",
       "mean        0.653688\n",
       "std         0.250860\n",
       "min         0.000000\n",
       "25%         0.500000\n",
       "50%         0.705900\n",
       "75%         0.852900\n",
       "max         1.000000\n",
       "Name: Conf, dtype: float64"
      ]
     },
     "execution_count": 90,
     "metadata": {},
     "output_type": "execute_result"
    }
   ],
   "source": [
    "#Describe() variável 'Conf' - Após normalização\n",
    "df['Conf'].round(4).describe()"
   ]
  },
  {
   "cell_type": "markdown",
   "metadata": {},
   "source": [
    "## 4.4 Variável ‘MUNICIPO’ e ‘UF’"
   ]
  },
  {
   "cell_type": "code",
   "execution_count": 91,
   "metadata": {},
   "outputs": [
    {
     "data": {
      "text/plain": [
       "354"
      ]
     },
     "execution_count": 91,
     "metadata": {},
     "output_type": "execute_result"
    }
   ],
   "source": [
    "#Municípios únicos no dataset\n",
    "df['MUNICIPIO'].nunique()"
   ]
  },
  {
   "cell_type": "code",
   "execution_count": 92,
   "metadata": {},
   "outputs": [
    {
     "data": {
      "text/plain": [
       "GUAIRA                     191\n",
       "UMUARAMA                    44\n",
       "MUNDO NOVO                  43\n",
       "MARECHAL CANDIDO RONDON     36\n",
       "CURITIBA                    30\n",
       "CASCAVEL                    30\n",
       "SEM REGISTRO RENAVAM        29\n",
       "TOLEDO                      26\n",
       "PALOTINA                    25\n",
       "TERRA ROXA                  21\n",
       "MARINGA                     21\n",
       "BELO HORIZONTE              18\n",
       "SAO PAULO                   17\n",
       "DOURADOS                    16\n",
       "NAVIRAI                     14\n",
       "ELDORADO                    12\n",
       "MERCEDES                    12\n",
       "CAMPO GRANDE                11\n",
       "Name: MUNICIPIO, dtype: int64"
      ]
     },
     "execution_count": 92,
     "metadata": {},
     "output_type": "execute_result"
    }
   ],
   "source": [
    "#Municípios mais comuns\n",
    "df['MUNICIPIO'].value_counts().head(18)"
   ]
  },
  {
   "cell_type": "code",
   "execution_count": 93,
   "metadata": {},
   "outputs": [],
   "source": [
    "#Extraindo a informação 'SEM REGISTRO RENAVAM' para uma nova coluna chamada 'SemRenavam'\n",
    "df['SemRenavam'] = df['MUNICIPIO']"
   ]
  },
  {
   "cell_type": "code",
   "execution_count": 94,
   "metadata": {},
   "outputs": [],
   "source": [
    "#Atribuindo valor True para variável 'SemRenavam' quando 'MUNICIPIO' = 'SEM REGISTRO RENAVAM'\n",
    "df.loc[df['MUNICIPIO'] == 'SEM REGISTRO RENAVAM', 'SemRenavam'] = True"
   ]
  },
  {
   "cell_type": "code",
   "execution_count": 95,
   "metadata": {},
   "outputs": [],
   "source": [
    "#Atribuindo valor False para variável 'SemRenavam' quando 'MUNICIPIO' != 'SEM REGISTRO RENAVAM'\n",
    "df.loc[df['MUNICIPIO'] != 'SEM REGISTRO RENAVAM', 'SemRenavam'] = False"
   ]
  },
  {
   "cell_type": "code",
   "execution_count": 96,
   "metadata": {},
   "outputs": [
    {
     "data": {
      "text/plain": [
       "40    False\n",
       "41    False\n",
       "42    False\n",
       "43    False\n",
       "44     True\n",
       "Name: SemRenavam, dtype: object"
      ]
     },
     "execution_count": 96,
     "metadata": {},
     "output_type": "execute_result"
    }
   ],
   "source": [
    "#Verificando a nova feature 'SemRenavam'\n",
    "df['SemRenavam'].iloc[40:45]"
   ]
  },
  {
   "cell_type": "code",
   "execution_count": 97,
   "metadata": {},
   "outputs": [],
   "source": [
    "#Eliminando coluna 'MUNICIPIO'\n",
    "df.drop(['MUNICIPIO'], axis=1, inplace=True)"
   ]
  },
  {
   "cell_type": "code",
   "execution_count": 98,
   "metadata": {},
   "outputs": [
    {
     "data": {
      "text/plain": [
       "21"
      ]
     },
     "execution_count": 98,
     "metadata": {},
     "output_type": "execute_result"
    }
   ],
   "source": [
    "#UFs únicas no dataset\n",
    "df['UF'].nunique()"
   ]
  },
  {
   "cell_type": "code",
   "execution_count": 99,
   "metadata": {},
   "outputs": [
    {
     "data": {
      "text/plain": [
       "PR    692\n",
       "MS    157\n",
       "SC     81\n",
       "SP     63\n",
       "RS     51\n",
       "MT     44\n",
       "MG     34\n",
       "SR     29\n",
       "RJ      9\n",
       "GO      8\n",
       "ES      6\n",
       "RO      5\n",
       "CE      4\n",
       "PE      3\n",
       "PI      3\n",
       "AC      3\n",
       "BA      2\n",
       "PA      1\n",
       "SE      1\n",
       "DF      1\n",
       "RR      1\n",
       "Name: UF, dtype: int64"
      ]
     },
     "execution_count": 99,
     "metadata": {},
     "output_type": "execute_result"
    }
   ],
   "source": [
    "#UF's mais comuns\n",
    "df['UF'].value_counts().head(25)"
   ]
  },
  {
   "cell_type": "code",
   "execution_count": 100,
   "metadata": {},
   "outputs": [
    {
     "data": {
      "text/plain": [
       "<AxesSubplot:xlabel='UF', ylabel='Leitura'>"
      ]
     },
     "execution_count": 100,
     "metadata": {},
     "output_type": "execute_result"
    },
    {
     "data": {
      "image/png": "[encoded data removed]",
      "text/plain": [
       "<Figure size 432x288 with 1 Axes>"
      ]
     },
     "metadata": {
      "needs_background": "light"
     },
     "output_type": "display_data"
    }
   ],
   "source": [
    "#Frequência relativa de Leituras Incorretas por 'UF'\n",
    "sns.barplot(x = 'UF', y = 'Leitura', data = df, ci=False)"
   ]
  },
  {
   "cell_type": "code",
   "execution_count": 101,
   "metadata": {},
   "outputs": [],
   "source": [
    "#Agrupando as UF's MT, MS, PR em 'MT-MS-PR'\n",
    "df.loc[df['UF'] == 'MT', 'UF'] = 'MT-MS-PR'\n",
    "df.loc[df['UF'] == 'MS', 'UF'] = 'MT-MS-PR'\n",
    "df.loc[df['UF'] == 'PR', 'UF'] = 'MT-MS-PR'"
   ]
  },
  {
   "cell_type": "code",
   "execution_count": 102,
   "metadata": {},
   "outputs": [],
   "source": [
    "#Agrupando as UF's SC, RS, RO, AC em 'SC-RS-RO-AC'\n",
    "df.loc[df['UF'] == 'SC', 'UF'] = 'SC-RS-RO-AC'\n",
    "df.loc[df['UF'] == 'RS', 'UF'] = 'SC-RS-RO-AC'\n",
    "df.loc[df['UF'] == 'RO', 'UF'] = 'SC-RS-RO-AC'\n",
    "df.loc[df['UF'] == 'AC', 'UF'] = 'SC-RS-RO-AC'"
   ]
  },
  {
   "cell_type": "code",
   "execution_count": 103,
   "metadata": {},
   "outputs": [],
   "source": [
    "#Agrupando as UF's SP, RJ, MG, GO, PE em 'SP-RJ-MG-GO-PE'\n",
    "df.loc[df['UF'] == 'SP', 'UF'] = 'SP-RJ-MG-GO-PE'\n",
    "df.loc[df['UF'] == 'RJ', 'UF'] = 'SP-RJ-MG-GO-PE'\n",
    "df.loc[df['UF'] == 'MG', 'UF'] = 'SP-RJ-MG-GO-PE'\n",
    "df.loc[df['UF'] == 'GO', 'UF'] = 'SP-RJ-MG-GO-PE'\n",
    "df.loc[df['UF'] == 'PE', 'UF'] = 'SP-RJ-MG-GO-PE'"
   ]
  },
  {
   "cell_type": "code",
   "execution_count": 104,
   "metadata": {},
   "outputs": [],
   "source": [
    "#Agrupando as UF's ES, CE, PI, SE, DF, PA em 'ES-CE-PI-SE-DF-PA'\n",
    "df.loc[df['UF'] == 'ES', 'UF'] = 'ES-CE-PI-SE-DF-PA'\n",
    "df.loc[df['UF'] == 'CE', 'UF'] = 'ES-CE-PI-SE-DF-PA'\n",
    "df.loc[df['UF'] == 'PI', 'UF'] = 'ES-CE-PI-SE-DF-PA'\n",
    "df.loc[df['UF'] == 'SE', 'UF'] = 'ES-CE-PI-SE-DF-PA'\n",
    "df.loc[df['UF'] == 'DF', 'UF'] = 'ES-CE-PI-SE-DF-PA'\n",
    "df.loc[df['UF'] == 'PA', 'UF'] = 'ES-CE-PI-SE-DF-PA'"
   ]
  },
  {
   "cell_type": "code",
   "execution_count": 105,
   "metadata": {},
   "outputs": [],
   "source": [
    "#Agrupando as UF's BA E RR em 'BA-RR'\n",
    "df.loc[df['UF'] == 'BA', 'UF'] = 'BA-RR'\n",
    "df.loc[df['UF'] == 'RR', 'UF'] = 'BA-RR'"
   ]
  },
  {
   "cell_type": "code",
   "execution_count": 106,
   "metadata": {},
   "outputs": [
    {
     "data": {
      "text/plain": [
       "6"
      ]
     },
     "execution_count": 106,
     "metadata": {},
     "output_type": "execute_result"
    }
   ],
   "source": [
    "#UFs únicas no dataset - Após agrupamento\n",
    "df['UF'].nunique()"
   ]
  },
  {
   "cell_type": "code",
   "execution_count": 107,
   "metadata": {},
   "outputs": [
    {
     "data": {
      "image/png": "[encoded data removed]",
      "text/plain": [
       "<Figure size 432x288 with 1 Axes>"
      ]
     },
     "metadata": {
      "needs_background": "light"
     },
     "output_type": "display_data"
    }
   ],
   "source": [
    "#Frequência relativa de leituras incorretas por 'UF' - Após agrupamento\n",
    "UF_FP = sns.barplot(x = 'UF', y = 'Leitura', data = df, ci=False)\n",
    "UF_FP.set_xticklabels(UF_FP.get_xticklabels(), rotation=45,horizontalalignment='right')\n",
    "plt.tight_layout()"
   ]
  },
  {
   "cell_type": "markdown",
   "metadata": {},
   "source": [
    "## 4.5 Variáveis ‘MARCA/MODELO’ e ‘TIPO-VEICULO’"
   ]
  },
  {
   "cell_type": "code",
   "execution_count": 108,
   "metadata": {},
   "outputs": [
    {
     "data": {
      "text/plain": [
       "683"
      ]
     },
     "execution_count": 108,
     "metadata": {},
     "output_type": "execute_result"
    }
   ],
   "source": [
    "#Contagemn de valores únicos para ‘MARCA/MODELO’\n",
    "df['MARCA/MODELO'].nunique()"
   ]
  },
  {
   "cell_type": "code",
   "execution_count": 109,
   "metadata": {},
   "outputs": [],
   "source": [
    "#Variável de alta cardinalidade - Eliminando do dataset\n",
    "df.drop(['MARCA/MODELO'], axis=1, inplace=True)"
   ]
  },
  {
   "cell_type": "code",
   "execution_count": 110,
   "metadata": {},
   "outputs": [
    {
     "data": {
      "text/plain": [
       "13"
      ]
     },
     "execution_count": 110,
     "metadata": {},
     "output_type": "execute_result"
    }
   ],
   "source": [
    "#Contagemn de valores únicos para ‘TIPO-VEICULO’\n",
    "df['TIPO-VEICULO'].nunique()"
   ]
  },
  {
   "cell_type": "code",
   "execution_count": 111,
   "metadata": {},
   "outputs": [
    {
     "data": {
      "text/plain": [
       "AUTOMOVEL    551\n",
       "CNETE        208\n",
       "S.REBOQUE    133\n",
       "C. TRATOR     77\n",
       "CAMIONETA     59\n",
       "CAMINHAO      51\n",
       "MOTOCICLO     36\n",
       "UTILITáRI     31\n",
       "miss          29\n",
       "REBOQUE       10\n",
       "ONIBUS         6\n",
       "MOTONETA       5\n",
       "MICROONIB      2\n",
       "Name: TIPO-VEICULO, dtype: int64"
      ]
     },
     "execution_count": 111,
     "metadata": {},
     "output_type": "execute_result"
    }
   ],
   "source": [
    "#Contagem de valores para ‘TIPO-VEICULO’\n",
    "df['TIPO-VEICULO'].value_counts().head(15)"
   ]
  },
  {
   "cell_type": "code",
   "execution_count": 112,
   "metadata": {},
   "outputs": [
    {
     "data": {
      "image/png": "[encoded data removed]",
      "text/plain": [
       "<Figure size 432x288 with 1 Axes>"
      ]
     },
     "metadata": {
      "needs_background": "light"
     },
     "output_type": "display_data"
    }
   ],
   "source": [
    "#Frequência relativa de leituras incorretas por 'Conf'\n",
    "plt.figure(figsize=(6,4))\n",
    "tipo_veiculo_FP = sns.barplot(x = 'TIPO-VEICULO', y = 'Leitura', data = df, ci=False)\n",
    "tipo_veiculo_FP.set_xticklabels(tipo_veiculo_FP.get_xticklabels(), rotation=45,horizontalalignment='right')\n",
    "plt.tight_layout()\n",
    "plt.show(tipo_veiculo_FP)"
   ]
  },
  {
   "cell_type": "code",
   "execution_count": 113,
   "metadata": {},
   "outputs": [],
   "source": [
    "#Agrupando ‘AUTOMÓVEL’ e ‘CAMIONETA’ em ‘AUTO-CNETA’\n",
    "df.loc[df['TIPO-VEICULO'] == 'AUTOMÓVEL', 'TIPO-VEICULO'] = 'AUTO-CNETA'\n",
    "df.loc[df['TIPO-VEICULO'] == 'CAMIONETA', 'TIPO-VEICULO'] = 'AUTO-CNETA'"
   ]
  },
  {
   "cell_type": "code",
   "execution_count": 114,
   "metadata": {},
   "outputs": [],
   "source": [
    "#Agrupando ‘MOTOCICLO’ e ‘MOTONETA’, em ‘MOTO’\n",
    "df.loc[df['TIPO-VEICULO'] == 'MOTOCICLO', 'TIPO-VEICULO'] = 'MOTO'\n",
    "df.loc[df['TIPO-VEICULO'] == 'MOTONETA', 'TIPO-VEICULO'] = 'MOTO'"
   ]
  },
  {
   "cell_type": "code",
   "execution_count": 115,
   "metadata": {},
   "outputs": [],
   "source": [
    "#Agrupando ‘CNETE’ e ‘UTILITaRI’, em ‘CARGA-LEVE’\n",
    "df.loc[df['TIPO-VEICULO'] == 'CNETE', 'TIPO-VEICULO'] = 'CARGA-LEVE'\n",
    "df.loc[df['TIPO-VEICULO'] == 'UTILITáRI', 'TIPO-VEICULO'] = 'CARGA-LEVE'"
   ]
  },
  {
   "cell_type": "code",
   "execution_count": 116,
   "metadata": {},
   "outputs": [],
   "source": [
    "#Agrupando ‘ONIBUS’ e ‘MICROONIB’, em ‘BUS’\n",
    "df.loc[df['TIPO-VEICULO'] == 'ONIBUS', 'TIPO-VEICULO'] = 'BUS'\n",
    "df.loc[df['TIPO-VEICULO'] == 'MICROONIB', 'TIPO-VEICULO'] = 'BUS'"
   ]
  },
  {
   "cell_type": "code",
   "execution_count": 117,
   "metadata": {},
   "outputs": [],
   "source": [
    "#Agrupando ‘C. TRATOR’ e ‘S.REBOQUE’, em 'CARGA-PESADA’\n",
    "df.loc[df['TIPO-VEICULO'] == 'C. TRATOR', 'TIPO-VEICULO'] = 'CARGA-PESADA'\n",
    "df.loc[df['TIPO-VEICULO'] == 'S.REBOQUE', 'TIPO-VEICULO'] = 'CARGA-PESADA'"
   ]
  },
  {
   "cell_type": "code",
   "execution_count": 118,
   "metadata": {},
   "outputs": [
    {
     "data": {
      "text/plain": [
       "9"
      ]
     },
     "execution_count": 118,
     "metadata": {},
     "output_type": "execute_result"
    }
   ],
   "source": [
    "#Contagemn de valores únicos para ‘TIPO-VEICULO’ - Depois do Agrupamento\n",
    "df['TIPO-VEICULO'].nunique()"
   ]
  },
  {
   "cell_type": "code",
   "execution_count": 119,
   "metadata": {},
   "outputs": [
    {
     "data": {
      "text/plain": [
       "AUTOMOVEL       551\n",
       "CARGA-LEVE      239\n",
       "CARGA-PESADA    210\n",
       "AUTO-CNETA       59\n",
       "CAMINHAO         51\n",
       "MOTO             41\n",
       "miss             29\n",
       "REBOQUE          10\n",
       "BUS               8\n",
       "Name: TIPO-VEICULO, dtype: int64"
      ]
     },
     "execution_count": 119,
     "metadata": {},
     "output_type": "execute_result"
    }
   ],
   "source": [
    "#Contagem de valores para ‘TIPO-VEICULO’ - Depois do Agrupamento\n",
    "df['TIPO-VEICULO'].value_counts().head(15)"
   ]
  },
  {
   "cell_type": "code",
   "execution_count": 120,
   "metadata": {},
   "outputs": [
    {
     "data": {
      "image/png": "[encoded data removed]",
      "text/plain": [
       "<Figure size 432x288 with 1 Axes>"
      ]
     },
     "metadata": {
      "needs_background": "light"
     },
     "output_type": "display_data"
    }
   ],
   "source": [
    "#Frequência relativa de leituras incorretas por 'TIPO-VEICULO' - Depois do Agrupamento\n",
    "plt.figure(figsize=(6,4))\n",
    "tipo_veiculo_FP = sns.barplot(x = 'TIPO-VEICULO', y = 'Leitura', data = df, ci=False)\n",
    "tipo_veiculo_FP.set_xticklabels(tipo_veiculo_FP.get_xticklabels(), rotation=45,horizontalalignment='right')\n",
    "plt.tight_layout()\n",
    "plt.show(tipo_veiculo_FP)"
   ]
  },
  {
   "cell_type": "markdown",
   "metadata": {},
   "source": [
    "# 4.6 Variável ‘COR’"
   ]
  },
  {
   "cell_type": "code",
   "execution_count": 121,
   "metadata": {},
   "outputs": [
    {
     "data": {
      "text/plain": [
       "13"
      ]
     },
     "execution_count": 121,
     "metadata": {},
     "output_type": "execute_result"
    }
   ],
   "source": [
    "#Contagem de valores únicos\n",
    "df['COR'].nunique()"
   ]
  },
  {
   "cell_type": "code",
   "execution_count": 122,
   "metadata": {},
   "outputs": [
    {
     "data": {
      "text/plain": [
       "BRANCA      414\n",
       "PRATA       289\n",
       "PRETA       187\n",
       "CINZA       113\n",
       "VERMELHA     84\n",
       "AZUL         43\n",
       "miss         29\n",
       "VERDE        18\n",
       "BEGE         10\n",
       "AMARELA       7\n",
       "LARANJA       2\n",
       "MARROM        1\n",
       "ROXA          1\n",
       "Name: COR, dtype: int64"
      ]
     },
     "execution_count": 122,
     "metadata": {},
     "output_type": "execute_result"
    }
   ],
   "source": [
    "#Contagem de valores\n",
    "df['COR'].value_counts()"
   ]
  },
  {
   "cell_type": "code",
   "execution_count": 123,
   "metadata": {},
   "outputs": [
    {
     "data": {
      "image/png": "[encoded data removed]",
      "text/plain": [
       "<Figure size 432x288 with 1 Axes>"
      ]
     },
     "metadata": {
      "needs_background": "light"
     },
     "output_type": "display_data"
    }
   ],
   "source": [
    "#Frequência relativa de leituras incorretas por 'COR'\n",
    "plt.figure(figsize=(6,4))\n",
    "cor_FP = sns.barplot(x = 'COR', y = 'Leitura', data = df, ci=False)\n",
    "cor_FP.set_xticklabels(cor_FP.get_xticklabels(), rotation=45,horizontalalignment='right')\n",
    "plt.tight_layout()\n",
    "plt.show(cor_FP)"
   ]
  },
  {
   "cell_type": "code",
   "execution_count": 124,
   "metadata": {},
   "outputs": [],
   "source": [
    "#Agrupando as cores branca, preta, cinza e prata em 'BRA-PRE-CIN-PRA'\n",
    "df.loc[df['COR'] == 'BRANCA', 'COR'] = 'BRA-PRE-CIN-PRA'\n",
    "df.loc[df['COR'] == 'PRETA', 'COR'] = 'BRA-PRE-CIN-PRA'\n",
    "df.loc[df['COR'] == 'CINZA', 'COR'] = 'BRA-PRE-CIN-PRA'\n",
    "df.loc[df['COR'] == 'PRATA', 'COR'] = 'BRA-PRE-CIN-PRA'"
   ]
  },
  {
   "cell_type": "code",
   "execution_count": 125,
   "metadata": {},
   "outputs": [],
   "source": [
    "#Agrupando as cores vermelha, verde, azul, amarela e bege  em 'VERM-VERD-AZ-AM-BEG'\n",
    "df.loc[df['COR'] == 'VERMELHA', 'COR'] = 'VERM-VERD-AZ-AM-BEG'\n",
    "df.loc[df['COR'] == 'VERDE', 'COR'] = 'VERM-VERD-AZ-AM-BEG'\n",
    "df.loc[df['COR'] == 'AZUL', 'COR'] = 'VERM-VERD-AZ-AM-BEG'\n",
    "df.loc[df['COR'] == 'AMARELA', 'COR'] = 'VERM-VERD-AZ-AM-BEG'\n",
    "df.loc[df['COR'] == 'BEGE', 'COR'] = 'VERM-VERD-AZ-AM-BEG'"
   ]
  },
  {
   "cell_type": "code",
   "execution_count": 126,
   "metadata": {},
   "outputs": [],
   "source": [
    "#Agrupando as cores laranja, roxa e marrom em 'LAR-ROX-MARR'\n",
    "df.loc[df['COR'] == 'LARANJA', 'COR'] = 'LAR-ROX-MARR'\n",
    "df.loc[df['COR'] == 'ROXA', 'COR'] = 'LAR-ROX-MARR'\n",
    "df.loc[df['COR'] == 'MARROM', 'COR'] = 'LAR-ROX-MARR'"
   ]
  },
  {
   "cell_type": "code",
   "execution_count": 127,
   "metadata": {},
   "outputs": [
    {
     "data": {
      "text/plain": [
       "4"
      ]
     },
     "execution_count": 127,
     "metadata": {},
     "output_type": "execute_result"
    }
   ],
   "source": [
    "#Contagem de valores únicos - Depois do Agrupamento\n",
    "df['COR'].nunique()"
   ]
  },
  {
   "cell_type": "code",
   "execution_count": 128,
   "metadata": {},
   "outputs": [
    {
     "data": {
      "text/plain": [
       "BRA-PRE-CIN-PRA        1003\n",
       "VERM-VERD-AZ-AM-BEG     162\n",
       "miss                     29\n",
       "LAR-ROX-MARR              4\n",
       "Name: COR, dtype: int64"
      ]
     },
     "execution_count": 128,
     "metadata": {},
     "output_type": "execute_result"
    }
   ],
   "source": [
    "#Contagem de valores - Depois do Agrupamento\n",
    "df['COR'].value_counts()"
   ]
  },
  {
   "cell_type": "code",
   "execution_count": 129,
   "metadata": {},
   "outputs": [
    {
     "data": {
      "image/png": "[encoded data removed]",
      "text/plain": [
       "<Figure size 432x288 with 1 Axes>"
      ]
     },
     "metadata": {
      "needs_background": "light"
     },
     "output_type": "display_data"
    }
   ],
   "source": [
    "#Frequência relativa de leituras incorretas por 'COR' - Depois do Agrupamento\n",
    "plt.figure(figsize=(6,4))\n",
    "cor_FP = sns.barplot(x = 'COR', y = 'Leitura', data = df, ci=False)\n",
    "cor_FP.set_xticklabels(cor_FP.get_xticklabels(), rotation=45,horizontalalignment='right')\n",
    "plt.tight_layout()\n",
    "plt.show(cor_FP)"
   ]
  },
  {
   "cell_type": "markdown",
   "metadata": {},
   "source": [
    "## 4.7 Variável ‘ANO-FABRICAÇAO’"
   ]
  },
  {
   "cell_type": "code",
   "execution_count": 130,
   "metadata": {},
   "outputs": [
    {
     "data": {
      "text/plain": [
       "<bound method NDFrame.describe of 0       2010.0\n",
       "1       2005.0\n",
       "2       2007.0\n",
       "3       2009.0\n",
       "4       2020.0\n",
       "         ...  \n",
       "1195    2018.0\n",
       "1196    2010.0\n",
       "1197    2010.0\n",
       "1198    1998.0\n",
       "1199    2020.0\n",
       "Name: ANO-FABRICACAO, Length: 1198, dtype: float64>"
      ]
     },
     "execution_count": 130,
     "metadata": {},
     "output_type": "execute_result"
    }
   ],
   "source": [
    "df['ANO-FABRICACAO'].describe"
   ]
  },
  {
   "cell_type": "code",
   "execution_count": 131,
   "metadata": {},
   "outputs": [
    {
     "data": {
      "text/plain": [
       "48"
      ]
     },
     "execution_count": 131,
     "metadata": {},
     "output_type": "execute_result"
    }
   ],
   "source": [
    "df['ANO-FABRICACAO'].nunique()"
   ]
  },
  {
   "cell_type": "code",
   "execution_count": 132,
   "metadata": {},
   "outputs": [
    {
     "data": {
      "text/html": [
       "<div>\n",
       "<style scoped>\n",
       "    .dataframe tbody tr th:only-of-type {\n",
       "        vertical-align: middle;\n",
       "    }\n",
       "\n",
       "    .dataframe tbody tr th {\n",
       "        vertical-align: top;\n",
       "    }\n",
       "\n",
       "    .dataframe thead th {\n",
       "        text-align: right;\n",
       "    }\n",
       "</style>\n",
       "<table border=\"1\" class=\"dataframe\">\n",
       "  <thead>\n",
       "    <tr style=\"text-align: right;\">\n",
       "      <th></th>\n",
       "      <th>PlacaHash</th>\n",
       "      <th>1_Letra</th>\n",
       "      <th>5_Dígito</th>\n",
       "      <th>Leitura</th>\n",
       "      <th>Conf</th>\n",
       "      <th>UF</th>\n",
       "      <th>TIPO-VEICULO</th>\n",
       "      <th>COR</th>\n",
       "      <th>ANO-FABRICACAO</th>\n",
       "      <th>ULT-ATUALIZACAO</th>\n",
       "      <th>SITUACAO</th>\n",
       "      <th>RESTRICOES</th>\n",
       "      <th>Hora</th>\n",
       "      <th>Mercosul</th>\n",
       "      <th>SemRenavam</th>\n",
       "    </tr>\n",
       "  </thead>\n",
       "  <tbody>\n",
       "    <tr>\n",
       "      <th>count</th>\n",
       "      <td>138</td>\n",
       "      <td>138</td>\n",
       "      <td>138</td>\n",
       "      <td>138</td>\n",
       "      <td>138</td>\n",
       "      <td>138</td>\n",
       "      <td>138</td>\n",
       "      <td>138</td>\n",
       "      <td>138</td>\n",
       "      <td>109</td>\n",
       "      <td>109</td>\n",
       "      <td>109</td>\n",
       "      <td>138</td>\n",
       "      <td>138</td>\n",
       "      <td>138</td>\n",
       "    </tr>\n",
       "  </tbody>\n",
       "</table>\n",
       "</div>"
      ],
      "text/plain": [
       "       PlacaHash  1_Letra  5_Dígito  Leitura  Conf   UF  TIPO-VEICULO  COR  \\\n",
       "count        138      138       138      138   138  138           138  138   \n",
       "\n",
       "       ANO-FABRICACAO  ULT-ATUALIZACAO  SITUACAO  RESTRICOES  Hora  Mercosul  \\\n",
       "count             138              109       109         109   138       138   \n",
       "\n",
       "       SemRenavam  \n",
       "count         138  "
      ]
     },
     "execution_count": 132,
     "metadata": {},
     "output_type": "execute_result"
    }
   ],
   "source": [
    "df[(df['ANO-FABRICACAO']<2000)].agg(['count'])"
   ]
  },
  {
   "cell_type": "code",
   "execution_count": 133,
   "metadata": {},
   "outputs": [
    {
     "data": {
      "text/plain": [
       "<AxesSubplot:xlabel='ANO-FABRICACAO', ylabel='Count'>"
      ]
     },
     "execution_count": 133,
     "metadata": {},
     "output_type": "execute_result"
    },
    {
     "data": {
      "image/png": "[encoded data removed]",
      "text/plain": [
       "<Figure size 432x288 with 1 Axes>"
      ]
     },
     "metadata": {
      "needs_background": "light"
     },
     "output_type": "display_data"
    }
   ],
   "source": [
    "#Histograma\n",
    "sns.histplot(data=df['ANO-FABRICACAO'],bins=range(1970,2021,2))"
   ]
  },
  {
   "cell_type": "code",
   "execution_count": 134,
   "metadata": {
    "scrolled": true
   },
   "outputs": [
    {
     "data": {
      "image/png": "[encoded data removed]",
      "text/plain": [
       "<Figure size 864x288 with 1 Axes>"
      ]
     },
     "metadata": {
      "needs_background": "light"
     },
     "output_type": "display_data"
    }
   ],
   "source": [
    "#Frequência relativa de leituras incorretas por 'ANO-FABRICACAO'\n",
    "plt.figure(figsize=(12,4))\n",
    "ano_FP = sns.barplot(x = 'ANO-FABRICACAO', y = 'Leitura', data = df, ci=False)\n",
    "ano_FP.set_xticklabels(ano_FP.get_xticklabels(), rotation=45,horizontalalignment='right')\n",
    "plt.tight_layout()\n",
    "plt.show(ano_FP)"
   ]
  },
  {
   "cell_type": "markdown",
   "metadata": {},
   "source": [
    "## 4.8 Variáveis ‘ULT-ATUALIZACAO’, ‘SITUACAO’ e ‘RESTRICOES'"
   ]
  },
  {
   "cell_type": "code",
   "execution_count": 135,
   "metadata": {},
   "outputs": [
    {
     "data": {
      "text/plain": [
       "813"
      ]
     },
     "execution_count": 135,
     "metadata": {},
     "output_type": "execute_result"
    }
   ],
   "source": [
    "#Contagem de registros únicos de 'ULT-ATUALIZACAO'\n",
    "df['ULT-ATUALIZACAO'].nunique()"
   ]
  },
  {
   "cell_type": "code",
   "execution_count": 136,
   "metadata": {},
   "outputs": [
    {
     "data": {
      "text/plain": [
       "CIRCULACAO                           1166\n",
       "BAIXADO                                 1\n",
       "BAIXADO    DATA TRANSF 01/09/2015       1\n",
       "BAIXADO    DATA TRANSF 05/08/2013       1\n",
       "Name: SITUACAO, dtype: int64"
      ]
     },
     "execution_count": 136,
     "metadata": {},
     "output_type": "execute_result"
    }
   ],
   "source": [
    "#Contagem de registros da variável 'SITUACAO'\n",
    "df['SITUACAO'].value_counts()"
   ]
  },
  {
   "cell_type": "code",
   "execution_count": 137,
   "metadata": {},
   "outputs": [
    {
     "data": {
      "text/plain": [
       "   NAO HA                                                                                                                                               605\n",
       "   ALIENACAO FIDUCIARIA                                                                                                                                 367\n",
       "   NAO HA|                                             RECALL - TECLE <PF9>                                                                              44\n",
       "   ALIENACAO FIDUCIARIA|                                             RECALL - TECLE <PF9>                                                                34\n",
       "   NAO HA|                                      COMUNICACAO DE VENDA - TECLE <PF6>                                                                       23\n",
       "   ALIENACAO FIDUCIARIA|   RESTRIÇÃO RENAJUD - TECLE <PF5>                                                                                               10\n",
       "   RESERVA DE DOMINIO                                                                                                                                     8\n",
       "   NAO HA|   RESTRIÇÃO RENAJUD - TECLE <PF5>                                                                                                              7\n",
       "   ALIENACAO FIDUCIARIA|                                      COMUNICACAO DE VENDA - TECLE <PF6>                                                          7\n",
       "   REST. ADMINISTRATIVA ALIENACAO FIDUCIARIA                                                                                                              7\n",
       "   REST. ADMINISTRATIVA                                                                                                                                   6\n",
       "   NAO HA|                                             RECALL - TECLE <PF9>|                                      COMUNICACAO DE VENDA - TECLE <PF6>      6\n",
       "   ARRENDAMENTO                                                                                                                                           6\n",
       "   NAO HA|   RESTRIÇÃO - TECLE <PF5>            COMUNICACAO DE VENDA - TECLE <PF6>                                                                        5\n",
       "   ALIENACAO FIDUCIARIA|   VEICULO COM OCORRENCIA DE ROUBO/FURTO                                                                                          3\n",
       "   NAO HA|   RESTRIÇÃO - TECLE <PF5>                                                                                                                      3\n",
       "   RESTRICAO JUDICIAL                                                                                                                                     2\n",
       "   ALIENACAO FIDUCIARIA|                                             RECALL - TECLE <PF9>|   RESTRIÇÃO RENAJUD - TECLE <PF5>                              2\n",
       "   PENHOR DE VEICULO                                                                                                                                      2\n",
       "   ARRENDAMENTO|                                      COMUNICACAO DE VENDA - TECLE <PF6>                                                                  2\n",
       "   REST. ADMINISTRATIVA ALIENACAO FIDUCIARIA|                                             RECALL - TECLE <PF9>                                            1\n",
       "   REST.BEN.TRIBUTARIO|   DATA LIMITE REST.TRIBUTARIA: 09/06/2018                                                                                         1\n",
       "   REST.BEN.TRIBUTARIO  ALIENACAO FIDUCIARIA|   DATA LIMITE REST.TRIBUTARIA: 17/04/2021                                                                   1\n",
       "   REST. ADMINISTRATIVA ALIENACAO FIDUCIARIA|                                      COMUNICACAO DE VENDA - TECLE <PF6>                                     1\n",
       "   REST.BEN.TRIBUTARIO  ALIENACAO FIDUCIARIA                                                                                                              1\n",
       "   REST.BEN.TRIBUTARIO|   DATA LIMITE REST.TRIBUTARIA: 14/05/2021                                                                                         1\n",
       "   REST.BEN.TRIBUTARIO                                                                                                                                    1\n",
       "   RESERVA DE DOMINIO|   RESTRIÇÃO RENAJUD - TECLE <PF5>                                                                                                  1\n",
       "   REST.BEN.TRIBUTARIO|   DATA LIMITE REST.TRIBUTARIA: 27/08/2021                                                                                         1\n",
       "   REST.BEN.TRIBUTARIO|   DATA LIMITE REST.TRIBUTARIA: 28/10/2023                                                                                         1\n",
       "   ALIENACAO FIDUCIARIA|   RESTRIÇÃO RENAJUD - TECLE <PF5>|   VEICULO COM OCORRENCIA DE ROUBO/FURTO                                                       1\n",
       "   RESTRICAO JUDICIAL   ALIENACAO FIDUCIARIA                                                                                                              1\n",
       "   REST.BEN.TRIBUTARIO|   DATA LIMITE REST.TRIBUTARIA: 14/01/2022                                                                                         1\n",
       "   RESTRICAO JUDICIAL|                                      COMUNICACAO DE VENDA - TECLE <PF6>                                                            1\n",
       "   REST.BEN.TRIBUTARIO|   DATA LIMITE REST.TRIBUTARIA: 30/01/2023                                                                                         1\n",
       "   NAO HA|   VEICULO COM OCORRENCIA DE ROUBO/FURTO                                                                                                        1\n",
       "   REST.BEN.TRIBUTARIO  ARRENDAMENTO|   DATA LIMITE REST.TRIBUTARIA: 03/08/2021   RECALL - TECLE <PF9>                                                    1\n",
       "   REST.BEN.TRIBUTARIO  ALIENACAO FIDUCIARIA|   DATA LIMITE REST.TRIBUTARIA: 23/02/2018                                                                   1\n",
       "   REST.BEN.TRIBUTARIO|   DATA LIMITE REST.TRIBUTARIA: 19/08/2022                                                                                         1\n",
       "   REST.BEN.TRIBUTARIO  REST. ADMINISTRATIVA                                                                                                              1\n",
       "Name: RESTRICOES, dtype: int64"
      ]
     },
     "execution_count": 137,
     "metadata": {},
     "output_type": "execute_result"
    }
   ],
   "source": [
    "#Contagem de registros da variável 'RESTRICOES'\n",
    "df['RESTRICOES'].value_counts()"
   ]
  },
  {
   "cell_type": "code",
   "execution_count": 138,
   "metadata": {},
   "outputs": [],
   "source": [
    "#Eliminando variáveis 'ULT-ATUALIZACAO','SITUACAO' e 'RESTRICOES'\n",
    "df.drop(['ULT-ATUALIZACAO','SITUACAO','RESTRICOES'], axis=1, inplace=True)"
   ]
  },
  {
   "cell_type": "markdown",
   "metadata": {},
   "source": [
    "## 4.8 Variável ‘Hora’"
   ]
  },
  {
   "cell_type": "code",
   "execution_count": 139,
   "metadata": {},
   "outputs": [],
   "source": [
    "#separando leituras da coluna 'Hora' em leituras com luz natural e no período noturno\n",
    "#Atribuindo o valor True para a coluna 'Hora' até às 18:15hs (até index 591)\n",
    "df.at[0:591, 'Hora'] = True"
   ]
  },
  {
   "cell_type": "code",
   "execution_count": 140,
   "metadata": {},
   "outputs": [],
   "source": [
    "#Atribuindo o valor False para a coluna 'Hora' após às 18:15hs (index 592 até o fim)\n",
    "df.at[592:1199, 'Hora'] = False"
   ]
  },
  {
   "cell_type": "code",
   "execution_count": 141,
   "metadata": {},
   "outputs": [],
   "source": [
    "#Renomeando coluna 'Hora' para 'Diurno'\n",
    "df.rename(columns={'Hora': 'Diurno'}, inplace = True)"
   ]
  },
  {
   "cell_type": "code",
   "execution_count": 142,
   "metadata": {},
   "outputs": [
    {
     "data": {
      "text/plain": [
       "False    608\n",
       "True     590\n",
       "Name: Diurno, dtype: int64"
      ]
     },
     "execution_count": 142,
     "metadata": {},
     "output_type": "execute_result"
    }
   ],
   "source": [
    "#Contagem de registros para 'Diurno'\n",
    "df['Diurno'].value_counts()"
   ]
  },
  {
   "cell_type": "code",
   "execution_count": 143,
   "metadata": {},
   "outputs": [
    {
     "data": {
      "text/plain": [
       "<AxesSubplot:xlabel='Diurno', ylabel='Leitura'>"
      ]
     },
     "execution_count": 143,
     "metadata": {},
     "output_type": "execute_result"
    },
    {
     "data": {
      "image/png": "[encoded data removed]",
      "text/plain": [
       "<Figure size 432x288 with 1 Axes>"
      ]
     },
     "metadata": {
      "needs_background": "light"
     },
     "output_type": "display_data"
    }
   ],
   "source": [
    "#Frequência relativa de FP's por 'Diurno'\n",
    "sns.barplot(x = 'Diurno', y = 'Leitura', data = df, ci=False)"
   ]
  },
  {
   "cell_type": "markdown",
   "metadata": {},
   "source": [
    "# 5. Criação de Modelos de Machine Learning"
   ]
  },
  {
   "cell_type": "markdown",
   "metadata": {},
   "source": [
    "## 5.1 Variáveis dummies"
   ]
  },
  {
   "cell_type": "code",
   "execution_count": 144,
   "metadata": {},
   "outputs": [
    {
     "data": {
      "text/plain": [
       "PlacaHash         1198\n",
       "1_Letra              5\n",
       "5_Dígito             7\n",
       "Leitura              2\n",
       "Conf                35\n",
       "UF                   6\n",
       "TIPO-VEICULO         9\n",
       "COR                  4\n",
       "ANO-FABRICACAO      48\n",
       "Diurno               2\n",
       "Mercosul             2\n",
       "SemRenavam           2\n",
       "dtype: int64"
      ]
     },
     "execution_count": 144,
     "metadata": {},
     "output_type": "execute_result"
    }
   ],
   "source": [
    "#Identificando variáveis com até 10 registros distintos para criação de variáveis 'dummy'\n",
    "df.nunique()"
   ]
  },
  {
   "cell_type": "code",
   "execution_count": 145,
   "metadata": {},
   "outputs": [],
   "source": [
    "#Criação de variáveis 'dummy'\n",
    "dummy_df = pd.get_dummies(df,\n",
    "                         columns = ['UF',\n",
    "                                    'TIPO-VEICULO',\n",
    "                                    'COR',\n",
    "                                    '1_Letra',\n",
    "                                    '5_Dígito'\n",
    "                                   ],\n",
    "                                    drop_first = True,\n",
    "                          prefix = ['UF',\n",
    "                                    'TIPO-VEICULO',\n",
    "                                    'COR',\n",
    "                                    '1_Letra',\n",
    "                                    '5_Dígito'\n",
    "                                   ],\n",
    "                          prefix_sep = '_' ) "
   ]
  },
  {
   "cell_type": "code",
   "execution_count": 146,
   "metadata": {},
   "outputs": [
    {
     "data": {
      "text/plain": [
       "Index(['PlacaHash', 'Leitura', 'Conf', 'ANO-FABRICACAO', 'Diurno', 'Mercosul',\n",
       "       'SemRenavam', 'UF_ES-CE-PI-SE-DF-PA', 'UF_MT-MS-PR', 'UF_SC-RS-RO-AC',\n",
       "       'UF_SP-RJ-MG-GO-PE', 'UF_SR', 'TIPO-VEICULO_AUTOMOVEL',\n",
       "       'TIPO-VEICULO_BUS', 'TIPO-VEICULO_CAMINHAO', 'TIPO-VEICULO_CARGA-LEVE',\n",
       "       'TIPO-VEICULO_CARGA-PESADA', 'TIPO-VEICULO_MOTO',\n",
       "       'TIPO-VEICULO_REBOQUE', 'TIPO-VEICULO_miss', 'COR_LAR-ROX-MARR',\n",
       "       'COR_VERM-VERD-AZ-AM-BEG', 'COR_miss', '1_Letra_F-G-N-R-Q-A',\n",
       "       '1_Letra_H-P-J-M', '1_Letra_K-E-B', '1_Letra_U-W-X', '5_Dígito_4-0-3-9',\n",
       "       '5_Dígito_5', '5_Dígito_7-2-6-8', '5_Dígito_C-A-G-B',\n",
       "       '5_Dígito_H-F-E-D-I-J', '5_Dígito_M-R-P-Q-W'],\n",
       "      dtype='object')"
      ]
     },
     "execution_count": 146,
     "metadata": {},
     "output_type": "execute_result"
    }
   ],
   "source": [
    "#Verificando colunas após criação das variáveis 'dummy'\n",
    "dummy_df.columns"
   ]
  },
  {
   "cell_type": "code",
   "execution_count": 147,
   "metadata": {},
   "outputs": [
    {
     "name": "stdout",
     "output_type": "stream",
     "text": [
      "<class 'pandas.core.frame.DataFrame'>\n",
      "Int64Index: 1198 entries, 0 to 1199\n",
      "Data columns (total 33 columns):\n",
      " #   Column                     Non-Null Count  Dtype  \n",
      "---  ------                     --------------  -----  \n",
      " 0   PlacaHash                  1198 non-null   uint64 \n",
      " 1   Leitura                    1198 non-null   int64  \n",
      " 2   Conf                       1198 non-null   float64\n",
      " 3   ANO-FABRICACAO             1198 non-null   float64\n",
      " 4   Diurno                     1198 non-null   object \n",
      " 5   Mercosul                   1198 non-null   bool   \n",
      " 6   SemRenavam                 1198 non-null   object \n",
      " 7   UF_ES-CE-PI-SE-DF-PA       1198 non-null   uint8  \n",
      " 8   UF_MT-MS-PR                1198 non-null   uint8  \n",
      " 9   UF_SC-RS-RO-AC             1198 non-null   uint8  \n",
      " 10  UF_SP-RJ-MG-GO-PE          1198 non-null   uint8  \n",
      " 11  UF_SR                      1198 non-null   uint8  \n",
      " 12  TIPO-VEICULO_AUTOMOVEL     1198 non-null   uint8  \n",
      " 13  TIPO-VEICULO_BUS           1198 non-null   uint8  \n",
      " 14  TIPO-VEICULO_CAMINHAO      1198 non-null   uint8  \n",
      " 15  TIPO-VEICULO_CARGA-LEVE    1198 non-null   uint8  \n",
      " 16  TIPO-VEICULO_CARGA-PESADA  1198 non-null   uint8  \n",
      " 17  TIPO-VEICULO_MOTO          1198 non-null   uint8  \n",
      " 18  TIPO-VEICULO_REBOQUE       1198 non-null   uint8  \n",
      " 19  TIPO-VEICULO_miss          1198 non-null   uint8  \n",
      " 20  COR_LAR-ROX-MARR           1198 non-null   uint8  \n",
      " 21  COR_VERM-VERD-AZ-AM-BEG    1198 non-null   uint8  \n",
      " 22  COR_miss                   1198 non-null   uint8  \n",
      " 23  1_Letra_F-G-N-R-Q-A        1198 non-null   uint8  \n",
      " 24  1_Letra_H-P-J-M            1198 non-null   uint8  \n",
      " 25  1_Letra_K-E-B              1198 non-null   uint8  \n",
      " 26  1_Letra_U-W-X              1198 non-null   uint8  \n",
      " 27  5_Dígito_4-0-3-9           1198 non-null   uint8  \n",
      " 28  5_Dígito_5                 1198 non-null   uint8  \n",
      " 29  5_Dígito_7-2-6-8           1198 non-null   uint8  \n",
      " 30  5_Dígito_C-A-G-B           1198 non-null   uint8  \n",
      " 31  5_Dígito_H-F-E-D-I-J       1198 non-null   uint8  \n",
      " 32  5_Dígito_M-R-P-Q-W         1198 non-null   uint8  \n",
      "dtypes: bool(1), float64(2), int64(1), object(2), uint64(1), uint8(26)\n",
      "memory usage: 137.1+ KB\n"
     ]
    }
   ],
   "source": [
    "#Verificando tipo das variáveis\n",
    "dummy_df.info()"
   ]
  },
  {
   "cell_type": "code",
   "execution_count": 148,
   "metadata": {},
   "outputs": [],
   "source": [
    "#Convertendo variáveis para tipo 'int64'\n",
    "dummy_df[['UF_ES-CE-PI-SE-DF-PA', 'UF_MT-MS-PR', 'UF_SC-RS-RO-AC',\n",
    "       'UF_SP-RJ-MG-GO-PE', 'UF_SR', 'TIPO-VEICULO_AUTOMOVEL',\n",
    "       'TIPO-VEICULO_BUS', 'TIPO-VEICULO_CAMINHAO', 'TIPO-VEICULO_CARGA-LEVE',\n",
    "       'TIPO-VEICULO_CARGA-PESADA', 'TIPO-VEICULO_MOTO',\n",
    "       'TIPO-VEICULO_REBOQUE', 'TIPO-VEICULO_miss', 'COR_LAR-ROX-MARR',\n",
    "       'COR_VERM-VERD-AZ-AM-BEG', 'COR_miss', '1_Letra_F-G-N-R-Q-A',\n",
    "       '1_Letra_H-P-J-M', '1_Letra_K-E-B', '1_Letra_U-W-X', '5_Dígito_4-0-3-9',\n",
    "       '5_Dígito_5', '5_Dígito_7-2-6-8', '5_Dígito_C-A-G-B',\n",
    "       '5_Dígito_H-F-E-D-I-J', '5_Dígito_M-R-P-Q-W']] = dummy_df[['UF_ES-CE-PI-SE-DF-PA', 'UF_MT-MS-PR', 'UF_SC-RS-RO-AC',\n",
    "       'UF_SP-RJ-MG-GO-PE', 'UF_SR', 'TIPO-VEICULO_AUTOMOVEL',\n",
    "       'TIPO-VEICULO_BUS', 'TIPO-VEICULO_CAMINHAO', 'TIPO-VEICULO_CARGA-LEVE',\n",
    "       'TIPO-VEICULO_CARGA-PESADA', 'TIPO-VEICULO_MOTO',\n",
    "       'TIPO-VEICULO_REBOQUE', 'TIPO-VEICULO_miss', 'COR_LAR-ROX-MARR',\n",
    "       'COR_VERM-VERD-AZ-AM-BEG', 'COR_miss', '1_Letra_F-G-N-R-Q-A',\n",
    "       '1_Letra_H-P-J-M', '1_Letra_K-E-B', '1_Letra_U-W-X', '5_Dígito_4-0-3-9',\n",
    "       '5_Dígito_5', '5_Dígito_7-2-6-8', '5_Dígito_C-A-G-B',\n",
    "       '5_Dígito_H-F-E-D-I-J', '5_Dígito_M-R-P-Q-W']].astype('int64')"
   ]
  },
  {
   "cell_type": "code",
   "execution_count": 149,
   "metadata": {},
   "outputs": [],
   "source": [
    "#Convertendo variáveis para tipo 'float'\n",
    "dummy_df[['Conf', 'ANO-FABRICACAO']] = dummy_df[['Conf', 'ANO-FABRICACAO']].astype('float')"
   ]
  },
  {
   "cell_type": "code",
   "execution_count": 150,
   "metadata": {},
   "outputs": [],
   "source": [
    "#Convertendo variáveis para tipo 'bool'\n",
    "dummy_df[['Diurno', 'Mercosul','SemRenavam']] = dummy_df[['Diurno', 'Mercosul',\n",
    "       'SemRenavam']].astype('bool')"
   ]
  },
  {
   "cell_type": "code",
   "execution_count": 151,
   "metadata": {},
   "outputs": [
    {
     "data": {
      "text/html": [
       "<div>\n",
       "<style scoped>\n",
       "    .dataframe tbody tr th:only-of-type {\n",
       "        vertical-align: middle;\n",
       "    }\n",
       "\n",
       "    .dataframe tbody tr th {\n",
       "        vertical-align: top;\n",
       "    }\n",
       "\n",
       "    .dataframe thead th {\n",
       "        text-align: right;\n",
       "    }\n",
       "</style>\n",
       "<table border=\"1\" class=\"dataframe\">\n",
       "  <thead>\n",
       "    <tr style=\"text-align: right;\">\n",
       "      <th></th>\n",
       "      <th>PlacaHash</th>\n",
       "      <th>Leitura</th>\n",
       "      <th>Conf</th>\n",
       "      <th>ANO-FABRICACAO</th>\n",
       "      <th>Diurno</th>\n",
       "      <th>Mercosul</th>\n",
       "      <th>SemRenavam</th>\n",
       "      <th>UF_ES-CE-PI-SE-DF-PA</th>\n",
       "      <th>UF_MT-MS-PR</th>\n",
       "      <th>UF_SC-RS-RO-AC</th>\n",
       "      <th>...</th>\n",
       "      <th>1_Letra_F-G-N-R-Q-A</th>\n",
       "      <th>1_Letra_H-P-J-M</th>\n",
       "      <th>1_Letra_K-E-B</th>\n",
       "      <th>1_Letra_U-W-X</th>\n",
       "      <th>5_Dígito_4-0-3-9</th>\n",
       "      <th>5_Dígito_5</th>\n",
       "      <th>5_Dígito_7-2-6-8</th>\n",
       "      <th>5_Dígito_C-A-G-B</th>\n",
       "      <th>5_Dígito_H-F-E-D-I-J</th>\n",
       "      <th>5_Dígito_M-R-P-Q-W</th>\n",
       "    </tr>\n",
       "  </thead>\n",
       "  <tbody>\n",
       "    <tr>\n",
       "      <th>0</th>\n",
       "      <td>16818951966726593698</td>\n",
       "      <td>0</td>\n",
       "      <td>0.647059</td>\n",
       "      <td>2010.0</td>\n",
       "      <td>True</td>\n",
       "      <td>False</td>\n",
       "      <td>False</td>\n",
       "      <td>0</td>\n",
       "      <td>1</td>\n",
       "      <td>0</td>\n",
       "      <td>...</td>\n",
       "      <td>1</td>\n",
       "      <td>0</td>\n",
       "      <td>0</td>\n",
       "      <td>0</td>\n",
       "      <td>1</td>\n",
       "      <td>0</td>\n",
       "      <td>0</td>\n",
       "      <td>0</td>\n",
       "      <td>0</td>\n",
       "      <td>0</td>\n",
       "    </tr>\n",
       "    <tr>\n",
       "      <th>1</th>\n",
       "      <td>4578175391450274026</td>\n",
       "      <td>0</td>\n",
       "      <td>0.382353</td>\n",
       "      <td>2005.0</td>\n",
       "      <td>True</td>\n",
       "      <td>True</td>\n",
       "      <td>False</td>\n",
       "      <td>0</td>\n",
       "      <td>1</td>\n",
       "      <td>0</td>\n",
       "      <td>...</td>\n",
       "      <td>0</td>\n",
       "      <td>0</td>\n",
       "      <td>0</td>\n",
       "      <td>0</td>\n",
       "      <td>0</td>\n",
       "      <td>0</td>\n",
       "      <td>0</td>\n",
       "      <td>1</td>\n",
       "      <td>0</td>\n",
       "      <td>0</td>\n",
       "    </tr>\n",
       "    <tr>\n",
       "      <th>2</th>\n",
       "      <td>7385877233923986733</td>\n",
       "      <td>1</td>\n",
       "      <td>0.500000</td>\n",
       "      <td>2007.0</td>\n",
       "      <td>True</td>\n",
       "      <td>True</td>\n",
       "      <td>False</td>\n",
       "      <td>0</td>\n",
       "      <td>0</td>\n",
       "      <td>0</td>\n",
       "      <td>...</td>\n",
       "      <td>0</td>\n",
       "      <td>0</td>\n",
       "      <td>0</td>\n",
       "      <td>0</td>\n",
       "      <td>0</td>\n",
       "      <td>0</td>\n",
       "      <td>0</td>\n",
       "      <td>1</td>\n",
       "      <td>0</td>\n",
       "      <td>0</td>\n",
       "    </tr>\n",
       "    <tr>\n",
       "      <th>3</th>\n",
       "      <td>3566830866020661058</td>\n",
       "      <td>1</td>\n",
       "      <td>0.294118</td>\n",
       "      <td>2009.0</td>\n",
       "      <td>True</td>\n",
       "      <td>False</td>\n",
       "      <td>False</td>\n",
       "      <td>0</td>\n",
       "      <td>0</td>\n",
       "      <td>0</td>\n",
       "      <td>...</td>\n",
       "      <td>0</td>\n",
       "      <td>0</td>\n",
       "      <td>1</td>\n",
       "      <td>0</td>\n",
       "      <td>1</td>\n",
       "      <td>0</td>\n",
       "      <td>0</td>\n",
       "      <td>0</td>\n",
       "      <td>0</td>\n",
       "      <td>0</td>\n",
       "    </tr>\n",
       "    <tr>\n",
       "      <th>4</th>\n",
       "      <td>10185387699721257702</td>\n",
       "      <td>0</td>\n",
       "      <td>0.970588</td>\n",
       "      <td>2020.0</td>\n",
       "      <td>True</td>\n",
       "      <td>True</td>\n",
       "      <td>False</td>\n",
       "      <td>0</td>\n",
       "      <td>1</td>\n",
       "      <td>0</td>\n",
       "      <td>...</td>\n",
       "      <td>0</td>\n",
       "      <td>0</td>\n",
       "      <td>1</td>\n",
       "      <td>0</td>\n",
       "      <td>0</td>\n",
       "      <td>0</td>\n",
       "      <td>0</td>\n",
       "      <td>0</td>\n",
       "      <td>1</td>\n",
       "      <td>0</td>\n",
       "    </tr>\n",
       "    <tr>\n",
       "      <th>...</th>\n",
       "      <td>...</td>\n",
       "      <td>...</td>\n",
       "      <td>...</td>\n",
       "      <td>...</td>\n",
       "      <td>...</td>\n",
       "      <td>...</td>\n",
       "      <td>...</td>\n",
       "      <td>...</td>\n",
       "      <td>...</td>\n",
       "      <td>...</td>\n",
       "      <td>...</td>\n",
       "      <td>...</td>\n",
       "      <td>...</td>\n",
       "      <td>...</td>\n",
       "      <td>...</td>\n",
       "      <td>...</td>\n",
       "      <td>...</td>\n",
       "      <td>...</td>\n",
       "      <td>...</td>\n",
       "      <td>...</td>\n",
       "      <td>...</td>\n",
       "    </tr>\n",
       "    <tr>\n",
       "      <th>1195</th>\n",
       "      <td>17587299226595135787</td>\n",
       "      <td>0</td>\n",
       "      <td>0.676471</td>\n",
       "      <td>2018.0</td>\n",
       "      <td>False</td>\n",
       "      <td>True</td>\n",
       "      <td>False</td>\n",
       "      <td>0</td>\n",
       "      <td>1</td>\n",
       "      <td>0</td>\n",
       "      <td>...</td>\n",
       "      <td>1</td>\n",
       "      <td>0</td>\n",
       "      <td>0</td>\n",
       "      <td>0</td>\n",
       "      <td>0</td>\n",
       "      <td>0</td>\n",
       "      <td>0</td>\n",
       "      <td>1</td>\n",
       "      <td>0</td>\n",
       "      <td>0</td>\n",
       "    </tr>\n",
       "    <tr>\n",
       "      <th>1196</th>\n",
       "      <td>5257374306946238258</td>\n",
       "      <td>1</td>\n",
       "      <td>0.500000</td>\n",
       "      <td>2010.0</td>\n",
       "      <td>False</td>\n",
       "      <td>True</td>\n",
       "      <td>False</td>\n",
       "      <td>0</td>\n",
       "      <td>0</td>\n",
       "      <td>1</td>\n",
       "      <td>...</td>\n",
       "      <td>0</td>\n",
       "      <td>0</td>\n",
       "      <td>0</td>\n",
       "      <td>0</td>\n",
       "      <td>0</td>\n",
       "      <td>0</td>\n",
       "      <td>0</td>\n",
       "      <td>0</td>\n",
       "      <td>1</td>\n",
       "      <td>0</td>\n",
       "    </tr>\n",
       "    <tr>\n",
       "      <th>1197</th>\n",
       "      <td>4908375302694645005</td>\n",
       "      <td>0</td>\n",
       "      <td>0.294118</td>\n",
       "      <td>2010.0</td>\n",
       "      <td>False</td>\n",
       "      <td>True</td>\n",
       "      <td>False</td>\n",
       "      <td>0</td>\n",
       "      <td>1</td>\n",
       "      <td>0</td>\n",
       "      <td>...</td>\n",
       "      <td>0</td>\n",
       "      <td>0</td>\n",
       "      <td>0</td>\n",
       "      <td>0</td>\n",
       "      <td>0</td>\n",
       "      <td>0</td>\n",
       "      <td>0</td>\n",
       "      <td>0</td>\n",
       "      <td>1</td>\n",
       "      <td>0</td>\n",
       "    </tr>\n",
       "    <tr>\n",
       "      <th>1198</th>\n",
       "      <td>9907502954820475496</td>\n",
       "      <td>1</td>\n",
       "      <td>0.441176</td>\n",
       "      <td>1998.0</td>\n",
       "      <td>False</td>\n",
       "      <td>False</td>\n",
       "      <td>False</td>\n",
       "      <td>0</td>\n",
       "      <td>1</td>\n",
       "      <td>0</td>\n",
       "      <td>...</td>\n",
       "      <td>1</td>\n",
       "      <td>0</td>\n",
       "      <td>0</td>\n",
       "      <td>0</td>\n",
       "      <td>1</td>\n",
       "      <td>0</td>\n",
       "      <td>0</td>\n",
       "      <td>0</td>\n",
       "      <td>0</td>\n",
       "      <td>0</td>\n",
       "    </tr>\n",
       "    <tr>\n",
       "      <th>1199</th>\n",
       "      <td>14079922020280480857</td>\n",
       "      <td>0</td>\n",
       "      <td>0.647059</td>\n",
       "      <td>2020.0</td>\n",
       "      <td>False</td>\n",
       "      <td>True</td>\n",
       "      <td>False</td>\n",
       "      <td>0</td>\n",
       "      <td>1</td>\n",
       "      <td>0</td>\n",
       "      <td>...</td>\n",
       "      <td>0</td>\n",
       "      <td>0</td>\n",
       "      <td>1</td>\n",
       "      <td>0</td>\n",
       "      <td>0</td>\n",
       "      <td>0</td>\n",
       "      <td>0</td>\n",
       "      <td>0</td>\n",
       "      <td>1</td>\n",
       "      <td>0</td>\n",
       "    </tr>\n",
       "  </tbody>\n",
       "</table>\n",
       "<p>1198 rows × 33 columns</p>\n",
       "</div>"
      ],
      "text/plain": [
       "                 PlacaHash  Leitura      Conf  ANO-FABRICACAO  Diurno  \\\n",
       "0     16818951966726593698        0  0.647059          2010.0    True   \n",
       "1      4578175391450274026        0  0.382353          2005.0    True   \n",
       "2      7385877233923986733        1  0.500000          2007.0    True   \n",
       "3      3566830866020661058        1  0.294118          2009.0    True   \n",
       "4     10185387699721257702        0  0.970588          2020.0    True   \n",
       "...                    ...      ...       ...             ...     ...   \n",
       "1195  17587299226595135787        0  0.676471          2018.0   False   \n",
       "1196   5257374306946238258        1  0.500000          2010.0   False   \n",
       "1197   4908375302694645005        0  0.294118          2010.0   False   \n",
       "1198   9907502954820475496        1  0.441176          1998.0   False   \n",
       "1199  14079922020280480857        0  0.647059          2020.0   False   \n",
       "\n",
       "      Mercosul  SemRenavam  UF_ES-CE-PI-SE-DF-PA  UF_MT-MS-PR  UF_SC-RS-RO-AC  \\\n",
       "0        False       False                     0            1               0   \n",
       "1         True       False                     0            1               0   \n",
       "2         True       False                     0            0               0   \n",
       "3        False       False                     0            0               0   \n",
       "4         True       False                     0            1               0   \n",
       "...        ...         ...                   ...          ...             ...   \n",
       "1195      True       False                     0            1               0   \n",
       "1196      True       False                     0            0               1   \n",
       "1197      True       False                     0            1               0   \n",
       "1198     False       False                     0            1               0   \n",
       "1199      True       False                     0            1               0   \n",
       "\n",
       "      ...  1_Letra_F-G-N-R-Q-A  1_Letra_H-P-J-M  1_Letra_K-E-B  1_Letra_U-W-X  \\\n",
       "0     ...                    1                0              0              0   \n",
       "1     ...                    0                0              0              0   \n",
       "2     ...                    0                0              0              0   \n",
       "3     ...                    0                0              1              0   \n",
       "4     ...                    0                0              1              0   \n",
       "...   ...                  ...              ...            ...            ...   \n",
       "1195  ...                    1                0              0              0   \n",
       "1196  ...                    0                0              0              0   \n",
       "1197  ...                    0                0              0              0   \n",
       "1198  ...                    1                0              0              0   \n",
       "1199  ...                    0                0              1              0   \n",
       "\n",
       "      5_Dígito_4-0-3-9  5_Dígito_5  5_Dígito_7-2-6-8  5_Dígito_C-A-G-B  \\\n",
       "0                    1           0                 0                 0   \n",
       "1                    0           0                 0                 1   \n",
       "2                    0           0                 0                 1   \n",
       "3                    1           0                 0                 0   \n",
       "4                    0           0                 0                 0   \n",
       "...                ...         ...               ...               ...   \n",
       "1195                 0           0                 0                 1   \n",
       "1196                 0           0                 0                 0   \n",
       "1197                 0           0                 0                 0   \n",
       "1198                 1           0                 0                 0   \n",
       "1199                 0           0                 0                 0   \n",
       "\n",
       "      5_Dígito_H-F-E-D-I-J  5_Dígito_M-R-P-Q-W  \n",
       "0                        0                   0  \n",
       "1                        0                   0  \n",
       "2                        0                   0  \n",
       "3                        0                   0  \n",
       "4                        1                   0  \n",
       "...                    ...                 ...  \n",
       "1195                     0                   0  \n",
       "1196                     1                   0  \n",
       "1197                     1                   0  \n",
       "1198                     0                   0  \n",
       "1199                     1                   0  \n",
       "\n",
       "[1198 rows x 33 columns]"
      ]
     },
     "execution_count": 151,
     "metadata": {},
     "output_type": "execute_result"
    }
   ],
   "source": [
    "dummy_df"
   ]
  },
  {
   "cell_type": "code",
   "execution_count": 152,
   "metadata": {},
   "outputs": [],
   "source": [
    "#Separação da variável alvo\n",
    "alvo = dummy_df['Leitura']"
   ]
  },
  {
   "cell_type": "code",
   "execution_count": 153,
   "metadata": {},
   "outputs": [],
   "source": [
    "#Separação das variáveis eplicativas\n",
    "explicativas = dummy_df.drop([\"PlacaHash\",'Leitura'], axis=1)"
   ]
  },
  {
   "cell_type": "code",
   "execution_count": 154,
   "metadata": {},
   "outputs": [],
   "source": [
    "#Convertendo variáveis para tipo 'int'\n",
    "explicativas[['ANO-FABRICACAO','UF_ES-CE-PI-SE-DF-PA', 'UF_MT-MS-PR', 'UF_SC-RS-RO-AC',\n",
    "       'UF_SP-RJ-MG-GO-PE', 'UF_SR', 'TIPO-VEICULO_AUTOMOVEL',\n",
    "       'TIPO-VEICULO_BUS', 'TIPO-VEICULO_CAMINHAO', 'TIPO-VEICULO_CARGA-LEVE',\n",
    "       'TIPO-VEICULO_CARGA-PESADA', 'TIPO-VEICULO_MOTO',\n",
    "       'TIPO-VEICULO_REBOQUE', 'TIPO-VEICULO_miss', 'COR_LAR-ROX-MARR',\n",
    "       'COR_VERM-VERD-AZ-AM-BEG', 'COR_miss', '1_Letra_F-G-N-R-Q-A',\n",
    "       '1_Letra_H-P-J-M', '1_Letra_K-E-B', '1_Letra_U-W-X', '5_Dígito_4-0-3-9',\n",
    "       '5_Dígito_5', '5_Dígito_7-2-6-8', '5_Dígito_C-A-G-B',\n",
    "       '5_Dígito_H-F-E-D-I-J', '5_Dígito_M-R-P-Q-W']] = explicativas[['ANO-FABRICACAO','UF_ES-CE-PI-SE-DF-PA', 'UF_MT-MS-PR', 'UF_SC-RS-RO-AC',\n",
    "       'UF_SP-RJ-MG-GO-PE', 'UF_SR', 'TIPO-VEICULO_AUTOMOVEL',\n",
    "       'TIPO-VEICULO_BUS', 'TIPO-VEICULO_CAMINHAO', 'TIPO-VEICULO_CARGA-LEVE',\n",
    "       'TIPO-VEICULO_CARGA-PESADA', 'TIPO-VEICULO_MOTO',\n",
    "       'TIPO-VEICULO_REBOQUE', 'TIPO-VEICULO_miss', 'COR_LAR-ROX-MARR',\n",
    "       'COR_VERM-VERD-AZ-AM-BEG', 'COR_miss', '1_Letra_F-G-N-R-Q-A',\n",
    "       '1_Letra_H-P-J-M', '1_Letra_K-E-B', '1_Letra_U-W-X', '5_Dígito_4-0-3-9',\n",
    "       '5_Dígito_5', '5_Dígito_7-2-6-8', '5_Dígito_C-A-G-B',\n",
    "       '5_Dígito_H-F-E-D-I-J', '5_Dígito_M-R-P-Q-W']].astype('int64')"
   ]
  },
  {
   "cell_type": "code",
   "execution_count": 155,
   "metadata": {},
   "outputs": [],
   "source": [
    "#Convertendo variáveis para tipo 'float'\n",
    "explicativas[['Conf']] = explicativas[['Conf']].astype('float')"
   ]
  },
  {
   "cell_type": "code",
   "execution_count": 156,
   "metadata": {},
   "outputs": [],
   "source": [
    "#Convertendo variáveis para tipo 'bool'\n",
    "explicativas[['Diurno', 'Mercosul','SemRenavam']] = explicativas[['Diurno', 'Mercosul',\n",
    "       'SemRenavam']].astype('bool')"
   ]
  },
  {
   "cell_type": "code",
   "execution_count": 157,
   "metadata": {},
   "outputs": [
    {
     "data": {
      "text/plain": [
       "Conf                         float64\n",
       "ANO-FABRICACAO                 int64\n",
       "Diurno                          bool\n",
       "Mercosul                        bool\n",
       "SemRenavam                      bool\n",
       "UF_ES-CE-PI-SE-DF-PA           int64\n",
       "UF_MT-MS-PR                    int64\n",
       "UF_SC-RS-RO-AC                 int64\n",
       "UF_SP-RJ-MG-GO-PE              int64\n",
       "UF_SR                          int64\n",
       "TIPO-VEICULO_AUTOMOVEL         int64\n",
       "TIPO-VEICULO_BUS               int64\n",
       "TIPO-VEICULO_CAMINHAO          int64\n",
       "TIPO-VEICULO_CARGA-LEVE        int64\n",
       "TIPO-VEICULO_CARGA-PESADA      int64\n",
       "TIPO-VEICULO_MOTO              int64\n",
       "TIPO-VEICULO_REBOQUE           int64\n",
       "TIPO-VEICULO_miss              int64\n",
       "COR_LAR-ROX-MARR               int64\n",
       "COR_VERM-VERD-AZ-AM-BEG        int64\n",
       "COR_miss                       int64\n",
       "1_Letra_F-G-N-R-Q-A            int64\n",
       "1_Letra_H-P-J-M                int64\n",
       "1_Letra_K-E-B                  int64\n",
       "1_Letra_U-W-X                  int64\n",
       "5_Dígito_4-0-3-9               int64\n",
       "5_Dígito_5                     int64\n",
       "5_Dígito_7-2-6-8               int64\n",
       "5_Dígito_C-A-G-B               int64\n",
       "5_Dígito_H-F-E-D-I-J           int64\n",
       "5_Dígito_M-R-P-Q-W             int64\n",
       "dtype: object"
      ]
     },
     "execution_count": 157,
     "metadata": {},
     "output_type": "execute_result"
    }
   ],
   "source": [
    "explicativas.dtypes"
   ]
  },
  {
   "cell_type": "markdown",
   "metadata": {},
   "source": [
    "## 5.2 Corrigindo desbalanceamento da variável 'Leitura' (variável alvo)"
   ]
  },
  {
   "cell_type": "code",
   "execution_count": 158,
   "metadata": {},
   "outputs": [
    {
     "data": {
      "text/plain": [
       "<AxesSubplot:xlabel='Leitura', ylabel='count'>"
      ]
     },
     "execution_count": 158,
     "metadata": {},
     "output_type": "execute_result"
    },
    {
     "data": {
      "image/png": "[encoded data removed]",
      "text/plain": [
       "<Figure size 432x288 with 1 Axes>"
      ]
     },
     "metadata": {
      "needs_background": "light"
     },
     "output_type": "display_data"
    }
   ],
   "source": [
    "#Contagem de leituras corretas e incorretas\n",
    "sns.countplot(x=alvo)"
   ]
  },
  {
   "cell_type": "code",
   "execution_count": 159,
   "metadata": {},
   "outputs": [
    {
     "data": {
      "text/plain": [
       "978"
      ]
     },
     "execution_count": 159,
     "metadata": {},
     "output_type": "execute_result"
    }
   ],
   "source": [
    "#Somatório de leituras corretas\n",
    "alvo_TP = (alvo == 0).sum()\n",
    "alvo_TP"
   ]
  },
  {
   "cell_type": "code",
   "execution_count": 160,
   "metadata": {},
   "outputs": [
    {
     "data": {
      "text/plain": [
       "220"
      ]
     },
     "execution_count": 160,
     "metadata": {},
     "output_type": "execute_result"
    }
   ],
   "source": [
    "#Somatório de leituras incorretas\n",
    "alvo_FP = (alvo == 1).sum()\n",
    "alvo_FP"
   ]
  },
  {
   "cell_type": "code",
   "execution_count": 161,
   "metadata": {},
   "outputs": [],
   "source": [
    "#oversampling para balancear a variável alvo\n",
    "from imblearn.over_sampling import *\n",
    "smote = SMOTE(sampling_strategy='minority',random_state=101)\n",
    "explicativas_smote, alvo_smote = smote.fit_sample(explicativas, alvo)"
   ]
  },
  {
   "cell_type": "code",
   "execution_count": 162,
   "metadata": {},
   "outputs": [
    {
     "data": {
      "text/plain": [
       "978"
      ]
     },
     "execution_count": 162,
     "metadata": {},
     "output_type": "execute_result"
    }
   ],
   "source": [
    "#Somatório de leituras corretas, após balanceamento\n",
    "alvo_smote_TP = (alvo_smote == 0).sum()\n",
    "alvo_smote_TP"
   ]
  },
  {
   "cell_type": "code",
   "execution_count": 163,
   "metadata": {},
   "outputs": [
    {
     "data": {
      "text/plain": [
       "978"
      ]
     },
     "execution_count": 163,
     "metadata": {},
     "output_type": "execute_result"
    }
   ],
   "source": [
    "#Somatório de leituras incorretas, após balanceamento\n",
    "alvo_smote_FP = (alvo_smote == 1).sum()\n",
    "alvo_smote_FP"
   ]
  },
  {
   "cell_type": "code",
   "execution_count": 164,
   "metadata": {},
   "outputs": [
    {
     "data": {
      "text/plain": [
       "<AxesSubplot:xlabel='Leitura', ylabel='count'>"
      ]
     },
     "execution_count": 164,
     "metadata": {},
     "output_type": "execute_result"
    },
    {
     "data": {
      "image/png": "[encoded data removed]",
      "text/plain": [
       "<Figure size 432x288 with 1 Axes>"
      ]
     },
     "metadata": {
      "needs_background": "light"
     },
     "output_type": "display_data"
    }
   ],
   "source": [
    "#Contagem de leituras corretas e incorretas, após balanceamento\n",
    "sns.countplot(x=alvo_smote)"
   ]
  },
  {
   "cell_type": "markdown",
   "metadata": {},
   "source": [
    "## 5.3 Separação em treino e teste"
   ]
  },
  {
   "cell_type": "code",
   "execution_count": 165,
   "metadata": {},
   "outputs": [],
   "source": [
    "#Separação das bases de treino e teste\n",
    "from sklearn.model_selection import train_test_split \n",
    "x_treino, x_teste, y_treino, y_teste = train_test_split(explicativas_smote,\n",
    "                                                       alvo_smote,\n",
    "                                                       test_size=0.3,\n",
    "                                                       random_state=101)"
   ]
  },
  {
   "cell_type": "code",
   "execution_count": 166,
   "metadata": {},
   "outputs": [
    {
     "data": {
      "text/html": [
       "<div>\n",
       "<style scoped>\n",
       "    .dataframe tbody tr th:only-of-type {\n",
       "        vertical-align: middle;\n",
       "    }\n",
       "\n",
       "    .dataframe tbody tr th {\n",
       "        vertical-align: top;\n",
       "    }\n",
       "\n",
       "    .dataframe thead th {\n",
       "        text-align: right;\n",
       "    }\n",
       "</style>\n",
       "<table border=\"1\" class=\"dataframe\">\n",
       "  <thead>\n",
       "    <tr style=\"text-align: right;\">\n",
       "      <th></th>\n",
       "      <th>Conf</th>\n",
       "      <th>ANO-FABRICACAO</th>\n",
       "      <th>Diurno</th>\n",
       "      <th>Mercosul</th>\n",
       "      <th>SemRenavam</th>\n",
       "      <th>UF_ES-CE-PI-SE-DF-PA</th>\n",
       "      <th>UF_MT-MS-PR</th>\n",
       "      <th>UF_SC-RS-RO-AC</th>\n",
       "      <th>UF_SP-RJ-MG-GO-PE</th>\n",
       "      <th>UF_SR</th>\n",
       "      <th>...</th>\n",
       "      <th>1_Letra_F-G-N-R-Q-A</th>\n",
       "      <th>1_Letra_H-P-J-M</th>\n",
       "      <th>1_Letra_K-E-B</th>\n",
       "      <th>1_Letra_U-W-X</th>\n",
       "      <th>5_Dígito_4-0-3-9</th>\n",
       "      <th>5_Dígito_5</th>\n",
       "      <th>5_Dígito_7-2-6-8</th>\n",
       "      <th>5_Dígito_C-A-G-B</th>\n",
       "      <th>5_Dígito_H-F-E-D-I-J</th>\n",
       "      <th>5_Dígito_M-R-P-Q-W</th>\n",
       "    </tr>\n",
       "  </thead>\n",
       "  <tbody>\n",
       "    <tr>\n",
       "      <th>298</th>\n",
       "      <td>0.941176</td>\n",
       "      <td>2013</td>\n",
       "      <td>True</td>\n",
       "      <td>False</td>\n",
       "      <td>False</td>\n",
       "      <td>0</td>\n",
       "      <td>0</td>\n",
       "      <td>1</td>\n",
       "      <td>0</td>\n",
       "      <td>0</td>\n",
       "      <td>...</td>\n",
       "      <td>0</td>\n",
       "      <td>1</td>\n",
       "      <td>0</td>\n",
       "      <td>0</td>\n",
       "      <td>0</td>\n",
       "      <td>0</td>\n",
       "      <td>1</td>\n",
       "      <td>0</td>\n",
       "      <td>0</td>\n",
       "      <td>0</td>\n",
       "    </tr>\n",
       "    <tr>\n",
       "      <th>574</th>\n",
       "      <td>0.382353</td>\n",
       "      <td>2012</td>\n",
       "      <td>True</td>\n",
       "      <td>False</td>\n",
       "      <td>False</td>\n",
       "      <td>0</td>\n",
       "      <td>1</td>\n",
       "      <td>0</td>\n",
       "      <td>0</td>\n",
       "      <td>0</td>\n",
       "      <td>...</td>\n",
       "      <td>1</td>\n",
       "      <td>0</td>\n",
       "      <td>0</td>\n",
       "      <td>0</td>\n",
       "      <td>1</td>\n",
       "      <td>0</td>\n",
       "      <td>0</td>\n",
       "      <td>0</td>\n",
       "      <td>0</td>\n",
       "      <td>0</td>\n",
       "    </tr>\n",
       "    <tr>\n",
       "      <th>1229</th>\n",
       "      <td>0.411162</td>\n",
       "      <td>2003</td>\n",
       "      <td>True</td>\n",
       "      <td>False</td>\n",
       "      <td>False</td>\n",
       "      <td>0</td>\n",
       "      <td>1</td>\n",
       "      <td>0</td>\n",
       "      <td>0</td>\n",
       "      <td>0</td>\n",
       "      <td>...</td>\n",
       "      <td>1</td>\n",
       "      <td>0</td>\n",
       "      <td>0</td>\n",
       "      <td>0</td>\n",
       "      <td>0</td>\n",
       "      <td>0</td>\n",
       "      <td>0</td>\n",
       "      <td>0</td>\n",
       "      <td>0</td>\n",
       "      <td>0</td>\n",
       "    </tr>\n",
       "    <tr>\n",
       "      <th>1656</th>\n",
       "      <td>0.595287</td>\n",
       "      <td>1993</td>\n",
       "      <td>True</td>\n",
       "      <td>True</td>\n",
       "      <td>False</td>\n",
       "      <td>0</td>\n",
       "      <td>0</td>\n",
       "      <td>0</td>\n",
       "      <td>0</td>\n",
       "      <td>0</td>\n",
       "      <td>...</td>\n",
       "      <td>0</td>\n",
       "      <td>0</td>\n",
       "      <td>0</td>\n",
       "      <td>0</td>\n",
       "      <td>0</td>\n",
       "      <td>0</td>\n",
       "      <td>0</td>\n",
       "      <td>0</td>\n",
       "      <td>1</td>\n",
       "      <td>0</td>\n",
       "    </tr>\n",
       "    <tr>\n",
       "      <th>1622</th>\n",
       "      <td>0.163639</td>\n",
       "      <td>2018</td>\n",
       "      <td>True</td>\n",
       "      <td>False</td>\n",
       "      <td>False</td>\n",
       "      <td>0</td>\n",
       "      <td>1</td>\n",
       "      <td>0</td>\n",
       "      <td>0</td>\n",
       "      <td>0</td>\n",
       "      <td>...</td>\n",
       "      <td>0</td>\n",
       "      <td>0</td>\n",
       "      <td>0</td>\n",
       "      <td>0</td>\n",
       "      <td>0</td>\n",
       "      <td>0</td>\n",
       "      <td>1</td>\n",
       "      <td>0</td>\n",
       "      <td>0</td>\n",
       "      <td>0</td>\n",
       "    </tr>\n",
       "    <tr>\n",
       "      <th>...</th>\n",
       "      <td>...</td>\n",
       "      <td>...</td>\n",
       "      <td>...</td>\n",
       "      <td>...</td>\n",
       "      <td>...</td>\n",
       "      <td>...</td>\n",
       "      <td>...</td>\n",
       "      <td>...</td>\n",
       "      <td>...</td>\n",
       "      <td>...</td>\n",
       "      <td>...</td>\n",
       "      <td>...</td>\n",
       "      <td>...</td>\n",
       "      <td>...</td>\n",
       "      <td>...</td>\n",
       "      <td>...</td>\n",
       "      <td>...</td>\n",
       "      <td>...</td>\n",
       "      <td>...</td>\n",
       "      <td>...</td>\n",
       "      <td>...</td>\n",
       "    </tr>\n",
       "    <tr>\n",
       "      <th>1599</th>\n",
       "      <td>0.406123</td>\n",
       "      <td>2013</td>\n",
       "      <td>False</td>\n",
       "      <td>True</td>\n",
       "      <td>False</td>\n",
       "      <td>0</td>\n",
       "      <td>0</td>\n",
       "      <td>0</td>\n",
       "      <td>0</td>\n",
       "      <td>0</td>\n",
       "      <td>...</td>\n",
       "      <td>0</td>\n",
       "      <td>0</td>\n",
       "      <td>0</td>\n",
       "      <td>0</td>\n",
       "      <td>0</td>\n",
       "      <td>0</td>\n",
       "      <td>0</td>\n",
       "      <td>0</td>\n",
       "      <td>1</td>\n",
       "      <td>0</td>\n",
       "    </tr>\n",
       "    <tr>\n",
       "      <th>1862</th>\n",
       "      <td>0.247645</td>\n",
       "      <td>2005</td>\n",
       "      <td>True</td>\n",
       "      <td>True</td>\n",
       "      <td>False</td>\n",
       "      <td>0</td>\n",
       "      <td>0</td>\n",
       "      <td>0</td>\n",
       "      <td>0</td>\n",
       "      <td>0</td>\n",
       "      <td>...</td>\n",
       "      <td>0</td>\n",
       "      <td>0</td>\n",
       "      <td>0</td>\n",
       "      <td>0</td>\n",
       "      <td>0</td>\n",
       "      <td>0</td>\n",
       "      <td>0</td>\n",
       "      <td>0</td>\n",
       "      <td>1</td>\n",
       "      <td>0</td>\n",
       "    </tr>\n",
       "    <tr>\n",
       "      <th>1361</th>\n",
       "      <td>0.764598</td>\n",
       "      <td>2010</td>\n",
       "      <td>True</td>\n",
       "      <td>False</td>\n",
       "      <td>False</td>\n",
       "      <td>0</td>\n",
       "      <td>0</td>\n",
       "      <td>1</td>\n",
       "      <td>0</td>\n",
       "      <td>0</td>\n",
       "      <td>...</td>\n",
       "      <td>0</td>\n",
       "      <td>0</td>\n",
       "      <td>0</td>\n",
       "      <td>0</td>\n",
       "      <td>0</td>\n",
       "      <td>0</td>\n",
       "      <td>0</td>\n",
       "      <td>0</td>\n",
       "      <td>0</td>\n",
       "      <td>0</td>\n",
       "    </tr>\n",
       "    <tr>\n",
       "      <th>1547</th>\n",
       "      <td>0.329080</td>\n",
       "      <td>2006</td>\n",
       "      <td>True</td>\n",
       "      <td>True</td>\n",
       "      <td>False</td>\n",
       "      <td>0</td>\n",
       "      <td>0</td>\n",
       "      <td>0</td>\n",
       "      <td>1</td>\n",
       "      <td>0</td>\n",
       "      <td>...</td>\n",
       "      <td>0</td>\n",
       "      <td>0</td>\n",
       "      <td>0</td>\n",
       "      <td>0</td>\n",
       "      <td>0</td>\n",
       "      <td>0</td>\n",
       "      <td>0</td>\n",
       "      <td>0</td>\n",
       "      <td>0</td>\n",
       "      <td>0</td>\n",
       "    </tr>\n",
       "    <tr>\n",
       "      <th>863</th>\n",
       "      <td>0.823529</td>\n",
       "      <td>2014</td>\n",
       "      <td>False</td>\n",
       "      <td>False</td>\n",
       "      <td>False</td>\n",
       "      <td>0</td>\n",
       "      <td>1</td>\n",
       "      <td>0</td>\n",
       "      <td>0</td>\n",
       "      <td>0</td>\n",
       "      <td>...</td>\n",
       "      <td>1</td>\n",
       "      <td>0</td>\n",
       "      <td>0</td>\n",
       "      <td>0</td>\n",
       "      <td>0</td>\n",
       "      <td>0</td>\n",
       "      <td>0</td>\n",
       "      <td>0</td>\n",
       "      <td>0</td>\n",
       "      <td>0</td>\n",
       "    </tr>\n",
       "  </tbody>\n",
       "</table>\n",
       "<p>1369 rows × 31 columns</p>\n",
       "</div>"
      ],
      "text/plain": [
       "          Conf  ANO-FABRICACAO  Diurno  Mercosul  SemRenavam  \\\n",
       "298   0.941176            2013    True     False       False   \n",
       "574   0.382353            2012    True     False       False   \n",
       "1229  0.411162            2003    True     False       False   \n",
       "1656  0.595287            1993    True      True       False   \n",
       "1622  0.163639            2018    True     False       False   \n",
       "...        ...             ...     ...       ...         ...   \n",
       "1599  0.406123            2013   False      True       False   \n",
       "1862  0.247645            2005    True      True       False   \n",
       "1361  0.764598            2010    True     False       False   \n",
       "1547  0.329080            2006    True      True       False   \n",
       "863   0.823529            2014   False     False       False   \n",
       "\n",
       "      UF_ES-CE-PI-SE-DF-PA  UF_MT-MS-PR  UF_SC-RS-RO-AC  UF_SP-RJ-MG-GO-PE  \\\n",
       "298                      0            0               1                  0   \n",
       "574                      0            1               0                  0   \n",
       "1229                     0            1               0                  0   \n",
       "1656                     0            0               0                  0   \n",
       "1622                     0            1               0                  0   \n",
       "...                    ...          ...             ...                ...   \n",
       "1599                     0            0               0                  0   \n",
       "1862                     0            0               0                  0   \n",
       "1361                     0            0               1                  0   \n",
       "1547                     0            0               0                  1   \n",
       "863                      0            1               0                  0   \n",
       "\n",
       "      UF_SR  ...  1_Letra_F-G-N-R-Q-A  1_Letra_H-P-J-M  1_Letra_K-E-B  \\\n",
       "298       0  ...                    0                1              0   \n",
       "574       0  ...                    1                0              0   \n",
       "1229      0  ...                    1                0              0   \n",
       "1656      0  ...                    0                0              0   \n",
       "1622      0  ...                    0                0              0   \n",
       "...     ...  ...                  ...              ...            ...   \n",
       "1599      0  ...                    0                0              0   \n",
       "1862      0  ...                    0                0              0   \n",
       "1361      0  ...                    0                0              0   \n",
       "1547      0  ...                    0                0              0   \n",
       "863       0  ...                    1                0              0   \n",
       "\n",
       "      1_Letra_U-W-X  5_Dígito_4-0-3-9  5_Dígito_5  5_Dígito_7-2-6-8  \\\n",
       "298               0                 0           0                 1   \n",
       "574               0                 1           0                 0   \n",
       "1229              0                 0           0                 0   \n",
       "1656              0                 0           0                 0   \n",
       "1622              0                 0           0                 1   \n",
       "...             ...               ...         ...               ...   \n",
       "1599              0                 0           0                 0   \n",
       "1862              0                 0           0                 0   \n",
       "1361              0                 0           0                 0   \n",
       "1547              0                 0           0                 0   \n",
       "863               0                 0           0                 0   \n",
       "\n",
       "      5_Dígito_C-A-G-B  5_Dígito_H-F-E-D-I-J  5_Dígito_M-R-P-Q-W  \n",
       "298                  0                     0                   0  \n",
       "574                  0                     0                   0  \n",
       "1229                 0                     0                   0  \n",
       "1656                 0                     1                   0  \n",
       "1622                 0                     0                   0  \n",
       "...                ...                   ...                 ...  \n",
       "1599                 0                     1                   0  \n",
       "1862                 0                     1                   0  \n",
       "1361                 0                     0                   0  \n",
       "1547                 0                     0                   0  \n",
       "863                  0                     0                   0  \n",
       "\n",
       "[1369 rows x 31 columns]"
      ]
     },
     "execution_count": 166,
     "metadata": {},
     "output_type": "execute_result"
    }
   ],
   "source": [
    "x_treino"
   ]
  },
  {
   "cell_type": "markdown",
   "metadata": {},
   "source": [
    "## 5.4 Processo de seleção das variáveis"
   ]
  },
  {
   "cell_type": "markdown",
   "metadata": {},
   "source": [
    "### 5.4.1 Método chi-quadrado\n",
    "Método do tipo 'Filtro'"
   ]
  },
  {
   "cell_type": "code",
   "execution_count": 167,
   "metadata": {},
   "outputs": [],
   "source": [
    "from sklearn.feature_selection import SelectKBest\n",
    "from sklearn.feature_selection import chi2"
   ]
  },
  {
   "cell_type": "code",
   "execution_count": 168,
   "metadata": {},
   "outputs": [
    {
     "data": {
      "text/plain": [
       "SelectKBest(k=5, score_func=<function chi2 at 0x00000206BD3B83A0>)"
      ]
     },
     "execution_count": 168,
     "metadata": {},
     "output_type": "execute_result"
    }
   ],
   "source": [
    "#Seleção das 5 variáveis mais relevantes\n",
    "chi_selector = SelectKBest(chi2,k=5)\n",
    "chi_selector"
   ]
  },
  {
   "cell_type": "code",
   "execution_count": 169,
   "metadata": {},
   "outputs": [
    {
     "data": {
      "text/plain": [
       "SelectKBest(k=5, score_func=<function chi2 at 0x00000206BD3B83A0>)"
      ]
     },
     "execution_count": 169,
     "metadata": {},
     "output_type": "execute_result"
    }
   ],
   "source": [
    "chi_selector.fit(x_treino,y_treino)"
   ]
  },
  {
   "cell_type": "code",
   "execution_count": 170,
   "metadata": {},
   "outputs": [
    {
     "name": "stdout",
     "output_type": "stream",
     "text": [
      "5  foram as variaveis selecionadas:\n",
      "['UF_MT-MS-PR', 'TIPO-VEICULO_CARGA-LEVE', 'TIPO-VEICULO_CARGA-PESADA', 'TIPO-VEICULO_miss', 'COR_miss']\n"
     ]
    }
   ],
   "source": [
    "chi_support  = chi_selector.get_support()\n",
    "chi_feature = x_treino.loc[:,chi_support].columns.tolist()\n",
    "print(str(len(chi_feature)), ' foram as variaveis selecionadas:')\n",
    "print(chi_feature)"
   ]
  },
  {
   "cell_type": "markdown",
   "metadata": {},
   "source": [
    "### 5.4.2 Recursive Feature Elimination - RFE\n",
    "Método do tipo 'Wrapped'"
   ]
  },
  {
   "cell_type": "code",
   "execution_count": 171,
   "metadata": {},
   "outputs": [
    {
     "name": "stdout",
     "output_type": "stream",
     "text": [
      "5  foram as variaveis selecionadas:\n",
      "['Conf', 'UF_MT-MS-PR', 'TIPO-VEICULO_CAMINHAO', 'TIPO-VEICULO_CARGA-PESADA', '5_Dígito_C-A-G-B']\n"
     ]
    }
   ],
   "source": [
    "from sklearn.feature_selection import RFE\n",
    "from sklearn.linear_model import LogisticRegression \n",
    "rfe_selector = RFE(estimator=LogisticRegression(random_state=101, max_iter=5000),\n",
    "                  step=10, n_features_to_select=5)\n",
    "rfe_selector.fit(x_treino, y_treino)\n",
    "rfe_support = rfe_selector.get_support()\n",
    "rfe_feature = x_treino.loc[:,rfe_support].columns.tolist()\n",
    "\n",
    "print(str(len(rfe_feature)), ' foram as variaveis selecionadas:')\n",
    "print(rfe_feature)"
   ]
  },
  {
   "cell_type": "markdown",
   "metadata": {},
   "source": [
    "### 5.4.3 Método Embedded (embarcado)\n",
    "Este método usa RandomForest para selecionar as variáveis"
   ]
  },
  {
   "cell_type": "code",
   "execution_count": 172,
   "metadata": {},
   "outputs": [
    {
     "name": "stdout",
     "output_type": "stream",
     "text": [
      "5  Foram as variaveis selecionadas:\n",
      "['Conf', 'ANO-FABRICACAO', 'UF_MT-MS-PR', 'TIPO-VEICULO_CARGA-LEVE', 'TIPO-VEICULO_CARGA-PESADA']\n"
     ]
    }
   ],
   "source": [
    "from sklearn.feature_selection import SelectFromModel\n",
    "from sklearn.ensemble import RandomForestClassifier\n",
    "emb_selector = SelectFromModel(RandomForestClassifier(random_state=101))\n",
    "emb_selector.fit(x_treino, y_treino)\n",
    "emb_support = emb_selector.get_support()\n",
    "emb_feature = x_treino.loc[:,emb_support].columns.tolist()\n",
    "print(str(len(emb_feature)), ' Foram as variaveis selecionadas:')\n",
    "print(emb_feature)"
   ]
  },
  {
   "cell_type": "markdown",
   "metadata": {},
   "source": [
    "### 5.4.4 Voting das variáveis selecionadas"
   ]
  },
  {
   "cell_type": "code",
   "execution_count": 173,
   "metadata": {},
   "outputs": [
    {
     "data": {
      "text/html": [
       "<div>\n",
       "<style scoped>\n",
       "    .dataframe tbody tr th:only-of-type {\n",
       "        vertical-align: middle;\n",
       "    }\n",
       "\n",
       "    .dataframe tbody tr th {\n",
       "        vertical-align: top;\n",
       "    }\n",
       "\n",
       "    .dataframe thead th {\n",
       "        text-align: right;\n",
       "    }\n",
       "</style>\n",
       "<table border=\"1\" class=\"dataframe\">\n",
       "  <thead>\n",
       "    <tr style=\"text-align: right;\">\n",
       "      <th></th>\n",
       "      <th>Variáveis</th>\n",
       "      <th>Chi-2</th>\n",
       "      <th>RFE</th>\n",
       "      <th>RandomForest</th>\n",
       "      <th>Total</th>\n",
       "    </tr>\n",
       "  </thead>\n",
       "  <tbody>\n",
       "    <tr>\n",
       "      <th>6</th>\n",
       "      <td>UF_MT-MS-PR</td>\n",
       "      <td>True</td>\n",
       "      <td>True</td>\n",
       "      <td>True</td>\n",
       "      <td>3</td>\n",
       "    </tr>\n",
       "    <tr>\n",
       "      <th>14</th>\n",
       "      <td>TIPO-VEICULO_CARGA-PESADA</td>\n",
       "      <td>True</td>\n",
       "      <td>True</td>\n",
       "      <td>True</td>\n",
       "      <td>3</td>\n",
       "    </tr>\n",
       "    <tr>\n",
       "      <th>13</th>\n",
       "      <td>TIPO-VEICULO_CARGA-LEVE</td>\n",
       "      <td>True</td>\n",
       "      <td>False</td>\n",
       "      <td>True</td>\n",
       "      <td>2</td>\n",
       "    </tr>\n",
       "    <tr>\n",
       "      <th>0</th>\n",
       "      <td>Conf</td>\n",
       "      <td>False</td>\n",
       "      <td>True</td>\n",
       "      <td>True</td>\n",
       "      <td>2</td>\n",
       "    </tr>\n",
       "    <tr>\n",
       "      <th>17</th>\n",
       "      <td>TIPO-VEICULO_miss</td>\n",
       "      <td>True</td>\n",
       "      <td>False</td>\n",
       "      <td>False</td>\n",
       "      <td>1</td>\n",
       "    </tr>\n",
       "    <tr>\n",
       "      <th>12</th>\n",
       "      <td>TIPO-VEICULO_CAMINHAO</td>\n",
       "      <td>False</td>\n",
       "      <td>True</td>\n",
       "      <td>False</td>\n",
       "      <td>1</td>\n",
       "    </tr>\n",
       "    <tr>\n",
       "      <th>20</th>\n",
       "      <td>COR_miss</td>\n",
       "      <td>True</td>\n",
       "      <td>False</td>\n",
       "      <td>False</td>\n",
       "      <td>1</td>\n",
       "    </tr>\n",
       "    <tr>\n",
       "      <th>1</th>\n",
       "      <td>ANO-FABRICACAO</td>\n",
       "      <td>False</td>\n",
       "      <td>False</td>\n",
       "      <td>True</td>\n",
       "      <td>1</td>\n",
       "    </tr>\n",
       "    <tr>\n",
       "      <th>28</th>\n",
       "      <td>5_Dígito_C-A-G-B</td>\n",
       "      <td>False</td>\n",
       "      <td>True</td>\n",
       "      <td>False</td>\n",
       "      <td>1</td>\n",
       "    </tr>\n",
       "    <tr>\n",
       "      <th>9</th>\n",
       "      <td>UF_SR</td>\n",
       "      <td>False</td>\n",
       "      <td>False</td>\n",
       "      <td>False</td>\n",
       "      <td>0</td>\n",
       "    </tr>\n",
       "    <tr>\n",
       "      <th>8</th>\n",
       "      <td>UF_SP-RJ-MG-GO-PE</td>\n",
       "      <td>False</td>\n",
       "      <td>False</td>\n",
       "      <td>False</td>\n",
       "      <td>0</td>\n",
       "    </tr>\n",
       "    <tr>\n",
       "      <th>7</th>\n",
       "      <td>UF_SC-RS-RO-AC</td>\n",
       "      <td>False</td>\n",
       "      <td>False</td>\n",
       "      <td>False</td>\n",
       "      <td>0</td>\n",
       "    </tr>\n",
       "    <tr>\n",
       "      <th>5</th>\n",
       "      <td>UF_ES-CE-PI-SE-DF-PA</td>\n",
       "      <td>False</td>\n",
       "      <td>False</td>\n",
       "      <td>False</td>\n",
       "      <td>0</td>\n",
       "    </tr>\n",
       "    <tr>\n",
       "      <th>16</th>\n",
       "      <td>TIPO-VEICULO_REBOQUE</td>\n",
       "      <td>False</td>\n",
       "      <td>False</td>\n",
       "      <td>False</td>\n",
       "      <td>0</td>\n",
       "    </tr>\n",
       "    <tr>\n",
       "      <th>15</th>\n",
       "      <td>TIPO-VEICULO_MOTO</td>\n",
       "      <td>False</td>\n",
       "      <td>False</td>\n",
       "      <td>False</td>\n",
       "      <td>0</td>\n",
       "    </tr>\n",
       "    <tr>\n",
       "      <th>11</th>\n",
       "      <td>TIPO-VEICULO_BUS</td>\n",
       "      <td>False</td>\n",
       "      <td>False</td>\n",
       "      <td>False</td>\n",
       "      <td>0</td>\n",
       "    </tr>\n",
       "    <tr>\n",
       "      <th>10</th>\n",
       "      <td>TIPO-VEICULO_AUTOMOVEL</td>\n",
       "      <td>False</td>\n",
       "      <td>False</td>\n",
       "      <td>False</td>\n",
       "      <td>0</td>\n",
       "    </tr>\n",
       "    <tr>\n",
       "      <th>4</th>\n",
       "      <td>SemRenavam</td>\n",
       "      <td>False</td>\n",
       "      <td>False</td>\n",
       "      <td>False</td>\n",
       "      <td>0</td>\n",
       "    </tr>\n",
       "    <tr>\n",
       "      <th>3</th>\n",
       "      <td>Mercosul</td>\n",
       "      <td>False</td>\n",
       "      <td>False</td>\n",
       "      <td>False</td>\n",
       "      <td>0</td>\n",
       "    </tr>\n",
       "    <tr>\n",
       "      <th>2</th>\n",
       "      <td>Diurno</td>\n",
       "      <td>False</td>\n",
       "      <td>False</td>\n",
       "      <td>False</td>\n",
       "      <td>0</td>\n",
       "    </tr>\n",
       "    <tr>\n",
       "      <th>19</th>\n",
       "      <td>COR_VERM-VERD-AZ-AM-BEG</td>\n",
       "      <td>False</td>\n",
       "      <td>False</td>\n",
       "      <td>False</td>\n",
       "      <td>0</td>\n",
       "    </tr>\n",
       "    <tr>\n",
       "      <th>18</th>\n",
       "      <td>COR_LAR-ROX-MARR</td>\n",
       "      <td>False</td>\n",
       "      <td>False</td>\n",
       "      <td>False</td>\n",
       "      <td>0</td>\n",
       "    </tr>\n",
       "    <tr>\n",
       "      <th>30</th>\n",
       "      <td>5_Dígito_M-R-P-Q-W</td>\n",
       "      <td>False</td>\n",
       "      <td>False</td>\n",
       "      <td>False</td>\n",
       "      <td>0</td>\n",
       "    </tr>\n",
       "    <tr>\n",
       "      <th>29</th>\n",
       "      <td>5_Dígito_H-F-E-D-I-J</td>\n",
       "      <td>False</td>\n",
       "      <td>False</td>\n",
       "      <td>False</td>\n",
       "      <td>0</td>\n",
       "    </tr>\n",
       "    <tr>\n",
       "      <th>27</th>\n",
       "      <td>5_Dígito_7-2-6-8</td>\n",
       "      <td>False</td>\n",
       "      <td>False</td>\n",
       "      <td>False</td>\n",
       "      <td>0</td>\n",
       "    </tr>\n",
       "    <tr>\n",
       "      <th>26</th>\n",
       "      <td>5_Dígito_5</td>\n",
       "      <td>False</td>\n",
       "      <td>False</td>\n",
       "      <td>False</td>\n",
       "      <td>0</td>\n",
       "    </tr>\n",
       "    <tr>\n",
       "      <th>25</th>\n",
       "      <td>5_Dígito_4-0-3-9</td>\n",
       "      <td>False</td>\n",
       "      <td>False</td>\n",
       "      <td>False</td>\n",
       "      <td>0</td>\n",
       "    </tr>\n",
       "    <tr>\n",
       "      <th>24</th>\n",
       "      <td>1_Letra_U-W-X</td>\n",
       "      <td>False</td>\n",
       "      <td>False</td>\n",
       "      <td>False</td>\n",
       "      <td>0</td>\n",
       "    </tr>\n",
       "    <tr>\n",
       "      <th>23</th>\n",
       "      <td>1_Letra_K-E-B</td>\n",
       "      <td>False</td>\n",
       "      <td>False</td>\n",
       "      <td>False</td>\n",
       "      <td>0</td>\n",
       "    </tr>\n",
       "    <tr>\n",
       "      <th>22</th>\n",
       "      <td>1_Letra_H-P-J-M</td>\n",
       "      <td>False</td>\n",
       "      <td>False</td>\n",
       "      <td>False</td>\n",
       "      <td>0</td>\n",
       "    </tr>\n",
       "    <tr>\n",
       "      <th>21</th>\n",
       "      <td>1_Letra_F-G-N-R-Q-A</td>\n",
       "      <td>False</td>\n",
       "      <td>False</td>\n",
       "      <td>False</td>\n",
       "      <td>0</td>\n",
       "    </tr>\n",
       "  </tbody>\n",
       "</table>\n",
       "</div>"
      ],
      "text/plain": [
       "                    Variáveis  Chi-2    RFE  RandomForest  Total\n",
       "6                 UF_MT-MS-PR   True   True          True      3\n",
       "14  TIPO-VEICULO_CARGA-PESADA   True   True          True      3\n",
       "13    TIPO-VEICULO_CARGA-LEVE   True  False          True      2\n",
       "0                        Conf  False   True          True      2\n",
       "17          TIPO-VEICULO_miss   True  False         False      1\n",
       "12      TIPO-VEICULO_CAMINHAO  False   True         False      1\n",
       "20                   COR_miss   True  False         False      1\n",
       "1              ANO-FABRICACAO  False  False          True      1\n",
       "28           5_Dígito_C-A-G-B  False   True         False      1\n",
       "9                       UF_SR  False  False         False      0\n",
       "8           UF_SP-RJ-MG-GO-PE  False  False         False      0\n",
       "7              UF_SC-RS-RO-AC  False  False         False      0\n",
       "5        UF_ES-CE-PI-SE-DF-PA  False  False         False      0\n",
       "16       TIPO-VEICULO_REBOQUE  False  False         False      0\n",
       "15          TIPO-VEICULO_MOTO  False  False         False      0\n",
       "11           TIPO-VEICULO_BUS  False  False         False      0\n",
       "10     TIPO-VEICULO_AUTOMOVEL  False  False         False      0\n",
       "4                  SemRenavam  False  False         False      0\n",
       "3                    Mercosul  False  False         False      0\n",
       "2                      Diurno  False  False         False      0\n",
       "19    COR_VERM-VERD-AZ-AM-BEG  False  False         False      0\n",
       "18           COR_LAR-ROX-MARR  False  False         False      0\n",
       "30         5_Dígito_M-R-P-Q-W  False  False         False      0\n",
       "29       5_Dígito_H-F-E-D-I-J  False  False         False      0\n",
       "27           5_Dígito_7-2-6-8  False  False         False      0\n",
       "26                 5_Dígito_5  False  False         False      0\n",
       "25           5_Dígito_4-0-3-9  False  False         False      0\n",
       "24              1_Letra_U-W-X  False  False         False      0\n",
       "23              1_Letra_K-E-B  False  False         False      0\n",
       "22            1_Letra_H-P-J-M  False  False         False      0\n",
       "21        1_Letra_F-G-N-R-Q-A  False  False         False      0"
      ]
     },
     "execution_count": 173,
     "metadata": {},
     "output_type": "execute_result"
    }
   ],
   "source": [
    "feature_selection_df = pd.DataFrame({'Variáveis': explicativas_smote.columns, #  cria coluna \"Variaveis' com conteúdo igual nome das colunas\n",
    "                                    'Chi-2':chi_support, #cria coluna 'Chi-2' (qui-quadrado) com array (True significa variavel foi selecionada)\n",
    "                                    'RFE': rfe_support,\n",
    "                                    'RandomForest':emb_support})\n",
    "\n",
    "feature_selection_df['Total'] = np.sum(feature_selection_df, axis=1) # cria coluna 'Total' com somatório dos valores True.\n",
    "                                                            # axis = 1 significa que está somando valores das colunas.\n",
    "feature_selection_df = feature_selection_df.sort_values(['Total','Variáveis'],\n",
    "                                                       ascending=False)\n",
    "feature_selection_df"
   ]
  },
  {
   "cell_type": "markdown",
   "metadata": {},
   "source": [
    "### 5.4.5 Dataset com as variáveis selecionadas\n",
    "Selecionadas as variáveis com pelo menos um voto"
   ]
  },
  {
   "cell_type": "code",
   "execution_count": 174,
   "metadata": {},
   "outputs": [],
   "source": [
    "x_treino_voted = x_treino[['UF_MT-MS-PR', 'TIPO-VEICULO_CARGA-PESADA', 'TIPO-VEICULO_CARGA-LEVE', 'Conf',\n",
    "                           'TIPO-VEICULO_miss', 'TIPO-VEICULO_CAMINHAO', 'COR_miss', 'ANO-FABRICACAO', '5_Dígito_C-A-G-B']]\n",
    "x_teste_voted = x_teste[['UF_MT-MS-PR', 'TIPO-VEICULO_CARGA-PESADA', 'TIPO-VEICULO_CARGA-LEVE', 'Conf',\n",
    "                           'TIPO-VEICULO_miss', 'TIPO-VEICULO_CAMINHAO', 'COR_miss', 'ANO-FABRICACAO', '5_Dígito_C-A-G-B']]"
   ]
  },
  {
   "cell_type": "code",
   "execution_count": 175,
   "metadata": {},
   "outputs": [
    {
     "data": {
      "text/html": [
       "<div>\n",
       "<style scoped>\n",
       "    .dataframe tbody tr th:only-of-type {\n",
       "        vertical-align: middle;\n",
       "    }\n",
       "\n",
       "    .dataframe tbody tr th {\n",
       "        vertical-align: top;\n",
       "    }\n",
       "\n",
       "    .dataframe thead th {\n",
       "        text-align: right;\n",
       "    }\n",
       "</style>\n",
       "<table border=\"1\" class=\"dataframe\">\n",
       "  <thead>\n",
       "    <tr style=\"text-align: right;\">\n",
       "      <th></th>\n",
       "      <th>UF_MT-MS-PR</th>\n",
       "      <th>TIPO-VEICULO_CARGA-PESADA</th>\n",
       "      <th>TIPO-VEICULO_CARGA-LEVE</th>\n",
       "      <th>Conf</th>\n",
       "      <th>TIPO-VEICULO_miss</th>\n",
       "      <th>TIPO-VEICULO_CAMINHAO</th>\n",
       "      <th>COR_miss</th>\n",
       "      <th>ANO-FABRICACAO</th>\n",
       "      <th>5_Dígito_C-A-G-B</th>\n",
       "    </tr>\n",
       "  </thead>\n",
       "  <tbody>\n",
       "    <tr>\n",
       "      <th>298</th>\n",
       "      <td>0</td>\n",
       "      <td>1</td>\n",
       "      <td>0</td>\n",
       "      <td>0.941176</td>\n",
       "      <td>0</td>\n",
       "      <td>0</td>\n",
       "      <td>0</td>\n",
       "      <td>2013</td>\n",
       "      <td>0</td>\n",
       "    </tr>\n",
       "    <tr>\n",
       "      <th>574</th>\n",
       "      <td>1</td>\n",
       "      <td>0</td>\n",
       "      <td>0</td>\n",
       "      <td>0.382353</td>\n",
       "      <td>0</td>\n",
       "      <td>0</td>\n",
       "      <td>0</td>\n",
       "      <td>2012</td>\n",
       "      <td>0</td>\n",
       "    </tr>\n",
       "    <tr>\n",
       "      <th>1229</th>\n",
       "      <td>1</td>\n",
       "      <td>0</td>\n",
       "      <td>0</td>\n",
       "      <td>0.411162</td>\n",
       "      <td>0</td>\n",
       "      <td>0</td>\n",
       "      <td>0</td>\n",
       "      <td>2003</td>\n",
       "      <td>0</td>\n",
       "    </tr>\n",
       "    <tr>\n",
       "      <th>1656</th>\n",
       "      <td>0</td>\n",
       "      <td>0</td>\n",
       "      <td>0</td>\n",
       "      <td>0.595287</td>\n",
       "      <td>0</td>\n",
       "      <td>0</td>\n",
       "      <td>0</td>\n",
       "      <td>1993</td>\n",
       "      <td>0</td>\n",
       "    </tr>\n",
       "    <tr>\n",
       "      <th>1622</th>\n",
       "      <td>1</td>\n",
       "      <td>0</td>\n",
       "      <td>1</td>\n",
       "      <td>0.163639</td>\n",
       "      <td>0</td>\n",
       "      <td>0</td>\n",
       "      <td>0</td>\n",
       "      <td>2018</td>\n",
       "      <td>0</td>\n",
       "    </tr>\n",
       "  </tbody>\n",
       "</table>\n",
       "</div>"
      ],
      "text/plain": [
       "      UF_MT-MS-PR  TIPO-VEICULO_CARGA-PESADA  TIPO-VEICULO_CARGA-LEVE  \\\n",
       "298             0                          1                        0   \n",
       "574             1                          0                        0   \n",
       "1229            1                          0                        0   \n",
       "1656            0                          0                        0   \n",
       "1622            1                          0                        1   \n",
       "\n",
       "          Conf  TIPO-VEICULO_miss  TIPO-VEICULO_CAMINHAO  COR_miss  \\\n",
       "298   0.941176                  0                      0         0   \n",
       "574   0.382353                  0                      0         0   \n",
       "1229  0.411162                  0                      0         0   \n",
       "1656  0.595287                  0                      0         0   \n",
       "1622  0.163639                  0                      0         0   \n",
       "\n",
       "      ANO-FABRICACAO  5_Dígito_C-A-G-B  \n",
       "298             2013                 0  \n",
       "574             2012                 0  \n",
       "1229            2003                 0  \n",
       "1656            1993                 0  \n",
       "1622            2018                 0  "
      ]
     },
     "execution_count": 175,
     "metadata": {},
     "output_type": "execute_result"
    }
   ],
   "source": [
    "x_treino_voted.head()"
   ]
  },
  {
   "cell_type": "code",
   "execution_count": 176,
   "metadata": {},
   "outputs": [
    {
     "data": {
      "text/html": [
       "<div>\n",
       "<style scoped>\n",
       "    .dataframe tbody tr th:only-of-type {\n",
       "        vertical-align: middle;\n",
       "    }\n",
       "\n",
       "    .dataframe tbody tr th {\n",
       "        vertical-align: top;\n",
       "    }\n",
       "\n",
       "    .dataframe thead th {\n",
       "        text-align: right;\n",
       "    }\n",
       "</style>\n",
       "<table border=\"1\" class=\"dataframe\">\n",
       "  <thead>\n",
       "    <tr style=\"text-align: right;\">\n",
       "      <th></th>\n",
       "      <th>UF_MT-MS-PR</th>\n",
       "      <th>TIPO-VEICULO_CARGA-PESADA</th>\n",
       "      <th>TIPO-VEICULO_CARGA-LEVE</th>\n",
       "      <th>Conf</th>\n",
       "      <th>TIPO-VEICULO_miss</th>\n",
       "      <th>TIPO-VEICULO_CAMINHAO</th>\n",
       "      <th>COR_miss</th>\n",
       "      <th>ANO-FABRICACAO</th>\n",
       "      <th>5_Dígito_C-A-G-B</th>\n",
       "    </tr>\n",
       "  </thead>\n",
       "  <tbody>\n",
       "    <tr>\n",
       "      <th>172</th>\n",
       "      <td>1</td>\n",
       "      <td>0</td>\n",
       "      <td>1</td>\n",
       "      <td>0.823529</td>\n",
       "      <td>0</td>\n",
       "      <td>0</td>\n",
       "      <td>0</td>\n",
       "      <td>2021</td>\n",
       "      <td>0</td>\n",
       "    </tr>\n",
       "    <tr>\n",
       "      <th>1808</th>\n",
       "      <td>0</td>\n",
       "      <td>0</td>\n",
       "      <td>0</td>\n",
       "      <td>0.154952</td>\n",
       "      <td>0</td>\n",
       "      <td>0</td>\n",
       "      <td>0</td>\n",
       "      <td>2011</td>\n",
       "      <td>0</td>\n",
       "    </tr>\n",
       "    <tr>\n",
       "      <th>379</th>\n",
       "      <td>0</td>\n",
       "      <td>1</td>\n",
       "      <td>0</td>\n",
       "      <td>0.205882</td>\n",
       "      <td>0</td>\n",
       "      <td>0</td>\n",
       "      <td>0</td>\n",
       "      <td>2020</td>\n",
       "      <td>1</td>\n",
       "    </tr>\n",
       "    <tr>\n",
       "      <th>321</th>\n",
       "      <td>1</td>\n",
       "      <td>0</td>\n",
       "      <td>0</td>\n",
       "      <td>0.911765</td>\n",
       "      <td>0</td>\n",
       "      <td>0</td>\n",
       "      <td>0</td>\n",
       "      <td>2005</td>\n",
       "      <td>0</td>\n",
       "    </tr>\n",
       "    <tr>\n",
       "      <th>122</th>\n",
       "      <td>1</td>\n",
       "      <td>0</td>\n",
       "      <td>1</td>\n",
       "      <td>1.000000</td>\n",
       "      <td>0</td>\n",
       "      <td>0</td>\n",
       "      <td>0</td>\n",
       "      <td>2015</td>\n",
       "      <td>0</td>\n",
       "    </tr>\n",
       "  </tbody>\n",
       "</table>\n",
       "</div>"
      ],
      "text/plain": [
       "      UF_MT-MS-PR  TIPO-VEICULO_CARGA-PESADA  TIPO-VEICULO_CARGA-LEVE  \\\n",
       "172             1                          0                        1   \n",
       "1808            0                          0                        0   \n",
       "379             0                          1                        0   \n",
       "321             1                          0                        0   \n",
       "122             1                          0                        1   \n",
       "\n",
       "          Conf  TIPO-VEICULO_miss  TIPO-VEICULO_CAMINHAO  COR_miss  \\\n",
       "172   0.823529                  0                      0         0   \n",
       "1808  0.154952                  0                      0         0   \n",
       "379   0.205882                  0                      0         0   \n",
       "321   0.911765                  0                      0         0   \n",
       "122   1.000000                  0                      0         0   \n",
       "\n",
       "      ANO-FABRICACAO  5_Dígito_C-A-G-B  \n",
       "172             2021                 0  \n",
       "1808            2011                 0  \n",
       "379             2020                 1  \n",
       "321             2005                 0  \n",
       "122             2015                 0  "
      ]
     },
     "execution_count": 176,
     "metadata": {},
     "output_type": "execute_result"
    }
   ],
   "source": [
    "x_teste_voted.head()"
   ]
  },
  {
   "cell_type": "code",
   "execution_count": 177,
   "metadata": {},
   "outputs": [
    {
     "name": "stdout",
     "output_type": "stream",
     "text": [
      "<class 'pandas.core.frame.DataFrame'>\n",
      "Int64Index: 587 entries, 172 to 704\n",
      "Data columns (total 9 columns):\n",
      " #   Column                     Non-Null Count  Dtype  \n",
      "---  ------                     --------------  -----  \n",
      " 0   UF_MT-MS-PR                587 non-null    int64  \n",
      " 1   TIPO-VEICULO_CARGA-PESADA  587 non-null    int64  \n",
      " 2   TIPO-VEICULO_CARGA-LEVE    587 non-null    int64  \n",
      " 3   Conf                       587 non-null    float64\n",
      " 4   TIPO-VEICULO_miss          587 non-null    int64  \n",
      " 5   TIPO-VEICULO_CAMINHAO      587 non-null    int64  \n",
      " 6   COR_miss                   587 non-null    int64  \n",
      " 7   ANO-FABRICACAO             587 non-null    int64  \n",
      " 8   5_Dígito_C-A-G-B           587 non-null    int64  \n",
      "dtypes: float64(1), int64(8)\n",
      "memory usage: 45.9 KB\n"
     ]
    }
   ],
   "source": [
    "#Dataset com as variáveis selecionadas\n",
    "x_teste_voted.info()"
   ]
  },
  {
   "cell_type": "markdown",
   "metadata": {},
   "source": [
    "## 5.5 Construção de modelos"
   ]
  },
  {
   "cell_type": "code",
   "execution_count": 178,
   "metadata": {},
   "outputs": [],
   "source": [
    "#Módulo de tuning\n",
    "from sklearn.model_selection import GridSearchCV\n",
    "from sklearn.metrics import *"
   ]
  },
  {
   "cell_type": "code",
   "execution_count": 179,
   "metadata": {},
   "outputs": [],
   "source": [
    "#Importação da segunda base de teste - XTESTE2 e YTESTE2\n",
    "XTESTE2 = pd.read_excel('X_TESTE_VOTED.xlsx')\n",
    "YTESTE2 = pd.read_excel('Y_TESTE.xlsx')"
   ]
  },
  {
   "cell_type": "code",
   "execution_count": 180,
   "metadata": {},
   "outputs": [
    {
     "name": "stdout",
     "output_type": "stream",
     "text": [
      "<class 'pandas.core.frame.DataFrame'>\n",
      "RangeIndex: 492 entries, 0 to 491\n",
      "Data columns (total 9 columns):\n",
      " #   Column                     Non-Null Count  Dtype  \n",
      "---  ------                     --------------  -----  \n",
      " 0   UF_MT-MS-PR                492 non-null    int64  \n",
      " 1   TIPO-VEICULO_CARGA-PESADA  492 non-null    int64  \n",
      " 2   TIPO-VEICULO_CARGA-LEVE    492 non-null    int64  \n",
      " 3   Conf                       492 non-null    float64\n",
      " 4   TIPO-VEICULO_miss          492 non-null    int64  \n",
      " 5   TIPO-VEICULO_CAMINHAO      492 non-null    int64  \n",
      " 6   COR_miss                   492 non-null    int64  \n",
      " 7   ANO-FABRICACAO             492 non-null    float64\n",
      " 8   5_Dígito_C-A-G-B           492 non-null    int64  \n",
      "dtypes: float64(2), int64(7)\n",
      "memory usage: 34.7 KB\n"
     ]
    }
   ],
   "source": [
    "#Segundo dataset de testes\n",
    "XTESTE2.info()"
   ]
  },
  {
   "cell_type": "markdown",
   "metadata": {},
   "source": [
    "### 5.5.1 Logistic Regression"
   ]
  },
  {
   "cell_type": "code",
   "execution_count": 181,
   "metadata": {},
   "outputs": [],
   "source": [
    "#Dicionário de hiperparâmetros\n",
    "lr_dict = {'C': np.logspace(-3,3,7),\n",
    "           'penalty':['l2'],\n",
    "           'random_state':[101]}"
   ]
  },
  {
   "cell_type": "code",
   "execution_count": 182,
   "metadata": {},
   "outputs": [],
   "source": [
    "#Importação do modelo Logistic Regression\n",
    "from sklearn.linear_model import LogisticRegression\n",
    "lr = LogisticRegression(random_state=101, max_iter=500)"
   ]
  },
  {
   "cell_type": "code",
   "execution_count": 183,
   "metadata": {},
   "outputs": [],
   "source": [
    "#Criação do grid com GridSearchCV\n",
    "lr_grid = GridSearchCV(estimator=lr,       # estimador (logistic regression)\n",
    "                      param_grid=lr_dict,  # dicionário com parâmetros\n",
    "                      scoring='precision', # métrica de validação (precision)\n",
    "                      cv=10)"
   ]
  },
  {
   "cell_type": "code",
   "execution_count": 184,
   "metadata": {},
   "outputs": [
    {
     "data": {
      "text/plain": [
       "GridSearchCV(cv=10,\n",
       "             estimator=LogisticRegression(max_iter=500, random_state=101),\n",
       "             param_grid={'C': array([1.e-03, 1.e-02, 1.e-01, 1.e+00, 1.e+01, 1.e+02, 1.e+03]),\n",
       "                         'penalty': ['l2'], 'random_state': [101]},\n",
       "             scoring='precision')"
      ]
     },
     "execution_count": 184,
     "metadata": {},
     "output_type": "execute_result"
    }
   ],
   "source": [
    "#Treinamento do modelo\n",
    "lr_grid.fit(x_treino_voted, y_treino)"
   ]
  },
  {
   "cell_type": "code",
   "execution_count": 185,
   "metadata": {},
   "outputs": [
    {
     "data": {
      "text/plain": [
       "{'C': 100.0, 'penalty': 'l2', 'random_state': 101}"
      ]
     },
     "execution_count": 185,
     "metadata": {},
     "output_type": "execute_result"
    }
   ],
   "source": [
    "#Melhores parâmetros\n",
    "lr_grid.best_params_"
   ]
  },
  {
   "cell_type": "code",
   "execution_count": 186,
   "metadata": {},
   "outputs": [
    {
     "data": {
      "text/plain": [
       "0.8734243481974646"
      ]
     },
     "execution_count": 186,
     "metadata": {},
     "output_type": "execute_result"
    }
   ],
   "source": [
    "#Melhor score (precision)\n",
    "lr_grid.best_score_"
   ]
  },
  {
   "cell_type": "code",
   "execution_count": 187,
   "metadata": {},
   "outputs": [],
   "source": [
    "#Aplicando modelo na base de teste\n",
    "predictions_lr = lr_grid.predict(x_teste_voted)"
   ]
  },
  {
   "cell_type": "code",
   "execution_count": 188,
   "metadata": {},
   "outputs": [
    {
     "name": "stdout",
     "output_type": "stream",
     "text": [
      "              precision    recall  f1-score   support\n",
      "\n",
      "           0       0.88      0.91      0.89       296\n",
      "           1       0.90      0.87      0.89       291\n",
      "\n",
      "    accuracy                           0.89       587\n",
      "   macro avg       0.89      0.89      0.89       587\n",
      "weighted avg       0.89      0.89      0.89       587\n",
      "\n"
     ]
    }
   ],
   "source": [
    "#Classification Report\n",
    "print(classification_report(y_teste, predictions_lr))"
   ]
  },
  {
   "cell_type": "code",
   "execution_count": 189,
   "metadata": {},
   "outputs": [
    {
     "data": {
      "text/plain": [
       "array([[269,  27],\n",
       "       [ 37, 254]], dtype=int64)"
      ]
     },
     "execution_count": 189,
     "metadata": {},
     "output_type": "execute_result"
    }
   ],
   "source": [
    "#Matriz de Confusão\n",
    "confusion_matrix(y_true=y_teste, y_pred=predictions_lr)"
   ]
  },
  {
   "cell_type": "code",
   "execution_count": 190,
   "metadata": {},
   "outputs": [],
   "source": [
    "#Aplicando modelo sobre a segunda base de teste - XTESTE2\n",
    "predictions_lr_XTESTE2 = lr_grid.predict(XTESTE2)"
   ]
  },
  {
   "cell_type": "code",
   "execution_count": 191,
   "metadata": {},
   "outputs": [
    {
     "name": "stdout",
     "output_type": "stream",
     "text": [
      "              precision    recall  f1-score   support\n",
      "\n",
      "           0       0.89      0.83      0.86       246\n",
      "           1       0.84      0.90      0.87       246\n",
      "\n",
      "    accuracy                           0.87       492\n",
      "   macro avg       0.87      0.87      0.87       492\n",
      "weighted avg       0.87      0.87      0.87       492\n",
      "\n"
     ]
    }
   ],
   "source": [
    "#Classification Report - XTESTE2\n",
    "print(classification_report(YTESTE2, predictions_lr_XTESTE2))"
   ]
  },
  {
   "cell_type": "code",
   "execution_count": 192,
   "metadata": {},
   "outputs": [
    {
     "data": {
      "text/plain": [
       "array([[204,  42],\n",
       "       [ 24, 222]], dtype=int64)"
      ]
     },
     "execution_count": 192,
     "metadata": {},
     "output_type": "execute_result"
    }
   ],
   "source": [
    "#Matriz de Confusão - XTESTE2\n",
    "confusion_matrix(y_true=YTESTE2, y_pred=predictions_lr_XTESTE2)"
   ]
  },
  {
   "cell_type": "markdown",
   "metadata": {},
   "source": [
    "### 5.5.2 Decision Tree"
   ]
  },
  {
   "cell_type": "code",
   "execution_count": 193,
   "metadata": {},
   "outputs": [],
   "source": [
    "#Dicionário de hiperparâmetros\n",
    "dt_dict = {'criterion':['gini','entropy'],\n",
    "        'min_samples_leaf':[1,2,3,4,5,10],\n",
    "        'random_state':[101]}"
   ]
  },
  {
   "cell_type": "code",
   "execution_count": 194,
   "metadata": {},
   "outputs": [],
   "source": [
    "#Importação do classificador Decision Tree\n",
    "from sklearn.tree import DecisionTreeClassifier\n",
    "dt = DecisionTreeClassifier(random_state=101)"
   ]
  },
  {
   "cell_type": "code",
   "execution_count": 195,
   "metadata": {},
   "outputs": [],
   "source": [
    "#Criação do grid com GridSearchCV\n",
    "dt_grid = GridSearchCV(estimator=dt,        #estimador (Decision Tree)\n",
    "                      param_grid=dt_dict,   #dicionário de parâmetros\n",
    "                      scoring='precision',  #métrica de validação (precision)\n",
    "                      cv=10)"
   ]
  },
  {
   "cell_type": "code",
   "execution_count": 196,
   "metadata": {},
   "outputs": [
    {
     "data": {
      "text/plain": [
       "GridSearchCV(cv=10, estimator=DecisionTreeClassifier(random_state=101),\n",
       "             param_grid={'criterion': ['gini', 'entropy'],\n",
       "                         'min_samples_leaf': [1, 2, 3, 4, 5, 10],\n",
       "                         'random_state': [101]},\n",
       "             scoring='precision')"
      ]
     },
     "execution_count": 196,
     "metadata": {},
     "output_type": "execute_result"
    }
   ],
   "source": [
    "#Treinamento do modelo\n",
    "dt_grid.fit(x_treino_voted, y_treino)"
   ]
  },
  {
   "cell_type": "code",
   "execution_count": 197,
   "metadata": {},
   "outputs": [
    {
     "data": {
      "text/plain": [
       "{'criterion': 'entropy', 'min_samples_leaf': 2, 'random_state': 101}"
      ]
     },
     "execution_count": 197,
     "metadata": {},
     "output_type": "execute_result"
    }
   ],
   "source": [
    "#Melhores parâmetros\n",
    "dt_grid.best_params_"
   ]
  },
  {
   "cell_type": "code",
   "execution_count": 198,
   "metadata": {},
   "outputs": [
    {
     "data": {
      "text/plain": [
       "0.8964415176975257"
      ]
     },
     "execution_count": 198,
     "metadata": {},
     "output_type": "execute_result"
    }
   ],
   "source": [
    "#Melhor resultado (precision)\n",
    "dt_grid.best_score_"
   ]
  },
  {
   "cell_type": "code",
   "execution_count": 199,
   "metadata": {},
   "outputs": [],
   "source": [
    "#Aplicando modelo na base de teste\n",
    "predictions_dt = dt_grid.predict(x_teste_voted)"
   ]
  },
  {
   "cell_type": "code",
   "execution_count": 200,
   "metadata": {},
   "outputs": [
    {
     "name": "stdout",
     "output_type": "stream",
     "text": [
      "              precision    recall  f1-score   support\n",
      "\n",
      "           0       0.85      0.93      0.89       296\n",
      "           1       0.92      0.83      0.87       291\n",
      "\n",
      "    accuracy                           0.88       587\n",
      "   macro avg       0.88      0.88      0.88       587\n",
      "weighted avg       0.88      0.88      0.88       587\n",
      "\n"
     ]
    }
   ],
   "source": [
    "#Classification Report\n",
    "print(classification_report(y_teste,predictions_dt))"
   ]
  },
  {
   "cell_type": "code",
   "execution_count": 201,
   "metadata": {},
   "outputs": [
    {
     "data": {
      "text/plain": [
       "array([[275,  21],\n",
       "       [ 49, 242]], dtype=int64)"
      ]
     },
     "execution_count": 201,
     "metadata": {},
     "output_type": "execute_result"
    }
   ],
   "source": [
    "#Matriz de Confusão\n",
    "confusion_matrix(y_teste,predictions_dt)"
   ]
  },
  {
   "cell_type": "code",
   "execution_count": 202,
   "metadata": {},
   "outputs": [],
   "source": [
    "#Aplicando modelo sobre a segunda base de teste - XTESTE2\n",
    "predictions_dt_XTESTE2 = dt_grid.predict(XTESTE2)"
   ]
  },
  {
   "cell_type": "code",
   "execution_count": 203,
   "metadata": {},
   "outputs": [
    {
     "name": "stdout",
     "output_type": "stream",
     "text": [
      "              precision    recall  f1-score   support\n",
      "\n",
      "           0       0.85      0.86      0.86       246\n",
      "           1       0.86      0.85      0.86       246\n",
      "\n",
      "    accuracy                           0.86       492\n",
      "   macro avg       0.86      0.86      0.86       492\n",
      "weighted avg       0.86      0.86      0.86       492\n",
      "\n"
     ]
    }
   ],
   "source": [
    "#Classification Report - XTESTE2\n",
    "print(classification_report(YTESTE2, predictions_dt_XTESTE2))               "
   ]
  },
  {
   "cell_type": "code",
   "execution_count": 204,
   "metadata": {},
   "outputs": [
    {
     "data": {
      "text/plain": [
       "array([[211,  35],\n",
       "       [ 36, 210]], dtype=int64)"
      ]
     },
     "execution_count": 204,
     "metadata": {},
     "output_type": "execute_result"
    }
   ],
   "source": [
    "#Matriz de Confusão - XTESTE2\n",
    "confusion_matrix(y_true=YTESTE2, y_pred=predictions_dt_XTESTE2)"
   ]
  },
  {
   "cell_type": "markdown",
   "metadata": {},
   "source": [
    "### 5.5.3 Random Forest"
   ]
  },
  {
   "cell_type": "code",
   "execution_count": 205,
   "metadata": {},
   "outputs": [],
   "source": [
    "#Construção do dicionário de hiperparâmnetros\n",
    "rf_dict = {'n_estimators':[50,100,200,300,800,1000],    # número de estimadores\n",
    "            'criterion':['gini', 'entropy'],            # critérios para controle da qualidade das amostras\n",
    "            'bootstrap':[False, True],                  # amostragem com e sem reposição\n",
    "            'random_state': [101]}"
   ]
  },
  {
   "cell_type": "code",
   "execution_count": 206,
   "metadata": {},
   "outputs": [
    {
     "data": {
      "text/plain": [
       "{'n_estimators': [50, 100, 200, 300, 800, 1000],\n",
       " 'criterion': ['gini', 'entropy'],\n",
       " 'bootstrap': [False, True],\n",
       " 'random_state': [101]}"
      ]
     },
     "execution_count": 206,
     "metadata": {},
     "output_type": "execute_result"
    }
   ],
   "source": [
    "#Visualização do dicionário de hiperparâmnetros\n",
    "rf_dict"
   ]
  },
  {
   "cell_type": "code",
   "execution_count": 207,
   "metadata": {},
   "outputs": [],
   "source": [
    "#Importação do classificador Random Forest\n",
    "from sklearn.ensemble import RandomForestClassifier\n",
    "rf = RandomForestClassifier(random_state=101)"
   ]
  },
  {
   "cell_type": "code",
   "execution_count": 208,
   "metadata": {},
   "outputs": [],
   "source": [
    "#Criação do grid utilizando GridSearchCV\n",
    "rf_grid = GridSearchCV(estimator=rf,       # estimador a ser utilizado (Random Forest)\n",
    "                      param_grid=rf_dict,  # dicionario com parâmetros\n",
    "                      scoring='precision', # métrica de validação: precision\n",
    "                      cv=10)"
   ]
  },
  {
   "cell_type": "code",
   "execution_count": 209,
   "metadata": {},
   "outputs": [
    {
     "data": {
      "text/plain": [
       "GridSearchCV(cv=10, estimator=RandomForestClassifier(random_state=101),\n",
       "             param_grid={'bootstrap': [False, True],\n",
       "                         'criterion': ['gini', 'entropy'],\n",
       "                         'n_estimators': [50, 100, 200, 300, 800, 1000],\n",
       "                         'random_state': [101]},\n",
       "             scoring='precision')"
      ]
     },
     "execution_count": 209,
     "metadata": {},
     "output_type": "execute_result"
    }
   ],
   "source": [
    "#Treinamdo modelo Random Forest\n",
    "rf_grid.fit(x_treino_voted, y_treino)"
   ]
  },
  {
   "cell_type": "code",
   "execution_count": 210,
   "metadata": {},
   "outputs": [
    {
     "data": {
      "text/plain": [
       "{'bootstrap': True,\n",
       " 'criterion': 'entropy',\n",
       " 'n_estimators': 50,\n",
       " 'random_state': 101}"
      ]
     },
     "execution_count": 210,
     "metadata": {},
     "output_type": "execute_result"
    }
   ],
   "source": [
    "#Melhores parâmetros\n",
    "rf_grid.best_params_"
   ]
  },
  {
   "cell_type": "code",
   "execution_count": 211,
   "metadata": {},
   "outputs": [
    {
     "data": {
      "text/plain": [
       "0.8990965387319985"
      ]
     },
     "execution_count": 211,
     "metadata": {},
     "output_type": "execute_result"
    }
   ],
   "source": [
    "#Melhor score (precision)\n",
    "rf_grid.best_score_"
   ]
  },
  {
   "cell_type": "code",
   "execution_count": 212,
   "metadata": {},
   "outputs": [],
   "source": [
    "#Aplicando o modelo sobre a base de teste\n",
    "predictions_rf = rf_grid.predict(x_teste_voted)"
   ]
  },
  {
   "cell_type": "code",
   "execution_count": 213,
   "metadata": {},
   "outputs": [
    {
     "name": "stdout",
     "output_type": "stream",
     "text": [
      "              precision    recall  f1-score   support\n",
      "\n",
      "           0       0.88      0.92      0.90       296\n",
      "           1       0.92      0.87      0.89       291\n",
      "\n",
      "    accuracy                           0.90       587\n",
      "   macro avg       0.90      0.90      0.90       587\n",
      "weighted avg       0.90      0.90      0.90       587\n",
      "\n"
     ]
    }
   ],
   "source": [
    "#Classification Report\n",
    "print(classification_report(y_teste, predictions_rf))"
   ]
  },
  {
   "cell_type": "code",
   "execution_count": 214,
   "metadata": {},
   "outputs": [
    {
     "data": {
      "text/plain": [
       "array([[273,  23],\n",
       "       [ 37, 254]], dtype=int64)"
      ]
     },
     "execution_count": 214,
     "metadata": {},
     "output_type": "execute_result"
    }
   ],
   "source": [
    "#Matriz de confusão\n",
    "confusion_matrix(y_true=y_teste, y_pred=predictions_rf)"
   ]
  },
  {
   "cell_type": "code",
   "execution_count": 215,
   "metadata": {},
   "outputs": [],
   "source": [
    "#Aplicando modelo sobre a segunda base de teste - XTESTE2\n",
    "predictions_rf_XTESTE2 = rf_grid.predict(XTESTE2)"
   ]
  },
  {
   "cell_type": "code",
   "execution_count": 216,
   "metadata": {},
   "outputs": [
    {
     "name": "stdout",
     "output_type": "stream",
     "text": [
      "              precision    recall  f1-score   support\n",
      "\n",
      "           0       0.85      0.83      0.84       246\n",
      "           1       0.84      0.85      0.84       246\n",
      "\n",
      "    accuracy                           0.84       492\n",
      "   macro avg       0.84      0.84      0.84       492\n",
      "weighted avg       0.84      0.84      0.84       492\n",
      "\n"
     ]
    }
   ],
   "source": [
    "#Classification Report - XTESTE2\n",
    "print(classification_report(YTESTE2, predictions_rf_XTESTE2))"
   ]
  },
  {
   "cell_type": "code",
   "execution_count": 217,
   "metadata": {},
   "outputs": [
    {
     "data": {
      "text/plain": [
       "array([[205,  41],\n",
       "       [ 37, 209]], dtype=int64)"
      ]
     },
     "execution_count": 217,
     "metadata": {},
     "output_type": "execute_result"
    }
   ],
   "source": [
    "#Matriz de Confusão - XTESTE2\n",
    "confusion_matrix(y_true=YTESTE2, y_pred=predictions_rf_XTESTE2)"
   ]
  },
  {
   "cell_type": "markdown",
   "metadata": {},
   "source": [
    "### 5.5.4 ADA Boost "
   ]
  },
  {
   "cell_type": "code",
   "execution_count": 218,
   "metadata": {},
   "outputs": [],
   "source": [
    "#Construção do dicionário de hiperparâmnetros\n",
    "ada_dict ={'n_estimators':[50,250,500,750,1000],\n",
    "            'learning_rate':[0.5,1,1.5],\n",
    "            'algorithm':['SAMME','SAMME.R'],\n",
    "            'random_state':[101]}"
   ]
  },
  {
   "cell_type": "code",
   "execution_count": 219,
   "metadata": {},
   "outputs": [
    {
     "data": {
      "text/plain": [
       "{'n_estimators': [50, 250, 500, 750, 1000],\n",
       " 'learning_rate': [0.5, 1, 1.5],\n",
       " 'algorithm': ['SAMME', 'SAMME.R'],\n",
       " 'random_state': [101]}"
      ]
     },
     "execution_count": 219,
     "metadata": {},
     "output_type": "execute_result"
    }
   ],
   "source": [
    "#Visualizando dicionário de hiperparâmetros\n",
    "ada_dict"
   ]
  },
  {
   "cell_type": "code",
   "execution_count": 220,
   "metadata": {},
   "outputs": [],
   "source": [
    "#Importação do classificador AdaBoost\n",
    "from sklearn.ensemble import AdaBoostClassifier\n",
    "ada = AdaBoostClassifier(random_state=101)"
   ]
  },
  {
   "cell_type": "code",
   "execution_count": 221,
   "metadata": {},
   "outputs": [],
   "source": [
    "#Criação do grid utilizando GridSearchCV\n",
    "ada_grid = GridSearchCV(estimator=ada,       # estimador a ser utilizado (Ada Boost)\n",
    "                      param_grid=ada_dict,   # dicionario com parâmetros\n",
    "                      scoring='precision',   # métrica de validação: precision\n",
    "                      cv=10)"
   ]
  },
  {
   "cell_type": "code",
   "execution_count": 222,
   "metadata": {},
   "outputs": [
    {
     "data": {
      "text/plain": [
       "GridSearchCV(cv=10, estimator=AdaBoostClassifier(random_state=101),\n",
       "             param_grid={'algorithm': ['SAMME', 'SAMME.R'],\n",
       "                         'learning_rate': [0.5, 1, 1.5],\n",
       "                         'n_estimators': [50, 250, 500, 750, 1000],\n",
       "                         'random_state': [101]},\n",
       "             scoring='precision')"
      ]
     },
     "execution_count": 222,
     "metadata": {},
     "output_type": "execute_result"
    }
   ],
   "source": [
    "#Treinamdo modelo AdaBoost\n",
    "ada_grid.fit(x_treino_voted, y_treino)"
   ]
  },
  {
   "cell_type": "code",
   "execution_count": 223,
   "metadata": {},
   "outputs": [
    {
     "data": {
      "text/plain": [
       "{'algorithm': 'SAMME.R',\n",
       " 'learning_rate': 1.5,\n",
       " 'n_estimators': 1000,\n",
       " 'random_state': 101}"
      ]
     },
     "execution_count": 223,
     "metadata": {},
     "output_type": "execute_result"
    }
   ],
   "source": [
    "#Visualizando melhores parâmetros do grid\n",
    "ada_grid.best_params_"
   ]
  },
  {
   "cell_type": "code",
   "execution_count": 224,
   "metadata": {},
   "outputs": [
    {
     "data": {
      "text/plain": [
       "0.9208769855701042"
      ]
     },
     "execution_count": 224,
     "metadata": {},
     "output_type": "execute_result"
    }
   ],
   "source": [
    "#Melhor métrica (precision) do grid (CV=10)\n",
    "ada_grid.best_score_"
   ]
  },
  {
   "cell_type": "code",
   "execution_count": 225,
   "metadata": {},
   "outputs": [],
   "source": [
    "#Aplicando modelo na base de teste\n",
    "predictions_ada = ada_grid.predict(x_teste_voted)"
   ]
  },
  {
   "cell_type": "code",
   "execution_count": 226,
   "metadata": {},
   "outputs": [
    {
     "name": "stdout",
     "output_type": "stream",
     "text": [
      "              precision    recall  f1-score   support\n",
      "\n",
      "           0       0.91      0.94      0.92       296\n",
      "           1       0.94      0.90      0.92       291\n",
      "\n",
      "    accuracy                           0.92       587\n",
      "   macro avg       0.92      0.92      0.92       587\n",
      "weighted avg       0.92      0.92      0.92       587\n",
      "\n"
     ]
    }
   ],
   "source": [
    "#Classification Report\n",
    "print(classification_report(y_teste, predictions_ada))"
   ]
  },
  {
   "cell_type": "code",
   "execution_count": 227,
   "metadata": {},
   "outputs": [
    {
     "data": {
      "text/plain": [
       "array([[278,  18],\n",
       "       [ 28, 263]], dtype=int64)"
      ]
     },
     "execution_count": 227,
     "metadata": {},
     "output_type": "execute_result"
    }
   ],
   "source": [
    "#Matriz de Confusão\n",
    "confusion_matrix(y_true=y_teste, y_pred=predictions_ada)"
   ]
  },
  {
   "cell_type": "code",
   "execution_count": 228,
   "metadata": {},
   "outputs": [],
   "source": [
    "#Aplicando modelo sobre a segunda base de teste - XTESTE2\n",
    "predictions_ada_XTESTE2 = ada_grid.predict(XTESTE2)"
   ]
  },
  {
   "cell_type": "code",
   "execution_count": 229,
   "metadata": {},
   "outputs": [
    {
     "name": "stdout",
     "output_type": "stream",
     "text": [
      "              precision    recall  f1-score   support\n",
      "\n",
      "           0       0.95      0.89      0.92       246\n",
      "           1       0.90      0.95      0.92       246\n",
      "\n",
      "    accuracy                           0.92       492\n",
      "   macro avg       0.92      0.92      0.92       492\n",
      "weighted avg       0.92      0.92      0.92       492\n",
      "\n"
     ]
    }
   ],
   "source": [
    "#Classification Report - XTESTE2\n",
    "print(classification_report(YTESTE2, predictions_ada_XTESTE2))"
   ]
  },
  {
   "cell_type": "code",
   "execution_count": 230,
   "metadata": {},
   "outputs": [
    {
     "data": {
      "text/plain": [
       "array([[220,  26],\n",
       "       [ 12, 234]], dtype=int64)"
      ]
     },
     "execution_count": 230,
     "metadata": {},
     "output_type": "execute_result"
    }
   ],
   "source": [
    "#Matriz de Confusão - XTESTE2\n",
    "confusion_matrix(y_true=YTESTE2, y_pred=predictions_ada_XTESTE2)"
   ]
  },
  {
   "cell_type": "markdown",
   "metadata": {},
   "source": [
    "### 5.5.5 Gradient Boosting"
   ]
  },
  {
   "cell_type": "code",
   "execution_count": 231,
   "metadata": {},
   "outputs": [],
   "source": [
    "#Construção do dicionário de hiperparâmnetros\n",
    "gb_dict = {'max_depth':[3,5,8,10],\n",
    "            'max_features':['log2','sqrt'],\n",
    "            'criterion':['friedman_mse',  'mae'],\n",
    "            'random_state':[101]}"
   ]
  },
  {
   "cell_type": "code",
   "execution_count": 232,
   "metadata": {},
   "outputs": [
    {
     "data": {
      "text/plain": [
       "{'max_depth': [3, 5, 8, 10],\n",
       " 'max_features': ['log2', 'sqrt'],\n",
       " 'criterion': ['friedman_mse', 'mae'],\n",
       " 'random_state': [101]}"
      ]
     },
     "execution_count": 232,
     "metadata": {},
     "output_type": "execute_result"
    }
   ],
   "source": [
    "#Visualização do dicionário de hiperparâmnetros\n",
    "gb_dict"
   ]
  },
  {
   "cell_type": "code",
   "execution_count": 233,
   "metadata": {},
   "outputs": [],
   "source": [
    "#Importação do classificador Gradient Boosting\n",
    "from sklearn.ensemble import GradientBoostingClassifier\n",
    "gb = GradientBoostingClassifier(random_state=101)"
   ]
  },
  {
   "cell_type": "code",
   "execution_count": 234,
   "metadata": {},
   "outputs": [],
   "source": [
    "#Criação do grid utilizando Gradient Boosting\n",
    "gb_grid = GridSearchCV(estimator=gb,       # estimador a ser utilizado (gradient boost)\n",
    "                      param_grid=gb_dict,  # dicionario com parametros\n",
    "                      scoring='precision', # métrica de validação (precision)\n",
    "                      cv=10)"
   ]
  },
  {
   "cell_type": "code",
   "execution_count": 235,
   "metadata": {},
   "outputs": [
    {
     "data": {
      "text/plain": [
       "GridSearchCV(cv=10, estimator=GradientBoostingClassifier(random_state=101),\n",
       "             param_grid={'criterion': ['friedman_mse', 'mae'],\n",
       "                         'max_depth': [3, 5, 8, 10],\n",
       "                         'max_features': ['log2', 'sqrt'],\n",
       "                         'random_state': [101]},\n",
       "             scoring='precision')"
      ]
     },
     "execution_count": 235,
     "metadata": {},
     "output_type": "execute_result"
    }
   ],
   "source": [
    "#Treinando modelo Gradient Boosting\n",
    "gb_grid.fit(x_treino_voted, y_treino)"
   ]
  },
  {
   "cell_type": "code",
   "execution_count": 236,
   "metadata": {},
   "outputs": [
    {
     "data": {
      "text/plain": [
       "{'criterion': 'friedman_mse',\n",
       " 'max_depth': 10,\n",
       " 'max_features': 'log2',\n",
       " 'random_state': 101}"
      ]
     },
     "execution_count": 236,
     "metadata": {},
     "output_type": "execute_result"
    }
   ],
   "source": [
    "#Melhores parâmetros do GridSearchCV\n",
    "gb_grid.best_params_"
   ]
  },
  {
   "cell_type": "code",
   "execution_count": 237,
   "metadata": {},
   "outputs": [
    {
     "data": {
      "text/plain": [
       "0.8987330522808985"
      ]
     },
     "execution_count": 237,
     "metadata": {},
     "output_type": "execute_result"
    }
   ],
   "source": [
    "#Melhor Score(precision)\n",
    "gb_grid.best_score_"
   ]
  },
  {
   "cell_type": "code",
   "execution_count": 238,
   "metadata": {},
   "outputs": [],
   "source": [
    "#Aplicando o modelo na base de teste\n",
    "predictions_gb = rf_grid.predict(x_teste_voted)"
   ]
  },
  {
   "cell_type": "code",
   "execution_count": 239,
   "metadata": {},
   "outputs": [
    {
     "name": "stdout",
     "output_type": "stream",
     "text": [
      "              precision    recall  f1-score   support\n",
      "\n",
      "           0       0.88      0.92      0.90       296\n",
      "           1       0.92      0.87      0.89       291\n",
      "\n",
      "    accuracy                           0.90       587\n",
      "   macro avg       0.90      0.90      0.90       587\n",
      "weighted avg       0.90      0.90      0.90       587\n",
      "\n"
     ]
    }
   ],
   "source": [
    "#Classification Report\n",
    "print(classification_report(y_teste, predictions_gb))"
   ]
  },
  {
   "cell_type": "code",
   "execution_count": 240,
   "metadata": {},
   "outputs": [
    {
     "data": {
      "text/plain": [
       "array([[273,  23],\n",
       "       [ 37, 254]], dtype=int64)"
      ]
     },
     "execution_count": 240,
     "metadata": {},
     "output_type": "execute_result"
    }
   ],
   "source": [
    "#Matriz de confusão\n",
    "confusion_matrix(y_true=y_teste, y_pred=predictions_gb)"
   ]
  },
  {
   "cell_type": "code",
   "execution_count": 241,
   "metadata": {},
   "outputs": [],
   "source": [
    "#Aplicando modelo sobre a segunda base de teste - XTESTE2\n",
    "predictions_gb_XTESTE2 = gb_grid.predict(XTESTE2)"
   ]
  },
  {
   "cell_type": "code",
   "execution_count": 242,
   "metadata": {},
   "outputs": [
    {
     "name": "stdout",
     "output_type": "stream",
     "text": [
      "              precision    recall  f1-score   support\n",
      "\n",
      "           0       0.85      0.84      0.84       246\n",
      "           1       0.84      0.85      0.85       246\n",
      "\n",
      "    accuracy                           0.85       492\n",
      "   macro avg       0.85      0.85      0.85       492\n",
      "weighted avg       0.85      0.85      0.85       492\n",
      "\n"
     ]
    }
   ],
   "source": [
    "#Classification Report - XTESTE2\n",
    "print(classification_report(YTESTE2, predictions_gb_XTESTE2))"
   ]
  },
  {
   "cell_type": "code",
   "execution_count": 243,
   "metadata": {},
   "outputs": [
    {
     "data": {
      "text/plain": [
       "array([[206,  40],\n",
       "       [ 36, 210]], dtype=int64)"
      ]
     },
     "execution_count": 243,
     "metadata": {},
     "output_type": "execute_result"
    }
   ],
   "source": [
    "#Matriz de Confusão - XTESTE2\n",
    "confusion_matrix(y_true=YTESTE2, y_pred=predictions_gb_XTESTE2)"
   ]
  },
  {
   "cell_type": "markdown",
   "metadata": {},
   "source": [
    "### 5.5.6 Explorando modelo ADA Boosting"
   ]
  },
  {
   "cell_type": "code",
   "execution_count": 244,
   "metadata": {},
   "outputs": [
    {
     "data": {
      "text/plain": [
       "array([0.003, 0.005, 0.005, 0.866, 0.001, 0.006, 0.   , 0.11 , 0.004])"
      ]
     },
     "execution_count": 244,
     "metadata": {},
     "output_type": "execute_result"
    }
   ],
   "source": [
    "#Importância das features no modelo baseado em ADA Boosting\n",
    "ada_grid.best_estimator_.feature_importances_"
   ]
  },
  {
   "cell_type": "code",
   "execution_count": 245,
   "metadata": {},
   "outputs": [
    {
     "data": {
      "text/html": [
       "<div>\n",
       "<style scoped>\n",
       "    .dataframe tbody tr th:only-of-type {\n",
       "        vertical-align: middle;\n",
       "    }\n",
       "\n",
       "    .dataframe tbody tr th {\n",
       "        vertical-align: top;\n",
       "    }\n",
       "\n",
       "    .dataframe thead th {\n",
       "        text-align: right;\n",
       "    }\n",
       "</style>\n",
       "<table border=\"1\" class=\"dataframe\">\n",
       "  <thead>\n",
       "    <tr style=\"text-align: right;\">\n",
       "      <th></th>\n",
       "      <th>Feature</th>\n",
       "      <th>Importance</th>\n",
       "    </tr>\n",
       "  </thead>\n",
       "  <tbody>\n",
       "    <tr>\n",
       "      <th>0</th>\n",
       "      <td>UF_MT-MS-PR</td>\n",
       "      <td>0.003</td>\n",
       "    </tr>\n",
       "    <tr>\n",
       "      <th>1</th>\n",
       "      <td>TIPO-VEICULO_CARGA-PESADA</td>\n",
       "      <td>0.005</td>\n",
       "    </tr>\n",
       "    <tr>\n",
       "      <th>2</th>\n",
       "      <td>TIPO-VEICULO_CARGA-LEVE</td>\n",
       "      <td>0.005</td>\n",
       "    </tr>\n",
       "    <tr>\n",
       "      <th>3</th>\n",
       "      <td>Conf</td>\n",
       "      <td>0.866</td>\n",
       "    </tr>\n",
       "    <tr>\n",
       "      <th>4</th>\n",
       "      <td>TIPO-VEICULO_miss</td>\n",
       "      <td>0.001</td>\n",
       "    </tr>\n",
       "    <tr>\n",
       "      <th>5</th>\n",
       "      <td>TIPO-VEICULO_CAMINHAO</td>\n",
       "      <td>0.006</td>\n",
       "    </tr>\n",
       "    <tr>\n",
       "      <th>6</th>\n",
       "      <td>COR_miss</td>\n",
       "      <td>0</td>\n",
       "    </tr>\n",
       "    <tr>\n",
       "      <th>7</th>\n",
       "      <td>ANO-FABRICACAO</td>\n",
       "      <td>0.11</td>\n",
       "    </tr>\n",
       "    <tr>\n",
       "      <th>8</th>\n",
       "      <td>5_Dígito_C-A-G-B</td>\n",
       "      <td>0.004</td>\n",
       "    </tr>\n",
       "  </tbody>\n",
       "</table>\n",
       "</div>"
      ],
      "text/plain": [
       "                     Feature Importance\n",
       "0                UF_MT-MS-PR      0.003\n",
       "1  TIPO-VEICULO_CARGA-PESADA      0.005\n",
       "2    TIPO-VEICULO_CARGA-LEVE      0.005\n",
       "3                       Conf      0.866\n",
       "4          TIPO-VEICULO_miss      0.001\n",
       "5      TIPO-VEICULO_CAMINHAO      0.006\n",
       "6                   COR_miss          0\n",
       "7             ANO-FABRICACAO       0.11\n",
       "8           5_Dígito_C-A-G-B      0.004"
      ]
     },
     "execution_count": 245,
     "metadata": {},
     "output_type": "execute_result"
    }
   ],
   "source": [
    "#Contrução de dataframe com a importância das features no modelo ADA Boosting\n",
    "df_feat_importance = pd.DataFrame(data=[x_treino_voted.columns, \n",
    "                                        ada_grid.best_estimator_.feature_importances_],\n",
    "                                        index = ['Feature', 'Importance']).transpose()\n",
    "df_feat_importance"
   ]
  },
  {
   "cell_type": "code",
   "execution_count": 246,
   "metadata": {},
   "outputs": [
    {
     "data": {
      "text/html": [
       "<div>\n",
       "<style scoped>\n",
       "    .dataframe tbody tr th:only-of-type {\n",
       "        vertical-align: middle;\n",
       "    }\n",
       "\n",
       "    .dataframe tbody tr th {\n",
       "        vertical-align: top;\n",
       "    }\n",
       "\n",
       "    .dataframe thead th {\n",
       "        text-align: right;\n",
       "    }\n",
       "</style>\n",
       "<table border=\"1\" class=\"dataframe\">\n",
       "  <thead>\n",
       "    <tr style=\"text-align: right;\">\n",
       "      <th></th>\n",
       "      <th>Feature</th>\n",
       "      <th>Importance</th>\n",
       "    </tr>\n",
       "  </thead>\n",
       "  <tbody>\n",
       "    <tr>\n",
       "      <th>3</th>\n",
       "      <td>Conf</td>\n",
       "      <td>0.866</td>\n",
       "    </tr>\n",
       "    <tr>\n",
       "      <th>7</th>\n",
       "      <td>ANO-FABRICACAO</td>\n",
       "      <td>0.11</td>\n",
       "    </tr>\n",
       "    <tr>\n",
       "      <th>5</th>\n",
       "      <td>TIPO-VEICULO_CAMINHAO</td>\n",
       "      <td>0.006</td>\n",
       "    </tr>\n",
       "    <tr>\n",
       "      <th>1</th>\n",
       "      <td>TIPO-VEICULO_CARGA-PESADA</td>\n",
       "      <td>0.005</td>\n",
       "    </tr>\n",
       "    <tr>\n",
       "      <th>2</th>\n",
       "      <td>TIPO-VEICULO_CARGA-LEVE</td>\n",
       "      <td>0.005</td>\n",
       "    </tr>\n",
       "    <tr>\n",
       "      <th>8</th>\n",
       "      <td>5_Dígito_C-A-G-B</td>\n",
       "      <td>0.004</td>\n",
       "    </tr>\n",
       "    <tr>\n",
       "      <th>0</th>\n",
       "      <td>UF_MT-MS-PR</td>\n",
       "      <td>0.003</td>\n",
       "    </tr>\n",
       "    <tr>\n",
       "      <th>4</th>\n",
       "      <td>TIPO-VEICULO_miss</td>\n",
       "      <td>0.001</td>\n",
       "    </tr>\n",
       "    <tr>\n",
       "      <th>6</th>\n",
       "      <td>COR_miss</td>\n",
       "      <td>0</td>\n",
       "    </tr>\n",
       "  </tbody>\n",
       "</table>\n",
       "</div>"
      ],
      "text/plain": [
       "                     Feature Importance\n",
       "3                       Conf      0.866\n",
       "7             ANO-FABRICACAO       0.11\n",
       "5      TIPO-VEICULO_CAMINHAO      0.006\n",
       "1  TIPO-VEICULO_CARGA-PESADA      0.005\n",
       "2    TIPO-VEICULO_CARGA-LEVE      0.005\n",
       "8           5_Dígito_C-A-G-B      0.004\n",
       "0                UF_MT-MS-PR      0.003\n",
       "4          TIPO-VEICULO_miss      0.001\n",
       "6                   COR_miss          0"
      ]
     },
     "execution_count": 246,
     "metadata": {},
     "output_type": "execute_result"
    }
   ],
   "source": [
    "#Feature Importance em ordem decrescente\n",
    "df_feat_importance_sort = df_feat_importance.sort_values(by = 'Importance', ascending = False)\n",
    "df_feat_importance_sort"
   ]
  },
  {
   "cell_type": "code",
   "execution_count": 247,
   "metadata": {},
   "outputs": [
    {
     "data": {
      "text/plain": [
       "<AxesSubplot:xlabel='Importance', ylabel='Feature'>"
      ]
     },
     "execution_count": 247,
     "metadata": {},
     "output_type": "execute_result"
    },
    {
     "data": {
      "image/png": "[encoded data removed]",
      "text/plain": [
       "<Figure size 432x288 with 1 Axes>"
      ]
     },
     "metadata": {
      "needs_background": "light"
     },
     "output_type": "display_data"
    }
   ],
   "source": [
    "sns.barplot(x = 'Importance', y = 'Feature', data = df_feat_importance_sort,\n",
    "            ci=False, log=True, palette = 'pastel')"
   ]
  },
  {
   "cell_type": "code",
   "execution_count": 248,
   "metadata": {},
   "outputs": [
    {
     "data": {
      "text/plain": [
       "0.976"
      ]
     },
     "execution_count": 248,
     "metadata": {},
     "output_type": "execute_result"
    }
   ],
   "source": [
    "#Duas features mais importantes representam 97%\n",
    "df_feat_importance['Importance'].astype('float').nlargest(2).sum()"
   ]
  },
  {
   "cell_type": "markdown",
   "metadata": {},
   "source": [
    "#### 5.5.6.1 Criação de Modelo ADA Boosting com 2 features"
   ]
  },
  {
   "cell_type": "code",
   "execution_count": 249,
   "metadata": {},
   "outputs": [],
   "source": [
    "#Construção de DF com apenas duas features - Conf e ANO-FABRICACAO\n",
    "x_treino_2_feat = x_treino[['Conf','ANO-FABRICACAO']]\n",
    "x_teste_2_feat = x_teste[['Conf','ANO-FABRICACAO']]\n",
    "XTESTE2_2_feat = XTESTE2[['Conf','ANO-FABRICACAO']]"
   ]
  },
  {
   "cell_type": "code",
   "execution_count": 250,
   "metadata": {},
   "outputs": [],
   "source": [
    "#Criação do grid utilizando GridSearchCV com apenas duas features - Conf e ANO-FABRICACAO\n",
    "ada_grid_2_feat = GridSearchCV(estimator=ada, # estimador a ser utilizado (Ada Boost)\n",
    "                      param_grid=ada_dict,    # dicionario com parâmetros\n",
    "                      scoring='precision',    # métrica de validação: precision\n",
    "                      cv=10)"
   ]
  },
  {
   "cell_type": "code",
   "execution_count": 251,
   "metadata": {},
   "outputs": [
    {
     "data": {
      "text/plain": [
       "GridSearchCV(cv=10, estimator=AdaBoostClassifier(random_state=101),\n",
       "             param_grid={'algorithm': ['SAMME', 'SAMME.R'],\n",
       "                         'learning_rate': [0.5, 1, 1.5],\n",
       "                         'n_estimators': [50, 250, 500, 750, 1000],\n",
       "                         'random_state': [101]},\n",
       "             scoring='precision')"
      ]
     },
     "execution_count": 251,
     "metadata": {},
     "output_type": "execute_result"
    }
   ],
   "source": [
    "#Treinando modelo AdaBoost\n",
    "ada_grid_2_feat.fit(x_treino_2_feat, y_treino)"
   ]
  },
  {
   "cell_type": "code",
   "execution_count": 252,
   "metadata": {},
   "outputs": [
    {
     "data": {
      "text/plain": [
       "{'algorithm': 'SAMME.R',\n",
       " 'learning_rate': 1.5,\n",
       " 'n_estimators': 1000,\n",
       " 'random_state': 101}"
      ]
     },
     "execution_count": 252,
     "metadata": {},
     "output_type": "execute_result"
    }
   ],
   "source": [
    "#Melhores Parâmetros\n",
    "ada_grid_2_feat.best_params_"
   ]
  },
  {
   "cell_type": "code",
   "execution_count": 253,
   "metadata": {},
   "outputs": [
    {
     "data": {
      "text/plain": [
       "0.8997479128976222"
      ]
     },
     "execution_count": 253,
     "metadata": {},
     "output_type": "execute_result"
    }
   ],
   "source": [
    "#Melhor Score(precision)\n",
    "ada_grid_2_feat.best_score_"
   ]
  },
  {
   "cell_type": "code",
   "execution_count": 254,
   "metadata": {},
   "outputs": [],
   "source": [
    "#Aplicando modelo sobre a base de teste\n",
    "predictions_ada_2_feat = ada_grid_2_feat.predict(x_teste_2_feat)"
   ]
  },
  {
   "cell_type": "code",
   "execution_count": 255,
   "metadata": {},
   "outputs": [
    {
     "name": "stdout",
     "output_type": "stream",
     "text": [
      "              precision    recall  f1-score   support\n",
      "\n",
      "           0       0.86      0.90      0.88       296\n",
      "           1       0.90      0.86      0.88       291\n",
      "\n",
      "    accuracy                           0.88       587\n",
      "   macro avg       0.88      0.88      0.88       587\n",
      "weighted avg       0.88      0.88      0.88       587\n",
      "\n"
     ]
    }
   ],
   "source": [
    "#Classification Report\n",
    "print(classification_report(y_teste, predictions_ada_2_feat))"
   ]
  },
  {
   "cell_type": "code",
   "execution_count": 256,
   "metadata": {},
   "outputs": [
    {
     "data": {
      "text/plain": [
       "array([[267,  29],\n",
       "       [ 42, 249]], dtype=int64)"
      ]
     },
     "execution_count": 256,
     "metadata": {},
     "output_type": "execute_result"
    }
   ],
   "source": [
    "#Matriz de Confusão\n",
    "confusion_matrix(y_true=y_teste, y_pred=predictions_ada_2_feat)"
   ]
  },
  {
   "cell_type": "code",
   "execution_count": 257,
   "metadata": {},
   "outputs": [],
   "source": [
    "#Aplicando modelo sobre a segunda base de teste - XTESTE2\n",
    "predictions_ada_2_feat_XTESTE2 = ada_grid_2_feat.predict(XTESTE2_2_feat)"
   ]
  },
  {
   "cell_type": "code",
   "execution_count": 258,
   "metadata": {},
   "outputs": [
    {
     "name": "stdout",
     "output_type": "stream",
     "text": [
      "              precision    recall  f1-score   support\n",
      "\n",
      "           0       0.90      0.91      0.90       246\n",
      "           1       0.91      0.90      0.90       246\n",
      "\n",
      "    accuracy                           0.90       492\n",
      "   macro avg       0.90      0.90      0.90       492\n",
      "weighted avg       0.90      0.90      0.90       492\n",
      "\n"
     ]
    }
   ],
   "source": [
    "#Classification Report\n",
    "print(classification_report(YTESTE2, predictions_ada_2_feat_XTESTE2))"
   ]
  },
  {
   "cell_type": "code",
   "execution_count": 259,
   "metadata": {},
   "outputs": [
    {
     "data": {
      "text/plain": [
       "array([[223,  23],\n",
       "       [ 24, 222]], dtype=int64)"
      ]
     },
     "execution_count": 259,
     "metadata": {},
     "output_type": "execute_result"
    }
   ],
   "source": [
    "#Matriz de Confusão\n",
    "confusion_matrix(y_true=YTESTE2, y_pred=predictions_ada_2_feat_XTESTE2)"
   ]
  },
  {
   "cell_type": "markdown",
   "metadata": {},
   "source": [
    "#### 5.5.6.2 Criação de Modelo ADA Boosting com uma única feature"
   ]
  },
  {
   "cell_type": "code",
   "execution_count": 260,
   "metadata": {},
   "outputs": [],
   "source": [
    "#Construção de DF com apenas uma única feature - Conf\n",
    "x_treino_1_feat = x_treino_2_feat.drop(['ANO-FABRICACAO'], axis=1)\n",
    "x_teste_1_feat = x_teste_2_feat.drop(['ANO-FABRICACAO'], axis=1)\n",
    "XTESTE2_1_feat = XTESTE2_2_feat.drop(['ANO-FABRICACAO'], axis=1)"
   ]
  },
  {
   "cell_type": "code",
   "execution_count": 261,
   "metadata": {},
   "outputs": [],
   "source": [
    "#Criação do grid utilizando GridSearchCV com apenas uma feature - Conf\n",
    "ada_grid_1_feat = GridSearchCV(estimator=ada, # estimador a ser utilizado (Ada Boost)\n",
    "                      param_grid=ada_dict,    # dicionario com parâmetros\n",
    "                      scoring='precision',    # métrica de validação: precision\n",
    "                      cv=10)"
   ]
  },
  {
   "cell_type": "code",
   "execution_count": 262,
   "metadata": {},
   "outputs": [
    {
     "data": {
      "text/plain": [
       "GridSearchCV(cv=10, estimator=AdaBoostClassifier(random_state=101),\n",
       "             param_grid={'algorithm': ['SAMME', 'SAMME.R'],\n",
       "                         'learning_rate': [0.5, 1, 1.5],\n",
       "                         'n_estimators': [50, 250, 500, 750, 1000],\n",
       "                         'random_state': [101]},\n",
       "             scoring='precision')"
      ]
     },
     "execution_count": 262,
     "metadata": {},
     "output_type": "execute_result"
    }
   ],
   "source": [
    "#Treinando modelo AdaBoost\n",
    "ada_grid_1_feat.fit(x_treino_1_feat, y_treino)"
   ]
  },
  {
   "cell_type": "code",
   "execution_count": 263,
   "metadata": {},
   "outputs": [
    {
     "data": {
      "text/plain": [
       "{'algorithm': 'SAMME.R',\n",
       " 'learning_rate': 1.5,\n",
       " 'n_estimators': 1000,\n",
       " 'random_state': 101}"
      ]
     },
     "execution_count": 263,
     "metadata": {},
     "output_type": "execute_result"
    }
   ],
   "source": [
    "#Melhores Parâmetros\n",
    "ada_grid_1_feat.best_params_"
   ]
  },
  {
   "cell_type": "code",
   "execution_count": 264,
   "metadata": {},
   "outputs": [
    {
     "data": {
      "text/plain": [
       "0.8816577896647185"
      ]
     },
     "execution_count": 264,
     "metadata": {},
     "output_type": "execute_result"
    }
   ],
   "source": [
    "#Melhor Score (precision)\n",
    "ada_grid_1_feat.best_score_"
   ]
  },
  {
   "cell_type": "code",
   "execution_count": 265,
   "metadata": {},
   "outputs": [],
   "source": [
    "#Aplicando modelo sobre a base de teste\n",
    "predictions_ada_grid_1_feat = ada_grid_1_feat.predict(x_teste_1_feat)"
   ]
  },
  {
   "cell_type": "code",
   "execution_count": 266,
   "metadata": {},
   "outputs": [
    {
     "name": "stdout",
     "output_type": "stream",
     "text": [
      "              precision    recall  f1-score   support\n",
      "\n",
      "           0       0.81      0.91      0.86       296\n",
      "           1       0.89      0.78      0.84       291\n",
      "\n",
      "    accuracy                           0.85       587\n",
      "   macro avg       0.85      0.85      0.85       587\n",
      "weighted avg       0.85      0.85      0.85       587\n",
      "\n"
     ]
    }
   ],
   "source": [
    "#Classification Report\n",
    "print(classification_report(y_teste,predictions_ada_grid_1_feat))"
   ]
  },
  {
   "cell_type": "code",
   "execution_count": 267,
   "metadata": {},
   "outputs": [
    {
     "data": {
      "text/plain": [
       "array([[269,  27],\n",
       "       [ 63, 228]], dtype=int64)"
      ]
     },
     "execution_count": 267,
     "metadata": {},
     "output_type": "execute_result"
    }
   ],
   "source": [
    "#Matriz de Confusão\n",
    "confusion_matrix(y_true=y_teste, y_pred=predictions_ada_grid_1_feat)"
   ]
  },
  {
   "cell_type": "code",
   "execution_count": 268,
   "metadata": {},
   "outputs": [],
   "source": [
    "#Aplicando modelo sobre a segunda base de teste - XTESTE2\n",
    "predictions_ada_1_feat_XTESTE2 = ada_grid_1_feat.predict(XTESTE2_1_feat)"
   ]
  },
  {
   "cell_type": "code",
   "execution_count": 269,
   "metadata": {},
   "outputs": [
    {
     "name": "stdout",
     "output_type": "stream",
     "text": [
      "              precision    recall  f1-score   support\n",
      "\n",
      "           0       0.84      0.90      0.87       246\n",
      "           1       0.89      0.83      0.86       246\n",
      "\n",
      "    accuracy                           0.87       492\n",
      "   macro avg       0.87      0.87      0.87       492\n",
      "weighted avg       0.87      0.87      0.87       492\n",
      "\n"
     ]
    }
   ],
   "source": [
    "#Classification Report\n",
    "print(classification_report(YTESTE2,predictions_ada_1_feat_XTESTE2))"
   ]
  },
  {
   "cell_type": "code",
   "execution_count": 270,
   "metadata": {},
   "outputs": [
    {
     "data": {
      "text/plain": [
       "array([[222,  24],\n",
       "       [ 42, 204]], dtype=int64)"
      ]
     },
     "execution_count": 270,
     "metadata": {},
     "output_type": "execute_result"
    }
   ],
   "source": [
    "#Matriz de Confusão\n",
    "confusion_matrix(y_true=YTESTE2, y_pred=predictions_ada_1_feat_XTESTE2)"
   ]
  },
  {
   "cell_type": "markdown",
   "metadata": {},
   "source": [
    "# 6 Apresentação dos Resultados"
   ]
  },
  {
   "cell_type": "code",
   "execution_count": 271,
   "metadata": {},
   "outputs": [],
   "source": [
    "precision_ada_treino = precision_score(y_treino, ada_grid.predict(x_treino_voted))\n",
    "precision_ada_teste = precision_score(y_teste, ada_grid.predict(x_teste_voted))\n",
    "precision_ada_TESTE2 = precision_score(YTESTE2, ada_grid.predict(XTESTE2))"
   ]
  },
  {
   "cell_type": "code",
   "execution_count": 272,
   "metadata": {},
   "outputs": [],
   "source": [
    "precision_rf_treino = precision_score(y_treino, rf_grid.predict(x_treino_voted))\n",
    "precision_rf_teste = precision_score(y_teste, rf_grid.predict(x_teste_voted))\n",
    "precision_rf_TESTE2 = precision_score(YTESTE2, rf_grid.predict(XTESTE2))"
   ]
  },
  {
   "cell_type": "code",
   "execution_count": 273,
   "metadata": {},
   "outputs": [],
   "source": [
    "precision_gb_treino = precision_score(y_treino, gb_grid.predict(x_treino_voted))\n",
    "precision_gb_teste = precision_score(y_teste, gb_grid.predict(x_teste_voted))\n",
    "precision_gb_TESTE2 = precision_score(YTESTE2, gb_grid.predict(XTESTE2))"
   ]
  },
  {
   "cell_type": "code",
   "execution_count": 274,
   "metadata": {},
   "outputs": [],
   "source": [
    "precision_lr_treino = precision_score(y_treino, lr_grid.predict(x_treino_voted))\n",
    "precision_lr_teste = precision_score(y_teste, lr_grid.predict(x_teste_voted))\n",
    "precision_lr_TESTE2 = precision_score(YTESTE2, lr_grid.predict(XTESTE2))"
   ]
  },
  {
   "cell_type": "code",
   "execution_count": 275,
   "metadata": {},
   "outputs": [],
   "source": [
    "precision_dt_treino = precision_score(y_treino, dt_grid.predict(x_treino_voted))\n",
    "precision_dt_teste = precision_score(y_teste, dt_grid.predict(x_teste_voted))\n",
    "precision_dt_TESTE2 = precision_score(YTESTE2, dt_grid.predict(XTESTE2))"
   ]
  },
  {
   "cell_type": "code",
   "execution_count": 276,
   "metadata": {
    "scrolled": true
   },
   "outputs": [
    {
     "data": {
      "text/html": [
       "<div>\n",
       "<style scoped>\n",
       "    .dataframe tbody tr th:only-of-type {\n",
       "        vertical-align: middle;\n",
       "    }\n",
       "\n",
       "    .dataframe tbody tr th {\n",
       "        vertical-align: top;\n",
       "    }\n",
       "\n",
       "    .dataframe thead th {\n",
       "        text-align: right;\n",
       "    }\n",
       "</style>\n",
       "<table border=\"1\" class=\"dataframe\">\n",
       "  <thead>\n",
       "    <tr style=\"text-align: right;\">\n",
       "      <th></th>\n",
       "      <th>Modelo</th>\n",
       "      <th>Precision_Treino</th>\n",
       "      <th>Precision_Teste</th>\n",
       "      <th>Precision_Teste_2</th>\n",
       "    </tr>\n",
       "  </thead>\n",
       "  <tbody>\n",
       "    <tr>\n",
       "      <th>4</th>\n",
       "      <td>ADA Boosting</td>\n",
       "      <td>0.943953</td>\n",
       "      <td>0.935943</td>\n",
       "      <td>0.900000</td>\n",
       "    </tr>\n",
       "    <tr>\n",
       "      <th>1</th>\n",
       "      <td>Decision Tree</td>\n",
       "      <td>0.987578</td>\n",
       "      <td>0.920152</td>\n",
       "      <td>0.857143</td>\n",
       "    </tr>\n",
       "    <tr>\n",
       "      <th>0</th>\n",
       "      <td>Regressão Logística</td>\n",
       "      <td>0.874453</td>\n",
       "      <td>0.903915</td>\n",
       "      <td>0.840909</td>\n",
       "    </tr>\n",
       "    <tr>\n",
       "      <th>3</th>\n",
       "      <td>Gradient Boosting</td>\n",
       "      <td>0.994169</td>\n",
       "      <td>0.914286</td>\n",
       "      <td>0.840000</td>\n",
       "    </tr>\n",
       "    <tr>\n",
       "      <th>2</th>\n",
       "      <td>Random Forest</td>\n",
       "      <td>0.995614</td>\n",
       "      <td>0.916968</td>\n",
       "      <td>0.836000</td>\n",
       "    </tr>\n",
       "  </tbody>\n",
       "</table>\n",
       "</div>"
      ],
      "text/plain": [
       "                Modelo  Precision_Treino  Precision_Teste  Precision_Teste_2\n",
       "4         ADA Boosting          0.943953         0.935943           0.900000\n",
       "1        Decision Tree          0.987578         0.920152           0.857143\n",
       "0  Regressão Logística          0.874453         0.903915           0.840909\n",
       "3    Gradient Boosting          0.994169         0.914286           0.840000\n",
       "2        Random Forest          0.995614         0.916968           0.836000"
      ]
     },
     "execution_count": 276,
     "metadata": {},
     "output_type": "execute_result"
    }
   ],
   "source": [
    "models = pd.DataFrame({\n",
    "    'Modelo': ['Regressão Logística',\n",
    "              'Decision Tree', \n",
    "              'Random Forest', \n",
    "              'Gradient Boosting',\n",
    "               'ADA Boosting'],\n",
    "    \n",
    "     'Precision_Treino': [precision_lr_treino,\n",
    "                    precision_dt_treino,\n",
    "                    precision_rf_treino,\n",
    "                    precision_gb_treino,\n",
    "                    precision_ada_treino],   \n",
    "    \n",
    "    'Precision_Teste': [precision_lr_teste,\n",
    "                    precision_dt_teste,\n",
    "                    precision_rf_teste,\n",
    "                    precision_gb_teste,\n",
    "                    precision_ada_teste],\n",
    "    \n",
    "    'Precision_Teste_2': [precision_lr_TESTE2,\n",
    "                    precision_dt_TESTE2,\n",
    "                    precision_rf_TESTE2,\n",
    "                    precision_gb_TESTE2,\n",
    "                    precision_ada_TESTE2]\n",
    "\n",
    "})\n",
    "model_comp = models.sort_values(by='Precision_Teste_2', ascending=False)\n",
    "model_comp = model_comp[['Modelo','Precision_Treino','Precision_Teste','Precision_Teste_2']]\n",
    "model_comp"
   ]
  },
  {
   "cell_type": "code",
   "execution_count": 277,
   "metadata": {},
   "outputs": [
    {
     "data": {
      "text/plain": [
       "array([[278,  18],\n",
       "       [ 28, 263]], dtype=int64)"
      ]
     },
     "execution_count": 277,
     "metadata": {},
     "output_type": "execute_result"
    }
   ],
   "source": [
    "#Matriz de confusão - Modelo Ada Boosting - Primeira Base de Testes\n",
    "cf_ada=confusion_matrix(y_teste,predictions_ada)\n",
    "cf_ada"
   ]
  },
  {
   "cell_type": "code",
   "execution_count": 278,
   "metadata": {},
   "outputs": [
    {
     "data": {
      "text/plain": [
       "<AxesSubplot:>"
      ]
     },
     "execution_count": 278,
     "metadata": {},
     "output_type": "execute_result"
    },
    {
     "data": {
      "image/png": "[encoded data removed]",
      "text/plain": [
       "<Figure size 432x288 with 2 Axes>"
      ]
     },
     "metadata": {
      "needs_background": "light"
     },
     "output_type": "display_data"
    }
   ],
   "source": [
    "#Matriz de Confusão da Primeira Base de Testes\n",
    "sns.heatmap(cf_ada, annot=True,cmap='Blues',fmt='')"
   ]
  },
  {
   "cell_type": "code",
   "execution_count": 279,
   "metadata": {},
   "outputs": [
    {
     "data": {
      "text/plain": [
       "296"
      ]
     },
     "execution_count": 279,
     "metadata": {},
     "output_type": "execute_result"
    }
   ],
   "source": [
    "#Conferência da Quantidade de Leituras Corretas\n",
    "CountLC = (y_teste == 0).sum()\n",
    "CountLC"
   ]
  },
  {
   "cell_type": "code",
   "execution_count": 280,
   "metadata": {},
   "outputs": [
    {
     "data": {
      "text/plain": [
       "291"
      ]
     },
     "execution_count": 280,
     "metadata": {},
     "output_type": "execute_result"
    }
   ],
   "source": [
    "#Conferência da Quantidade de Leituras Incorretas\n",
    "CountLI = (y_teste == 1).sum()\n",
    "CountLI"
   ]
  },
  {
   "cell_type": "code",
   "execution_count": 281,
   "metadata": {},
   "outputs": [
    {
     "data": {
      "text/plain": [
       "array([[220,  26],\n",
       "       [ 12, 234]], dtype=int64)"
      ]
     },
     "execution_count": 281,
     "metadata": {},
     "output_type": "execute_result"
    }
   ],
   "source": [
    "#Matriz de confusão - Modelo Ada Boosting - Segunda Base de Testes\n",
    "cf_ada_XTESTE2=confusion_matrix(YTESTE2,predictions_ada_XTESTE2)\n",
    "cf_ada_XTESTE2"
   ]
  },
  {
   "cell_type": "code",
   "execution_count": 282,
   "metadata": {},
   "outputs": [
    {
     "data": {
      "text/plain": [
       "<AxesSubplot:>"
      ]
     },
     "execution_count": 282,
     "metadata": {},
     "output_type": "execute_result"
    },
    {
     "data": {
      "image/png": "[encoded data removed]",
      "text/plain": [
       "<Figure size 432x288 with 2 Axes>"
      ]
     },
     "metadata": {
      "needs_background": "light"
     },
     "output_type": "display_data"
    }
   ],
   "source": [
    "#Matriz de Confusão da Segunda Base de Testes\n",
    "sns.heatmap(cf_ada_XTESTE2, annot=True,cmap='Blues',fmt='')"
   ]
  },
  {
   "cell_type": "code",
   "execution_count": 283,
   "metadata": {},
   "outputs": [],
   "source": [
    "#Precision ADA Boosting - Voted Features\n",
    "precision_ada_treino = precision_score(y_treino, ada_grid.predict(x_treino_voted))\n",
    "precision_ada_teste = precision_score(y_teste, ada_grid.predict(x_teste_voted))\n",
    "precision_ada_TESTE2 = precision_score(YTESTE2, ada_grid.predict(XTESTE2))"
   ]
  },
  {
   "cell_type": "code",
   "execution_count": 284,
   "metadata": {},
   "outputs": [],
   "source": [
    "#Precision ADA Boosting - 2 Features\n",
    "precision_ada_treino_2_feat = precision_score(y_treino, ada_grid_2_feat.predict(x_treino_2_feat))\n",
    "precision_ada_teste_2_feat = precision_score(y_teste, ada_grid_2_feat.predict(x_teste_2_feat))\n",
    "precision_ada_TESTE2_2_feat = precision_score(YTESTE2, ada_grid_2_feat.predict(XTESTE2_2_feat))"
   ]
  },
  {
   "cell_type": "code",
   "execution_count": 285,
   "metadata": {},
   "outputs": [],
   "source": [
    "#Precision ADA Boosting - 1 Feature\n",
    "precision_ada_treino_1_feat = precision_score(y_treino, ada_grid_1_feat.predict(x_treino_1_feat))\n",
    "precision_ada_teste_1_feat = precision_score(y_teste, ada_grid_1_feat.predict(x_teste_1_feat))\n",
    "precision_ada_TESTE2_1_feat = precision_score(YTESTE2, ada_grid_1_feat.predict(XTESTE2_1_feat))"
   ]
  },
  {
   "cell_type": "code",
   "execution_count": 286,
   "metadata": {},
   "outputs": [
    {
     "data": {
      "text/html": [
       "<div>\n",
       "<style scoped>\n",
       "    .dataframe tbody tr th:only-of-type {\n",
       "        vertical-align: middle;\n",
       "    }\n",
       "\n",
       "    .dataframe tbody tr th {\n",
       "        vertical-align: top;\n",
       "    }\n",
       "\n",
       "    .dataframe thead th {\n",
       "        text-align: right;\n",
       "    }\n",
       "</style>\n",
       "<table border=\"1\" class=\"dataframe\">\n",
       "  <thead>\n",
       "    <tr style=\"text-align: right;\">\n",
       "      <th></th>\n",
       "      <th>Modelo</th>\n",
       "      <th>Precision_Treino</th>\n",
       "      <th>Precision_Teste</th>\n",
       "      <th>Precision_Teste_2</th>\n",
       "    </tr>\n",
       "  </thead>\n",
       "  <tbody>\n",
       "    <tr>\n",
       "      <th>1</th>\n",
       "      <td>2 Features</td>\n",
       "      <td>0.930303</td>\n",
       "      <td>0.895683</td>\n",
       "      <td>0.906122</td>\n",
       "    </tr>\n",
       "    <tr>\n",
       "      <th>0</th>\n",
       "      <td>Voted Features</td>\n",
       "      <td>0.943953</td>\n",
       "      <td>0.935943</td>\n",
       "      <td>0.900000</td>\n",
       "    </tr>\n",
       "    <tr>\n",
       "      <th>2</th>\n",
       "      <td>1 Feature</td>\n",
       "      <td>0.918269</td>\n",
       "      <td>0.894118</td>\n",
       "      <td>0.894737</td>\n",
       "    </tr>\n",
       "  </tbody>\n",
       "</table>\n",
       "</div>"
      ],
      "text/plain": [
       "           Modelo  Precision_Treino  Precision_Teste  Precision_Teste_2\n",
       "1      2 Features          0.930303         0.895683           0.906122\n",
       "0  Voted Features          0.943953         0.935943           0.900000\n",
       "2       1 Feature          0.918269         0.894118           0.894737"
      ]
     },
     "execution_count": 286,
     "metadata": {},
     "output_type": "execute_result"
    }
   ],
   "source": [
    "models_ADA = pd.DataFrame({\n",
    "    'Modelo': ['Voted Features',\n",
    "              '2 Features', \n",
    "              '1 Feature'],\n",
    "   \n",
    "     'Precision_Treino': [precision_ada_treino,\n",
    "                    precision_ada_treino_2_feat,\n",
    "                    precision_ada_treino_1_feat],   \n",
    "    \n",
    "    'Precision_Teste': [precision_ada_teste,\n",
    "                    precision_ada_teste_2_feat,\n",
    "                    precision_ada_teste_1_feat,\n",
    "                    ],\n",
    "    \n",
    "    'Precision_Teste_2': [precision_ada_TESTE2,\n",
    "                    precision_ada_TESTE2_2_feat,\n",
    "                    precision_ada_TESTE2_1_feat,\n",
    "                    ]\n",
    "\n",
    "})\n",
    "models_ADA = models_ADA.sort_values(by='Precision_Teste_2', ascending=False)\n",
    "models_ADA = models_ADA[['Modelo','Precision_Treino','Precision_Teste','Precision_Teste_2']]\n",
    "models_ADA"
   ]
  },
  {
   "cell_type": "code",
   "execution_count": 287,
   "metadata": {},
   "outputs": [
    {
     "data": {
      "text/plain": [
       "array([[223,  23],\n",
       "       [ 24, 222]], dtype=int64)"
      ]
     },
     "execution_count": 287,
     "metadata": {},
     "output_type": "execute_result"
    }
   ],
   "source": [
    "#Matriz de confusão - Modelo Ada Boosting - Duas Features - Segunda Base de Testes\n",
    "cf_ada_2_feat_XTESTE2=confusion_matrix(YTESTE2, predictions_ada_2_feat_XTESTE2)\n",
    "cf_ada_2_feat_XTESTE2"
   ]
  },
  {
   "cell_type": "code",
   "execution_count": 288,
   "metadata": {},
   "outputs": [
    {
     "data": {
      "text/plain": [
       "<AxesSubplot:>"
      ]
     },
     "execution_count": 288,
     "metadata": {},
     "output_type": "execute_result"
    },
    {
     "data": {
      "image/png": "[encoded data removed]",
      "text/plain": [
       "<Figure size 432x288 with 2 Axes>"
      ]
     },
     "metadata": {
      "needs_background": "light"
     },
     "output_type": "display_data"
    }
   ],
   "source": [
    "#Matriz de confusão - Modelo Ada Boosting \n",
    "#Duas Features - Segunda Base de Testes\n",
    "sns.heatmap(cf_ada_2_feat_XTESTE2, annot=True,cmap='Blues',fmt='')"
   ]
  },
  {
   "cell_type": "code",
   "execution_count": 289,
   "metadata": {},
   "outputs": [
    {
     "data": {
      "text/plain": [
       "array([[222,  24],\n",
       "       [ 42, 204]], dtype=int64)"
      ]
     },
     "execution_count": 289,
     "metadata": {},
     "output_type": "execute_result"
    }
   ],
   "source": [
    "#Matriz de confusão - Modelo Ada Boosting - Uma Feature - Segunda Base de Testes\n",
    "cf_ada_1_feat_XTESTE2=confusion_matrix(YTESTE2, predictions_ada_1_feat_XTESTE2)\n",
    "cf_ada_1_feat_XTESTE2"
   ]
  },
  {
   "cell_type": "code",
   "execution_count": 290,
   "metadata": {},
   "outputs": [
    {
     "data": {
      "text/plain": [
       "<AxesSubplot:>"
      ]
     },
     "execution_count": 290,
     "metadata": {},
     "output_type": "execute_result"
    },
    {
     "data": {
      "image/png": "[encoded data removed]",
      "text/plain": [
       "<Figure size 432x288 with 2 Axes>"
      ]
     },
     "metadata": {
      "needs_background": "light"
     },
     "output_type": "display_data"
    }
   ],
   "source": [
    "# Matriz de confusão - Modelo Ada Boosting \n",
    "#Single Feature - Segunda Base de Testes\n",
    "sns.heatmap(cf_ada_1_feat_XTESTE2, annot=True,cmap='Blues',fmt='')"
   ]
  }
 ],
 "metadata": {
  "kernelspec": {
   "display_name": "Python 3",
   "language": "python",
   "name": "python3"
  },
  "language_info": {
   "codemirror_mode": {
    "name": "ipython",
    "version": 3
   },
   "file_extension": ".py",
   "mimetype": "text/x-python",
   "name": "python",
   "nbconvert_exporter": "python",
   "pygments_lexer": "ipython3",
   "version": "3.8.5"
  }
 },
 "nbformat": 4,
 "nbformat_minor": 4
}
